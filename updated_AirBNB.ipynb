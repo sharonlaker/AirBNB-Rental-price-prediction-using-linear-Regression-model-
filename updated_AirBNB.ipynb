{
  "cells": [
    {
      "cell_type": "markdown",
      "source": [
        "**Problem definition**\n",
        "\n",
        "AirBnB is an online marketplace and hospitality service for short-term lodging, it was founded in 2008 by a group of three men  Brian Chesky, Joe Gebbia, and Nathan Blecharczyk as AirBed & Breakfast, As the years went by, the share of professional hospitality providers has significantly increased and is now crowding out the private providers, threatening AirBnB’s value proposition of offering unique service and personal touch. Because of this, the marketing department decided to run a campaign to attract more private providers. To achieve this, they requested me as a senior data analylst to come up with a pricing model that can effectively predict the Rental room and can help hosts, travelers, and also the business in devising profitable strategie.\n",
        "\n",
        "**Questions to be answered**\n",
        "\n",
        "*  To provides interesting insights that can benefit a host looking to maximize their profits\n",
        "*   To come up with a pricing model that can effectively predict the Rent for accommodation and can help hosts, travelers, and also the business in devising profitable strategies.\n",
        "\n",
        "**Data Background and context**\n",
        "\n",
        "The data is collected from the AirBnB website. The considered dataset contains 74111 entries with 11 of both dependant and  independent variables, The data contains information about the different types of rental rooms offered by Airbnb over a fixed period of time.\n",
        "\n",
        "**Univariate analysis**\n",
        "\n",
        "This is the most basic form of data analysis technique, we shall perform it to understand the data contained by individual variable(one variable), To do this, we shall first use describe function to get the descriptive statistics of continuous variables then use the different plots to help us carry out the analysis.\n",
        "\n",
        "**Bivariate analysis**\n",
        "\n",
        "This analysis is slightly more analytical than Univariate analysis. We will use it to undertake comparsion between the data. To acheive this, we will first use the corr function to construct the correlation matrix to understand the relationship between the contionuous variables.\n",
        "\n",
        "\n",
        "\n",
        "\n"
      ],
      "metadata": {
        "id": "-1zfwQGdoZcw"
      }
    },
    {
      "cell_type": "markdown",
      "metadata": {
        "id": "KnOeRrfqnZdQ"
      },
      "source": [
        "**Import Libraries**"
      ]
    },
    {
      "cell_type": "code",
      "execution_count": 1,
      "metadata": {
        "id": "tt3eL1MP1q4I"
      },
      "outputs": [],
      "source": [
        "import pandas as pd\n",
        "import numpy as np\n",
        "import matplotlib.pyplot as plt\n",
        "%matplotlib inline\n",
        "import seaborn as sns\n",
        "from scipy import stats\n",
        "pd.set_option('display.float_format', lambda x: '%.3f' % x) # to display numbers in digits\n",
        "\n",
        "# To build linear model for prediction\n",
        "from sklearn.linear_model import LinearRegression\n",
        "\n",
        "# To check model performance\n",
        "from sklearn.metrics import mean_squared_error, r2_score, mean_absolute_error\n",
        "# Forward Feature Selection\n",
        "import joblib\n",
        "\n",
        "import warnings\n",
        "warnings.filterwarnings(\"ignore\")"
      ]
    },
    {
      "cell_type": "code",
      "execution_count": 2,
      "metadata": {
        "colab": {
          "base_uri": "https://localhost:8080/",
          "height": 73
        },
        "id": "4dsx0kqS7Kb6",
        "outputId": "ae66cd8c-3bd4-4e29-c652-25a7fd2d72ad"
      },
      "outputs": [
        {
          "output_type": "display_data",
          "data": {
            "text/plain": [
              "<IPython.core.display.HTML object>"
            ],
            "text/html": [
              "\n",
              "     <input type=\"file\" id=\"files-ad80ddcd-8adc-44a2-b389-fc65be9cd278\" name=\"files[]\" multiple disabled\n",
              "        style=\"border:none\" />\n",
              "     <output id=\"result-ad80ddcd-8adc-44a2-b389-fc65be9cd278\">\n",
              "      Upload widget is only available when the cell has been executed in the\n",
              "      current browser session. Please rerun this cell to enable.\n",
              "      </output>\n",
              "      <script>// Copyright 2017 Google LLC\n",
              "//\n",
              "// Licensed under the Apache License, Version 2.0 (the \"License\");\n",
              "// you may not use this file except in compliance with the License.\n",
              "// You may obtain a copy of the License at\n",
              "//\n",
              "//      http://www.apache.org/licenses/LICENSE-2.0\n",
              "//\n",
              "// Unless required by applicable law or agreed to in writing, software\n",
              "// distributed under the License is distributed on an \"AS IS\" BASIS,\n",
              "// WITHOUT WARRANTIES OR CONDITIONS OF ANY KIND, either express or implied.\n",
              "// See the License for the specific language governing permissions and\n",
              "// limitations under the License.\n",
              "\n",
              "/**\n",
              " * @fileoverview Helpers for google.colab Python module.\n",
              " */\n",
              "(function(scope) {\n",
              "function span(text, styleAttributes = {}) {\n",
              "  const element = document.createElement('span');\n",
              "  element.textContent = text;\n",
              "  for (const key of Object.keys(styleAttributes)) {\n",
              "    element.style[key] = styleAttributes[key];\n",
              "  }\n",
              "  return element;\n",
              "}\n",
              "\n",
              "// Max number of bytes which will be uploaded at a time.\n",
              "const MAX_PAYLOAD_SIZE = 100 * 1024;\n",
              "\n",
              "function _uploadFiles(inputId, outputId) {\n",
              "  const steps = uploadFilesStep(inputId, outputId);\n",
              "  const outputElement = document.getElementById(outputId);\n",
              "  // Cache steps on the outputElement to make it available for the next call\n",
              "  // to uploadFilesContinue from Python.\n",
              "  outputElement.steps = steps;\n",
              "\n",
              "  return _uploadFilesContinue(outputId);\n",
              "}\n",
              "\n",
              "// This is roughly an async generator (not supported in the browser yet),\n",
              "// where there are multiple asynchronous steps and the Python side is going\n",
              "// to poll for completion of each step.\n",
              "// This uses a Promise to block the python side on completion of each step,\n",
              "// then passes the result of the previous step as the input to the next step.\n",
              "function _uploadFilesContinue(outputId) {\n",
              "  const outputElement = document.getElementById(outputId);\n",
              "  const steps = outputElement.steps;\n",
              "\n",
              "  const next = steps.next(outputElement.lastPromiseValue);\n",
              "  return Promise.resolve(next.value.promise).then((value) => {\n",
              "    // Cache the last promise value to make it available to the next\n",
              "    // step of the generator.\n",
              "    outputElement.lastPromiseValue = value;\n",
              "    return next.value.response;\n",
              "  });\n",
              "}\n",
              "\n",
              "/**\n",
              " * Generator function which is called between each async step of the upload\n",
              " * process.\n",
              " * @param {string} inputId Element ID of the input file picker element.\n",
              " * @param {string} outputId Element ID of the output display.\n",
              " * @return {!Iterable<!Object>} Iterable of next steps.\n",
              " */\n",
              "function* uploadFilesStep(inputId, outputId) {\n",
              "  const inputElement = document.getElementById(inputId);\n",
              "  inputElement.disabled = false;\n",
              "\n",
              "  const outputElement = document.getElementById(outputId);\n",
              "  outputElement.innerHTML = '';\n",
              "\n",
              "  const pickedPromise = new Promise((resolve) => {\n",
              "    inputElement.addEventListener('change', (e) => {\n",
              "      resolve(e.target.files);\n",
              "    });\n",
              "  });\n",
              "\n",
              "  const cancel = document.createElement('button');\n",
              "  inputElement.parentElement.appendChild(cancel);\n",
              "  cancel.textContent = 'Cancel upload';\n",
              "  const cancelPromise = new Promise((resolve) => {\n",
              "    cancel.onclick = () => {\n",
              "      resolve(null);\n",
              "    };\n",
              "  });\n",
              "\n",
              "  // Wait for the user to pick the files.\n",
              "  const files = yield {\n",
              "    promise: Promise.race([pickedPromise, cancelPromise]),\n",
              "    response: {\n",
              "      action: 'starting',\n",
              "    }\n",
              "  };\n",
              "\n",
              "  cancel.remove();\n",
              "\n",
              "  // Disable the input element since further picks are not allowed.\n",
              "  inputElement.disabled = true;\n",
              "\n",
              "  if (!files) {\n",
              "    return {\n",
              "      response: {\n",
              "        action: 'complete',\n",
              "      }\n",
              "    };\n",
              "  }\n",
              "\n",
              "  for (const file of files) {\n",
              "    const li = document.createElement('li');\n",
              "    li.append(span(file.name, {fontWeight: 'bold'}));\n",
              "    li.append(span(\n",
              "        `(${file.type || 'n/a'}) - ${file.size} bytes, ` +\n",
              "        `last modified: ${\n",
              "            file.lastModifiedDate ? file.lastModifiedDate.toLocaleDateString() :\n",
              "                                    'n/a'} - `));\n",
              "    const percent = span('0% done');\n",
              "    li.appendChild(percent);\n",
              "\n",
              "    outputElement.appendChild(li);\n",
              "\n",
              "    const fileDataPromise = new Promise((resolve) => {\n",
              "      const reader = new FileReader();\n",
              "      reader.onload = (e) => {\n",
              "        resolve(e.target.result);\n",
              "      };\n",
              "      reader.readAsArrayBuffer(file);\n",
              "    });\n",
              "    // Wait for the data to be ready.\n",
              "    let fileData = yield {\n",
              "      promise: fileDataPromise,\n",
              "      response: {\n",
              "        action: 'continue',\n",
              "      }\n",
              "    };\n",
              "\n",
              "    // Use a chunked sending to avoid message size limits. See b/62115660.\n",
              "    let position = 0;\n",
              "    do {\n",
              "      const length = Math.min(fileData.byteLength - position, MAX_PAYLOAD_SIZE);\n",
              "      const chunk = new Uint8Array(fileData, position, length);\n",
              "      position += length;\n",
              "\n",
              "      const base64 = btoa(String.fromCharCode.apply(null, chunk));\n",
              "      yield {\n",
              "        response: {\n",
              "          action: 'append',\n",
              "          file: file.name,\n",
              "          data: base64,\n",
              "        },\n",
              "      };\n",
              "\n",
              "      let percentDone = fileData.byteLength === 0 ?\n",
              "          100 :\n",
              "          Math.round((position / fileData.byteLength) * 100);\n",
              "      percent.textContent = `${percentDone}% done`;\n",
              "\n",
              "    } while (position < fileData.byteLength);\n",
              "  }\n",
              "\n",
              "  // All done.\n",
              "  yield {\n",
              "    response: {\n",
              "      action: 'complete',\n",
              "    }\n",
              "  };\n",
              "}\n",
              "\n",
              "scope.google = scope.google || {};\n",
              "scope.google.colab = scope.google.colab || {};\n",
              "scope.google.colab._files = {\n",
              "  _uploadFiles,\n",
              "  _uploadFilesContinue,\n",
              "};\n",
              "})(self);\n",
              "</script> "
            ]
          },
          "metadata": {}
        },
        {
          "output_type": "stream",
          "name": "stdout",
          "text": [
            "Saving AirBNB.csv to AirBNB.csv\n"
          ]
        }
      ],
      "source": [
        "# loading dataset\n",
        "\n",
        "from google.colab import files\n",
        "uploaded = files.upload()"
      ]
    },
    {
      "cell_type": "code",
      "execution_count": 3,
      "metadata": {
        "id": "Ar_R56I_82Eh"
      },
      "outputs": [],
      "source": [
        "# reading dataset\n",
        "\n",
        "# import io\n",
        "# AirBNB = pd.read_csv(io.BytesIO(uploaded['AirBNB.csv']))\n",
        "\n",
        "AirBNB = pd.read_csv(\"AirBNB.csv\")\n"
      ]
    },
    {
      "cell_type": "code",
      "execution_count": 4,
      "metadata": {
        "colab": {
          "base_uri": "https://localhost:8080/"
        },
        "id": "D0Viq1eg1gfU",
        "outputId": "71186449-6195-4186-fed3-82f448fc5cea"
      },
      "outputs": [
        {
          "output_type": "execute_result",
          "data": {
            "text/plain": [
              "(74111, 11)"
            ]
          },
          "metadata": {},
          "execution_count": 4
        }
      ],
      "source": [
        "# getting the shape of the data\n",
        "\n",
        "AirBNB.shape"
      ]
    },
    {
      "cell_type": "code",
      "execution_count": 5,
      "metadata": {
        "colab": {
          "base_uri": "https://localhost:8080/",
          "height": 357
        },
        "id": "_BocYBes-FOv",
        "outputId": "e35b4f01-4969-4a1b-9b04-d7153e09b624"
      },
      "outputs": [
        {
          "output_type": "execute_result",
          "data": {
            "text/plain": [
              "             id        room_type  accommodates  bathrooms cancellation_policy  \\\n",
              "56850  13586614  Entire home/apt         5.000      2.000              strict   \n",
              "68140  18222981     Private room         3.000      1.000              strict   \n",
              "23189  13915528  Entire home/apt         2.000      1.000              strict   \n",
              "47255   7122067     Private room         1.000      1.000            flexible   \n",
              "45933  12384924  Entire home/apt         5.000      2.000              strict   \n",
              "\n",
              "      cleaning_fee instant_bookable  review_scores_rating  bedrooms  beds  \\\n",
              "56850        False                f               100.000     2.000 3.000   \n",
              "68140         True                f                95.000     1.000 2.000   \n",
              "23189         True                f                95.000     1.000 2.000   \n",
              "47255        False                f               100.000     1.000 1.000   \n",
              "45933         True                f                95.000     2.000 3.000   \n",
              "\n",
              "       log_price  \n",
              "56850      7.409  \n",
              "68140      4.605  \n",
              "23189      4.094  \n",
              "47255      4.317  \n",
              "45933      5.434  "
            ],
            "text/html": [
              "\n",
              "  <div id=\"df-11db9f7f-91f9-4735-8f32-3600d9a65d25\">\n",
              "    <div class=\"colab-df-container\">\n",
              "      <div>\n",
              "<style scoped>\n",
              "    .dataframe tbody tr th:only-of-type {\n",
              "        vertical-align: middle;\n",
              "    }\n",
              "\n",
              "    .dataframe tbody tr th {\n",
              "        vertical-align: top;\n",
              "    }\n",
              "\n",
              "    .dataframe thead th {\n",
              "        text-align: right;\n",
              "    }\n",
              "</style>\n",
              "<table border=\"1\" class=\"dataframe\">\n",
              "  <thead>\n",
              "    <tr style=\"text-align: right;\">\n",
              "      <th></th>\n",
              "      <th>id</th>\n",
              "      <th>room_type</th>\n",
              "      <th>accommodates</th>\n",
              "      <th>bathrooms</th>\n",
              "      <th>cancellation_policy</th>\n",
              "      <th>cleaning_fee</th>\n",
              "      <th>instant_bookable</th>\n",
              "      <th>review_scores_rating</th>\n",
              "      <th>bedrooms</th>\n",
              "      <th>beds</th>\n",
              "      <th>log_price</th>\n",
              "    </tr>\n",
              "  </thead>\n",
              "  <tbody>\n",
              "    <tr>\n",
              "      <th>56850</th>\n",
              "      <td>13586614</td>\n",
              "      <td>Entire home/apt</td>\n",
              "      <td>5.000</td>\n",
              "      <td>2.000</td>\n",
              "      <td>strict</td>\n",
              "      <td>False</td>\n",
              "      <td>f</td>\n",
              "      <td>100.000</td>\n",
              "      <td>2.000</td>\n",
              "      <td>3.000</td>\n",
              "      <td>7.409</td>\n",
              "    </tr>\n",
              "    <tr>\n",
              "      <th>68140</th>\n",
              "      <td>18222981</td>\n",
              "      <td>Private room</td>\n",
              "      <td>3.000</td>\n",
              "      <td>1.000</td>\n",
              "      <td>strict</td>\n",
              "      <td>True</td>\n",
              "      <td>f</td>\n",
              "      <td>95.000</td>\n",
              "      <td>1.000</td>\n",
              "      <td>2.000</td>\n",
              "      <td>4.605</td>\n",
              "    </tr>\n",
              "    <tr>\n",
              "      <th>23189</th>\n",
              "      <td>13915528</td>\n",
              "      <td>Entire home/apt</td>\n",
              "      <td>2.000</td>\n",
              "      <td>1.000</td>\n",
              "      <td>strict</td>\n",
              "      <td>True</td>\n",
              "      <td>f</td>\n",
              "      <td>95.000</td>\n",
              "      <td>1.000</td>\n",
              "      <td>2.000</td>\n",
              "      <td>4.094</td>\n",
              "    </tr>\n",
              "    <tr>\n",
              "      <th>47255</th>\n",
              "      <td>7122067</td>\n",
              "      <td>Private room</td>\n",
              "      <td>1.000</td>\n",
              "      <td>1.000</td>\n",
              "      <td>flexible</td>\n",
              "      <td>False</td>\n",
              "      <td>f</td>\n",
              "      <td>100.000</td>\n",
              "      <td>1.000</td>\n",
              "      <td>1.000</td>\n",
              "      <td>4.317</td>\n",
              "    </tr>\n",
              "    <tr>\n",
              "      <th>45933</th>\n",
              "      <td>12384924</td>\n",
              "      <td>Entire home/apt</td>\n",
              "      <td>5.000</td>\n",
              "      <td>2.000</td>\n",
              "      <td>strict</td>\n",
              "      <td>True</td>\n",
              "      <td>f</td>\n",
              "      <td>95.000</td>\n",
              "      <td>2.000</td>\n",
              "      <td>3.000</td>\n",
              "      <td>5.434</td>\n",
              "    </tr>\n",
              "  </tbody>\n",
              "</table>\n",
              "</div>\n",
              "      <button class=\"colab-df-convert\" onclick=\"convertToInteractive('df-11db9f7f-91f9-4735-8f32-3600d9a65d25')\"\n",
              "              title=\"Convert this dataframe to an interactive table.\"\n",
              "              style=\"display:none;\">\n",
              "        \n",
              "  <svg xmlns=\"http://www.w3.org/2000/svg\" height=\"24px\"viewBox=\"0 0 24 24\"\n",
              "       width=\"24px\">\n",
              "    <path d=\"M0 0h24v24H0V0z\" fill=\"none\"/>\n",
              "    <path d=\"M18.56 5.44l.94 2.06.94-2.06 2.06-.94-2.06-.94-.94-2.06-.94 2.06-2.06.94zm-11 1L8.5 8.5l.94-2.06 2.06-.94-2.06-.94L8.5 2.5l-.94 2.06-2.06.94zm10 10l.94 2.06.94-2.06 2.06-.94-2.06-.94-.94-2.06-.94 2.06-2.06.94z\"/><path d=\"M17.41 7.96l-1.37-1.37c-.4-.4-.92-.59-1.43-.59-.52 0-1.04.2-1.43.59L10.3 9.45l-7.72 7.72c-.78.78-.78 2.05 0 2.83L4 21.41c.39.39.9.59 1.41.59.51 0 1.02-.2 1.41-.59l7.78-7.78 2.81-2.81c.8-.78.8-2.07 0-2.86zM5.41 20L4 18.59l7.72-7.72 1.47 1.35L5.41 20z\"/>\n",
              "  </svg>\n",
              "      </button>\n",
              "      \n",
              "  <style>\n",
              "    .colab-df-container {\n",
              "      display:flex;\n",
              "      flex-wrap:wrap;\n",
              "      gap: 12px;\n",
              "    }\n",
              "\n",
              "    .colab-df-convert {\n",
              "      background-color: #E8F0FE;\n",
              "      border: none;\n",
              "      border-radius: 50%;\n",
              "      cursor: pointer;\n",
              "      display: none;\n",
              "      fill: #1967D2;\n",
              "      height: 32px;\n",
              "      padding: 0 0 0 0;\n",
              "      width: 32px;\n",
              "    }\n",
              "\n",
              "    .colab-df-convert:hover {\n",
              "      background-color: #E2EBFA;\n",
              "      box-shadow: 0px 1px 2px rgba(60, 64, 67, 0.3), 0px 1px 3px 1px rgba(60, 64, 67, 0.15);\n",
              "      fill: #174EA6;\n",
              "    }\n",
              "\n",
              "    [theme=dark] .colab-df-convert {\n",
              "      background-color: #3B4455;\n",
              "      fill: #D2E3FC;\n",
              "    }\n",
              "\n",
              "    [theme=dark] .colab-df-convert:hover {\n",
              "      background-color: #434B5C;\n",
              "      box-shadow: 0px 1px 3px 1px rgba(0, 0, 0, 0.15);\n",
              "      filter: drop-shadow(0px 1px 2px rgba(0, 0, 0, 0.3));\n",
              "      fill: #FFFFFF;\n",
              "    }\n",
              "  </style>\n",
              "\n",
              "      <script>\n",
              "        const buttonEl =\n",
              "          document.querySelector('#df-11db9f7f-91f9-4735-8f32-3600d9a65d25 button.colab-df-convert');\n",
              "        buttonEl.style.display =\n",
              "          google.colab.kernel.accessAllowed ? 'block' : 'none';\n",
              "\n",
              "        async function convertToInteractive(key) {\n",
              "          const element = document.querySelector('#df-11db9f7f-91f9-4735-8f32-3600d9a65d25');\n",
              "          const dataTable =\n",
              "            await google.colab.kernel.invokeFunction('convertToInteractive',\n",
              "                                                     [key], {});\n",
              "          if (!dataTable) return;\n",
              "\n",
              "          const docLinkHtml = 'Like what you see? Visit the ' +\n",
              "            '<a target=\"_blank\" href=https://colab.research.google.com/notebooks/data_table.ipynb>data table notebook</a>'\n",
              "            + ' to learn more about interactive tables.';\n",
              "          element.innerHTML = '';\n",
              "          dataTable['output_type'] = 'display_data';\n",
              "          await google.colab.output.renderOutput(dataTable, element);\n",
              "          const docLink = document.createElement('div');\n",
              "          docLink.innerHTML = docLinkHtml;\n",
              "          element.appendChild(docLink);\n",
              "        }\n",
              "      </script>\n",
              "    </div>\n",
              "  </div>\n",
              "  "
            ]
          },
          "metadata": {},
          "execution_count": 5
        }
      ],
      "source": [
        " # To get the same random results every time it runs\n",
        "\n",
        "np.random.seed(1)\n",
        "AirBNB.sample(n=5)"
      ]
    },
    {
      "cell_type": "markdown",
      "metadata": {
        "id": "7a5M10JP2WaG"
      },
      "source": [
        "\n",
        "\n",
        "*   The id column will not be a significant factor in the prediction of the rental price since its just an index for data entry  rental price."
      ]
    },
    {
      "cell_type": "code",
      "execution_count": 6,
      "metadata": {
        "colab": {
          "base_uri": "https://localhost:8080/"
        },
        "id": "garvELWb2Saj",
        "outputId": "f3a811ae-6270-4583-ef5d-02d16e1f6172"
      },
      "outputs": [
        {
          "output_type": "stream",
          "name": "stdout",
          "text": [
            "<class 'pandas.core.frame.DataFrame'>\n",
            "RangeIndex: 74111 entries, 0 to 74110\n",
            "Data columns (total 11 columns):\n",
            " #   Column                Non-Null Count  Dtype  \n",
            "---  ------                --------------  -----  \n",
            " 0   id                    74111 non-null  int64  \n",
            " 1   room_type             74106 non-null  object \n",
            " 2   accommodates          74108 non-null  float64\n",
            " 3   bathrooms             73908 non-null  float64\n",
            " 4   cancellation_policy   74103 non-null  object \n",
            " 5   cleaning_fee          74107 non-null  object \n",
            " 6   instant_bookable      74111 non-null  object \n",
            " 7   review_scores_rating  57389 non-null  float64\n",
            " 8   bedrooms              74019 non-null  float64\n",
            " 9   beds                  73980 non-null  float64\n",
            " 10  log_price             74111 non-null  float64\n",
            "dtypes: float64(6), int64(1), object(4)\n",
            "memory usage: 6.2+ MB\n"
          ]
        }
      ],
      "source": [
        "AirBNB.info()"
      ]
    },
    {
      "cell_type": "markdown",
      "metadata": {
        "id": "SOY__e5s6uhv"
      },
      "source": [
        "\n",
        "\n",
        "\n",
        "*   74111 Entries\n",
        "*   Dataset has 7 numerical columns, and 4 columns defined as *object*\n",
        "* We will have to change all the 'object' Dtypes to 'category'\n",
        "\n",
        "\n",
        "\n",
        "\n",
        "\n",
        "\n",
        "\n",
        "\n",
        "\n",
        "\n"
      ]
    },
    {
      "cell_type": "code",
      "execution_count": 7,
      "metadata": {
        "colab": {
          "base_uri": "https://localhost:8080/"
        },
        "id": "73lAguAW6fe8",
        "outputId": "992cf50f-bc77-4136-9803-2de7e0c21405"
      },
      "outputs": [
        {
          "output_type": "execute_result",
          "data": {
            "text/plain": [
              "id                          0\n",
              "room_type                   5\n",
              "accommodates                3\n",
              "bathrooms                 203\n",
              "cancellation_policy         8\n",
              "cleaning_fee                4\n",
              "instant_bookable            0\n",
              "review_scores_rating    16722\n",
              "bedrooms                   92\n",
              "beds                      131\n",
              "log_price                   0\n",
              "dtype: int64"
            ]
          },
          "metadata": {},
          "execution_count": 7
        }
      ],
      "source": [
        "# querying for total of null data in each column\n",
        "\n",
        "AirBNB.isnull().sum()"
      ]
    },
    {
      "cell_type": "markdown",
      "metadata": {
        "id": "wYuckZiK7fKu"
      },
      "source": [
        "\n",
        "There are alot of missing values as seen with review_score having the highest, this will be the hardness to fix since we do not know weather the score started from zero or some other figure \n",
        "\n",
        "\n"
      ]
    },
    {
      "cell_type": "code",
      "execution_count": 8,
      "metadata": {
        "colab": {
          "base_uri": "https://localhost:8080/"
        },
        "id": "LbKimhoE8svh",
        "outputId": "e1dbd0f6-f321-4f3c-a374-7ededd056ad0"
      },
      "outputs": [
        {
          "output_type": "execute_result",
          "data": {
            "text/plain": [
              "id                      0\n",
              "room_type               0\n",
              "accommodates            0\n",
              "bathrooms               0\n",
              "cancellation_policy     0\n",
              "cleaning_fee            0\n",
              "instant_bookable        0\n",
              "review_scores_rating    0\n",
              "bedrooms                0\n",
              "beds                    0\n",
              "log_price               0\n",
              "dtype: int64"
            ]
          },
          "metadata": {},
          "execution_count": 8
        }
      ],
      "source": [
        "# querying for duplicates\n",
        "\n",
        "AirBNB[AirBNB.duplicated()].count()"
      ]
    },
    {
      "cell_type": "markdown",
      "metadata": {
        "id": "qR54LQ9dCQ8c"
      },
      "source": [
        "As seen there is no duplicate data"
      ]
    },
    {
      "cell_type": "code",
      "execution_count": 9,
      "metadata": {
        "colab": {
          "base_uri": "https://localhost:8080/"
        },
        "id": "jkXLFMhO8wCO",
        "outputId": "41f655a9-3fb3-43cd-d83e-5505599f0a5a"
      },
      "outputs": [
        {
          "output_type": "execute_result",
          "data": {
            "text/plain": [
              "id                      74111\n",
              "room_type                   3\n",
              "accommodates               16\n",
              "bathrooms                  17\n",
              "cancellation_policy         3\n",
              "cleaning_fee                2\n",
              "instant_bookable            2\n",
              "review_scores_rating       54\n",
              "bedrooms                   11\n",
              "beds                       18\n",
              "log_price                 767\n",
              "dtype: int64"
            ]
          },
          "metadata": {},
          "execution_count": 9
        }
      ],
      "source": [
        "# query for unique values\n",
        "\n",
        "AirBNB.nunique()"
      ]
    },
    {
      "cell_type": "markdown",
      "metadata": {
        "id": "rMTYnJYp9G5b"
      },
      "source": [
        "\n",
        "*  log_price has the second hidgest unique value count\n",
        "* The most important ones are the 'category' Dtypes after we change them from objects \n",
        "\n",
        "\n"
      ]
    },
    {
      "cell_type": "code",
      "execution_count": 10,
      "metadata": {
        "colab": {
          "base_uri": "https://localhost:8080/",
          "height": 476
        },
        "id": "0k8cbf1UEdM1",
        "outputId": "8a3f8e28-8ef3-43f7-b7c0-2beafbf17068"
      },
      "outputs": [
        {
          "output_type": "execute_result",
          "data": {
            "text/plain": [
              "                         count unique              top   freq         mean  \\\n",
              "id                   74111.000    NaN              NaN    NaN 11266617.102   \n",
              "room_type                74106      3  Entire home/apt  41308          NaN   \n",
              "accommodates         74108.000    NaN              NaN    NaN        3.155   \n",
              "bathrooms            73908.000    NaN              NaN    NaN        1.235   \n",
              "cancellation_policy      74103      3           strict  32500          NaN   \n",
              "cleaning_fee             74107      2             True  54399          NaN   \n",
              "instant_bookable         74111      2                f  54660          NaN   \n",
              "review_scores_rating 57389.000    NaN              NaN    NaN       94.067   \n",
              "bedrooms             74019.000    NaN              NaN    NaN        1.266   \n",
              "beds                 73980.000    NaN              NaN    NaN        1.711   \n",
              "log_price            74111.000    NaN              NaN    NaN        4.782   \n",
              "\n",
              "                             std     min         25%          50%  \\\n",
              "id                   6081734.887 344.000 6261964.500 12254147.000   \n",
              "room_type                    NaN     NaN         NaN          NaN   \n",
              "accommodates               2.154   1.000       2.000        2.000   \n",
              "bathrooms                  0.582   0.000       1.000        1.000   \n",
              "cancellation_policy          NaN     NaN         NaN          NaN   \n",
              "cleaning_fee                 NaN     NaN         NaN          NaN   \n",
              "instant_bookable             NaN     NaN         NaN          NaN   \n",
              "review_scores_rating       7.837  20.000      92.000       96.000   \n",
              "bedrooms                   0.852   0.000       1.000        1.000   \n",
              "beds                       1.254   0.000       1.000        1.000   \n",
              "log_price                  0.717   0.000       4.317        4.710   \n",
              "\n",
              "                              75%          max  \n",
              "id                   16402260.500 21230903.000  \n",
              "room_type                     NaN          NaN  \n",
              "accommodates                4.000       16.000  \n",
              "bathrooms                   1.000        8.000  \n",
              "cancellation_policy           NaN          NaN  \n",
              "cleaning_fee                  NaN          NaN  \n",
              "instant_bookable              NaN          NaN  \n",
              "review_scores_rating      100.000      100.000  \n",
              "bedrooms                    1.000       10.000  \n",
              "beds                        2.000       18.000  \n",
              "log_price                   5.220        7.600  "
            ],
            "text/html": [
              "\n",
              "  <div id=\"df-c0f8d845-2e0b-42fe-8614-f00b30e4f219\">\n",
              "    <div class=\"colab-df-container\">\n",
              "      <div>\n",
              "<style scoped>\n",
              "    .dataframe tbody tr th:only-of-type {\n",
              "        vertical-align: middle;\n",
              "    }\n",
              "\n",
              "    .dataframe tbody tr th {\n",
              "        vertical-align: top;\n",
              "    }\n",
              "\n",
              "    .dataframe thead th {\n",
              "        text-align: right;\n",
              "    }\n",
              "</style>\n",
              "<table border=\"1\" class=\"dataframe\">\n",
              "  <thead>\n",
              "    <tr style=\"text-align: right;\">\n",
              "      <th></th>\n",
              "      <th>count</th>\n",
              "      <th>unique</th>\n",
              "      <th>top</th>\n",
              "      <th>freq</th>\n",
              "      <th>mean</th>\n",
              "      <th>std</th>\n",
              "      <th>min</th>\n",
              "      <th>25%</th>\n",
              "      <th>50%</th>\n",
              "      <th>75%</th>\n",
              "      <th>max</th>\n",
              "    </tr>\n",
              "  </thead>\n",
              "  <tbody>\n",
              "    <tr>\n",
              "      <th>id</th>\n",
              "      <td>74111.000</td>\n",
              "      <td>NaN</td>\n",
              "      <td>NaN</td>\n",
              "      <td>NaN</td>\n",
              "      <td>11266617.102</td>\n",
              "      <td>6081734.887</td>\n",
              "      <td>344.000</td>\n",
              "      <td>6261964.500</td>\n",
              "      <td>12254147.000</td>\n",
              "      <td>16402260.500</td>\n",
              "      <td>21230903.000</td>\n",
              "    </tr>\n",
              "    <tr>\n",
              "      <th>room_type</th>\n",
              "      <td>74106</td>\n",
              "      <td>3</td>\n",
              "      <td>Entire home/apt</td>\n",
              "      <td>41308</td>\n",
              "      <td>NaN</td>\n",
              "      <td>NaN</td>\n",
              "      <td>NaN</td>\n",
              "      <td>NaN</td>\n",
              "      <td>NaN</td>\n",
              "      <td>NaN</td>\n",
              "      <td>NaN</td>\n",
              "    </tr>\n",
              "    <tr>\n",
              "      <th>accommodates</th>\n",
              "      <td>74108.000</td>\n",
              "      <td>NaN</td>\n",
              "      <td>NaN</td>\n",
              "      <td>NaN</td>\n",
              "      <td>3.155</td>\n",
              "      <td>2.154</td>\n",
              "      <td>1.000</td>\n",
              "      <td>2.000</td>\n",
              "      <td>2.000</td>\n",
              "      <td>4.000</td>\n",
              "      <td>16.000</td>\n",
              "    </tr>\n",
              "    <tr>\n",
              "      <th>bathrooms</th>\n",
              "      <td>73908.000</td>\n",
              "      <td>NaN</td>\n",
              "      <td>NaN</td>\n",
              "      <td>NaN</td>\n",
              "      <td>1.235</td>\n",
              "      <td>0.582</td>\n",
              "      <td>0.000</td>\n",
              "      <td>1.000</td>\n",
              "      <td>1.000</td>\n",
              "      <td>1.000</td>\n",
              "      <td>8.000</td>\n",
              "    </tr>\n",
              "    <tr>\n",
              "      <th>cancellation_policy</th>\n",
              "      <td>74103</td>\n",
              "      <td>3</td>\n",
              "      <td>strict</td>\n",
              "      <td>32500</td>\n",
              "      <td>NaN</td>\n",
              "      <td>NaN</td>\n",
              "      <td>NaN</td>\n",
              "      <td>NaN</td>\n",
              "      <td>NaN</td>\n",
              "      <td>NaN</td>\n",
              "      <td>NaN</td>\n",
              "    </tr>\n",
              "    <tr>\n",
              "      <th>cleaning_fee</th>\n",
              "      <td>74107</td>\n",
              "      <td>2</td>\n",
              "      <td>True</td>\n",
              "      <td>54399</td>\n",
              "      <td>NaN</td>\n",
              "      <td>NaN</td>\n",
              "      <td>NaN</td>\n",
              "      <td>NaN</td>\n",
              "      <td>NaN</td>\n",
              "      <td>NaN</td>\n",
              "      <td>NaN</td>\n",
              "    </tr>\n",
              "    <tr>\n",
              "      <th>instant_bookable</th>\n",
              "      <td>74111</td>\n",
              "      <td>2</td>\n",
              "      <td>f</td>\n",
              "      <td>54660</td>\n",
              "      <td>NaN</td>\n",
              "      <td>NaN</td>\n",
              "      <td>NaN</td>\n",
              "      <td>NaN</td>\n",
              "      <td>NaN</td>\n",
              "      <td>NaN</td>\n",
              "      <td>NaN</td>\n",
              "    </tr>\n",
              "    <tr>\n",
              "      <th>review_scores_rating</th>\n",
              "      <td>57389.000</td>\n",
              "      <td>NaN</td>\n",
              "      <td>NaN</td>\n",
              "      <td>NaN</td>\n",
              "      <td>94.067</td>\n",
              "      <td>7.837</td>\n",
              "      <td>20.000</td>\n",
              "      <td>92.000</td>\n",
              "      <td>96.000</td>\n",
              "      <td>100.000</td>\n",
              "      <td>100.000</td>\n",
              "    </tr>\n",
              "    <tr>\n",
              "      <th>bedrooms</th>\n",
              "      <td>74019.000</td>\n",
              "      <td>NaN</td>\n",
              "      <td>NaN</td>\n",
              "      <td>NaN</td>\n",
              "      <td>1.266</td>\n",
              "      <td>0.852</td>\n",
              "      <td>0.000</td>\n",
              "      <td>1.000</td>\n",
              "      <td>1.000</td>\n",
              "      <td>1.000</td>\n",
              "      <td>10.000</td>\n",
              "    </tr>\n",
              "    <tr>\n",
              "      <th>beds</th>\n",
              "      <td>73980.000</td>\n",
              "      <td>NaN</td>\n",
              "      <td>NaN</td>\n",
              "      <td>NaN</td>\n",
              "      <td>1.711</td>\n",
              "      <td>1.254</td>\n",
              "      <td>0.000</td>\n",
              "      <td>1.000</td>\n",
              "      <td>1.000</td>\n",
              "      <td>2.000</td>\n",
              "      <td>18.000</td>\n",
              "    </tr>\n",
              "    <tr>\n",
              "      <th>log_price</th>\n",
              "      <td>74111.000</td>\n",
              "      <td>NaN</td>\n",
              "      <td>NaN</td>\n",
              "      <td>NaN</td>\n",
              "      <td>4.782</td>\n",
              "      <td>0.717</td>\n",
              "      <td>0.000</td>\n",
              "      <td>4.317</td>\n",
              "      <td>4.710</td>\n",
              "      <td>5.220</td>\n",
              "      <td>7.600</td>\n",
              "    </tr>\n",
              "  </tbody>\n",
              "</table>\n",
              "</div>\n",
              "      <button class=\"colab-df-convert\" onclick=\"convertToInteractive('df-c0f8d845-2e0b-42fe-8614-f00b30e4f219')\"\n",
              "              title=\"Convert this dataframe to an interactive table.\"\n",
              "              style=\"display:none;\">\n",
              "        \n",
              "  <svg xmlns=\"http://www.w3.org/2000/svg\" height=\"24px\"viewBox=\"0 0 24 24\"\n",
              "       width=\"24px\">\n",
              "    <path d=\"M0 0h24v24H0V0z\" fill=\"none\"/>\n",
              "    <path d=\"M18.56 5.44l.94 2.06.94-2.06 2.06-.94-2.06-.94-.94-2.06-.94 2.06-2.06.94zm-11 1L8.5 8.5l.94-2.06 2.06-.94-2.06-.94L8.5 2.5l-.94 2.06-2.06.94zm10 10l.94 2.06.94-2.06 2.06-.94-2.06-.94-.94-2.06-.94 2.06-2.06.94z\"/><path d=\"M17.41 7.96l-1.37-1.37c-.4-.4-.92-.59-1.43-.59-.52 0-1.04.2-1.43.59L10.3 9.45l-7.72 7.72c-.78.78-.78 2.05 0 2.83L4 21.41c.39.39.9.59 1.41.59.51 0 1.02-.2 1.41-.59l7.78-7.78 2.81-2.81c.8-.78.8-2.07 0-2.86zM5.41 20L4 18.59l7.72-7.72 1.47 1.35L5.41 20z\"/>\n",
              "  </svg>\n",
              "      </button>\n",
              "      \n",
              "  <style>\n",
              "    .colab-df-container {\n",
              "      display:flex;\n",
              "      flex-wrap:wrap;\n",
              "      gap: 12px;\n",
              "    }\n",
              "\n",
              "    .colab-df-convert {\n",
              "      background-color: #E8F0FE;\n",
              "      border: none;\n",
              "      border-radius: 50%;\n",
              "      cursor: pointer;\n",
              "      display: none;\n",
              "      fill: #1967D2;\n",
              "      height: 32px;\n",
              "      padding: 0 0 0 0;\n",
              "      width: 32px;\n",
              "    }\n",
              "\n",
              "    .colab-df-convert:hover {\n",
              "      background-color: #E2EBFA;\n",
              "      box-shadow: 0px 1px 2px rgba(60, 64, 67, 0.3), 0px 1px 3px 1px rgba(60, 64, 67, 0.15);\n",
              "      fill: #174EA6;\n",
              "    }\n",
              "\n",
              "    [theme=dark] .colab-df-convert {\n",
              "      background-color: #3B4455;\n",
              "      fill: #D2E3FC;\n",
              "    }\n",
              "\n",
              "    [theme=dark] .colab-df-convert:hover {\n",
              "      background-color: #434B5C;\n",
              "      box-shadow: 0px 1px 3px 1px rgba(0, 0, 0, 0.15);\n",
              "      filter: drop-shadow(0px 1px 2px rgba(0, 0, 0, 0.3));\n",
              "      fill: #FFFFFF;\n",
              "    }\n",
              "  </style>\n",
              "\n",
              "      <script>\n",
              "        const buttonEl =\n",
              "          document.querySelector('#df-c0f8d845-2e0b-42fe-8614-f00b30e4f219 button.colab-df-convert');\n",
              "        buttonEl.style.display =\n",
              "          google.colab.kernel.accessAllowed ? 'block' : 'none';\n",
              "\n",
              "        async function convertToInteractive(key) {\n",
              "          const element = document.querySelector('#df-c0f8d845-2e0b-42fe-8614-f00b30e4f219');\n",
              "          const dataTable =\n",
              "            await google.colab.kernel.invokeFunction('convertToInteractive',\n",
              "                                                     [key], {});\n",
              "          if (!dataTable) return;\n",
              "\n",
              "          const docLinkHtml = 'Like what you see? Visit the ' +\n",
              "            '<a target=\"_blank\" href=https://colab.research.google.com/notebooks/data_table.ipynb>data table notebook</a>'\n",
              "            + ' to learn more about interactive tables.';\n",
              "          element.innerHTML = '';\n",
              "          dataTable['output_type'] = 'display_data';\n",
              "          await google.colab.output.renderOutput(dataTable, element);\n",
              "          const docLink = document.createElement('div');\n",
              "          docLink.innerHTML = docLinkHtml;\n",
              "          element.appendChild(docLink);\n",
              "        }\n",
              "      </script>\n",
              "    </div>\n",
              "  </div>\n",
              "  "
            ]
          },
          "metadata": {},
          "execution_count": 10
        }
      ],
      "source": [
        "# A quick summary of all the data columns\n",
        "\n",
        "AirBNB.describe(include='all').T"
      ]
    },
    {
      "cell_type": "markdown",
      "metadata": {
        "id": "zON0x178AGTe"
      },
      "source": [
        "**Quick Insights**\n",
        "\n",
        "* The most frequent room_type is *Entire home/apt*\n",
        "* accommodates has average number of 3 guests, and 75% of the guests are group of 4\n",
        "* One is the common number of bathrooms\n",
        "* Most places are considering *strict* canellation_policy\n",
        "* Most places are charging cleaning_fees\n",
        "* instant_bookable is not preferred by most place-owners\n",
        "* The average review_scores_rating is above 94%\n",
        "* One is also the common number of beds\n",
        "* log_price in average is 4.78 and goes up tp 7.60\n",
        "* accommodates min is 1.0 to 16 max\n",
        "* bathrooms min is 0 to 8 max\n",
        "* review_scores_rating min is 20 to 100 max\n",
        "\n",
        "\n",
        "\n",
        "\n",
        "\n"
      ]
    },
    {
      "cell_type": "code",
      "execution_count": 11,
      "metadata": {
        "colab": {
          "base_uri": "https://localhost:8080/"
        },
        "id": "jUatkZAQ-BP0",
        "outputId": "455a2982-6916-4a52-811c-034ecaa93917"
      },
      "outputs": [
        {
          "output_type": "stream",
          "name": "stdout",
          "text": [
            "Entire home/apt    41308\n",
            "Private room       30635\n",
            "Shared room         2163\n",
            "NaN                    5\n",
            "Name: room_type, dtype: int64\n",
            "\n",
            "\n",
            "\n",
            "strict      32500\n",
            "flexible    22543\n",
            "moderate    19060\n",
            "NaN             8\n",
            "Name: cancellation_policy, dtype: int64\n",
            "\n",
            "\n",
            "\n",
            "True     54399\n",
            "False    19708\n",
            "NaN          4\n",
            "Name: cleaning_fee, dtype: int64\n",
            "\n",
            "\n",
            "\n",
            "f    54660\n",
            "t    19451\n",
            "Name: instant_bookable, dtype: int64\n",
            "\n",
            "\n",
            "\n"
          ]
        }
      ],
      "source": [
        "# digging into the above inslight, looking at value counts for non-numeric features only\n",
        "\n",
        "num_to_display = 10  \n",
        "for colname in AirBNB.dtypes[AirBNB.dtypes == 'object'].index:\n",
        "    val_counts = AirBNB[colname].value_counts(dropna=False) # including the null count\n",
        "    print(val_counts[:num_to_display])\n",
        "    if len(val_counts) > num_to_display:\n",
        "        print(f'Only displaying first {num_to_display} of {len(val_counts)} values.')\n",
        "    print('\\n\\n') # just for more space between "
      ]
    },
    {
      "cell_type": "markdown",
      "metadata": {
        "id": "qsJvQ8wkBdhm"
      },
      "source": [
        "**Key Observations**"
      ]
    },
    {
      "cell_type": "markdown",
      "metadata": {
        "id": "0SO6VEE7BlTr"
      },
      "source": [
        "\n",
        "\n",
        "* Most of the home for rent are Entire home/apt at 41308\n",
        "* About 32500 have a very strict cancellation policy\n",
        "* About 54399 have a cleaning fee\n",
        "* About 19451 have a instant bookalbe option\n",
        "\n",
        "\n"
      ]
    },
    {
      "cell_type": "markdown",
      "metadata": {
        "id": "1EF__jLaCLnb"
      },
      "source": [
        "# Data Pre-Processing "
      ]
    },
    {
      "cell_type": "code",
      "execution_count": 12,
      "metadata": {
        "colab": {
          "base_uri": "https://localhost:8080/"
        },
        "id": "6MBLbW0xCyC-",
        "outputId": "a3a74ac6-0f41-4795-dd23-cffa082a936e"
      },
      "outputs": [
        {
          "output_type": "execute_result",
          "data": {
            "text/plain": [
              "Index(['room_type', 'cancellation_policy', 'cleaning_fee', 'instant_bookable'], dtype='object')"
            ]
          },
          "metadata": {},
          "execution_count": 12
        }
      ],
      "source": [
        "# query for Dtype\n",
        "\n",
        "cols = AirBNB.select_dtypes(['object'])\n",
        "cols.columns"
      ]
    },
    {
      "cell_type": "code",
      "execution_count": 13,
      "metadata": {
        "id": "uQvcFvXHSfwv"
      },
      "outputs": [],
      "source": [
        "for i in cols.columns:\n",
        "    AirBNB[i] = AirBNB[i].astype('category')"
      ]
    },
    {
      "cell_type": "code",
      "execution_count": 14,
      "metadata": {
        "colab": {
          "base_uri": "https://localhost:8080/"
        },
        "id": "cdC3cbxhC1Pa",
        "outputId": "ffe0f21b-f396-4fe3-b612-8a03803047cf"
      },
      "outputs": [
        {
          "output_type": "stream",
          "name": "stdout",
          "text": [
            "<class 'pandas.core.frame.DataFrame'>\n",
            "RangeIndex: 74111 entries, 0 to 74110\n",
            "Data columns (total 11 columns):\n",
            " #   Column                Non-Null Count  Dtype   \n",
            "---  ------                --------------  -----   \n",
            " 0   id                    74111 non-null  int64   \n",
            " 1   room_type             74106 non-null  category\n",
            " 2   accommodates          74108 non-null  float64 \n",
            " 3   bathrooms             73908 non-null  float64 \n",
            " 4   cancellation_policy   74103 non-null  category\n",
            " 5   cleaning_fee          74107 non-null  category\n",
            " 6   instant_bookable      74111 non-null  category\n",
            " 7   review_scores_rating  57389 non-null  float64 \n",
            " 8   bedrooms              74019 non-null  float64 \n",
            " 9   beds                  73980 non-null  float64 \n",
            " 10  log_price             74111 non-null  float64 \n",
            "dtypes: category(4), float64(6), int64(1)\n",
            "memory usage: 4.2 MB\n"
          ]
        }
      ],
      "source": [
        "AirBNB.info()"
      ]
    },
    {
      "cell_type": "markdown",
      "metadata": {
        "id": "Xr4xFrF-TS2J"
      },
      "source": [
        "**Converted all object datatypes to Category**"
      ]
    },
    {
      "cell_type": "markdown",
      "metadata": {
        "id": "v0O5qzs7DIeE"
      },
      "source": [
        "#### Missing Values"
      ]
    },
    {
      "cell_type": "code",
      "execution_count": 15,
      "metadata": {
        "id": "MdL2ybqgC3_w"
      },
      "outputs": [],
      "source": [
        "# Replacing all missing values with NaN\n",
        "\n",
        "AirBNB = AirBNB.replace('?', np.nan)"
      ]
    },
    {
      "cell_type": "code",
      "execution_count": 16,
      "metadata": {
        "colab": {
          "base_uri": "https://localhost:8080/",
          "height": 601
        },
        "id": "53-7vYNkDTGK",
        "outputId": "4bb1279e-e75c-4c1e-f349-9a928e75791a"
      },
      "outputs": [
        {
          "output_type": "execute_result",
          "data": {
            "text/plain": [
              "             id        room_type  accommodates  bathrooms cancellation_policy  \\\n",
              "59601  13567393  Entire home/apt         3.000      2.000            flexible   \n",
              "43446  17640554  Entire home/apt         4.000      1.000              strict   \n",
              "7997     600295  Entire home/apt         4.000      1.000              strict   \n",
              "17414   6079197     Private room         1.000      1.000            moderate   \n",
              "3957    1180537  Entire home/apt         8.000      2.000              strict   \n",
              "6033   19504042  Entire home/apt         2.000      1.500            moderate   \n",
              "29784   4802374     Private room         2.000      1.000              strict   \n",
              "19117    349841  Entire home/apt         3.000      1.000            flexible   \n",
              "23723   6741968     Private room         2.000      1.000            flexible   \n",
              "35746   6115291     Private room         2.000      2.000            moderate   \n",
              "\n",
              "      cleaning_fee instant_bookable  review_scores_rating  bedrooms  beds  \\\n",
              "59601        False                f                   NaN     2.000 1.000   \n",
              "43446         True                t                88.000     0.000 1.000   \n",
              "7997          True                f               100.000     2.000 2.000   \n",
              "17414         True                f               100.000     1.000 1.000   \n",
              "3957          True                f                99.000     4.000 4.000   \n",
              "6033          True                f               100.000     1.000 1.000   \n",
              "29784         True                f               100.000     1.000 1.000   \n",
              "19117         True                f                   NaN     1.000 1.000   \n",
              "23723         True                t                   NaN     1.000 1.000   \n",
              "35746         True                f                97.000     1.000 1.000   \n",
              "\n",
              "       log_price  \n",
              "59601      4.248  \n",
              "43446      4.500  \n",
              "7997       5.298  \n",
              "17414      3.434  \n",
              "3957       5.989  \n",
              "6033       4.787  \n",
              "29784      4.443  \n",
              "19117      5.142  \n",
              "23723      4.078  \n",
              "35746      4.443  "
            ],
            "text/html": [
              "\n",
              "  <div id=\"df-47c10851-28a5-4a99-a36d-c2d965724baf\">\n",
              "    <div class=\"colab-df-container\">\n",
              "      <div>\n",
              "<style scoped>\n",
              "    .dataframe tbody tr th:only-of-type {\n",
              "        vertical-align: middle;\n",
              "    }\n",
              "\n",
              "    .dataframe tbody tr th {\n",
              "        vertical-align: top;\n",
              "    }\n",
              "\n",
              "    .dataframe thead th {\n",
              "        text-align: right;\n",
              "    }\n",
              "</style>\n",
              "<table border=\"1\" class=\"dataframe\">\n",
              "  <thead>\n",
              "    <tr style=\"text-align: right;\">\n",
              "      <th></th>\n",
              "      <th>id</th>\n",
              "      <th>room_type</th>\n",
              "      <th>accommodates</th>\n",
              "      <th>bathrooms</th>\n",
              "      <th>cancellation_policy</th>\n",
              "      <th>cleaning_fee</th>\n",
              "      <th>instant_bookable</th>\n",
              "      <th>review_scores_rating</th>\n",
              "      <th>bedrooms</th>\n",
              "      <th>beds</th>\n",
              "      <th>log_price</th>\n",
              "    </tr>\n",
              "  </thead>\n",
              "  <tbody>\n",
              "    <tr>\n",
              "      <th>59601</th>\n",
              "      <td>13567393</td>\n",
              "      <td>Entire home/apt</td>\n",
              "      <td>3.000</td>\n",
              "      <td>2.000</td>\n",
              "      <td>flexible</td>\n",
              "      <td>False</td>\n",
              "      <td>f</td>\n",
              "      <td>NaN</td>\n",
              "      <td>2.000</td>\n",
              "      <td>1.000</td>\n",
              "      <td>4.248</td>\n",
              "    </tr>\n",
              "    <tr>\n",
              "      <th>43446</th>\n",
              "      <td>17640554</td>\n",
              "      <td>Entire home/apt</td>\n",
              "      <td>4.000</td>\n",
              "      <td>1.000</td>\n",
              "      <td>strict</td>\n",
              "      <td>True</td>\n",
              "      <td>t</td>\n",
              "      <td>88.000</td>\n",
              "      <td>0.000</td>\n",
              "      <td>1.000</td>\n",
              "      <td>4.500</td>\n",
              "    </tr>\n",
              "    <tr>\n",
              "      <th>7997</th>\n",
              "      <td>600295</td>\n",
              "      <td>Entire home/apt</td>\n",
              "      <td>4.000</td>\n",
              "      <td>1.000</td>\n",
              "      <td>strict</td>\n",
              "      <td>True</td>\n",
              "      <td>f</td>\n",
              "      <td>100.000</td>\n",
              "      <td>2.000</td>\n",
              "      <td>2.000</td>\n",
              "      <td>5.298</td>\n",
              "    </tr>\n",
              "    <tr>\n",
              "      <th>17414</th>\n",
              "      <td>6079197</td>\n",
              "      <td>Private room</td>\n",
              "      <td>1.000</td>\n",
              "      <td>1.000</td>\n",
              "      <td>moderate</td>\n",
              "      <td>True</td>\n",
              "      <td>f</td>\n",
              "      <td>100.000</td>\n",
              "      <td>1.000</td>\n",
              "      <td>1.000</td>\n",
              "      <td>3.434</td>\n",
              "    </tr>\n",
              "    <tr>\n",
              "      <th>3957</th>\n",
              "      <td>1180537</td>\n",
              "      <td>Entire home/apt</td>\n",
              "      <td>8.000</td>\n",
              "      <td>2.000</td>\n",
              "      <td>strict</td>\n",
              "      <td>True</td>\n",
              "      <td>f</td>\n",
              "      <td>99.000</td>\n",
              "      <td>4.000</td>\n",
              "      <td>4.000</td>\n",
              "      <td>5.989</td>\n",
              "    </tr>\n",
              "    <tr>\n",
              "      <th>6033</th>\n",
              "      <td>19504042</td>\n",
              "      <td>Entire home/apt</td>\n",
              "      <td>2.000</td>\n",
              "      <td>1.500</td>\n",
              "      <td>moderate</td>\n",
              "      <td>True</td>\n",
              "      <td>f</td>\n",
              "      <td>100.000</td>\n",
              "      <td>1.000</td>\n",
              "      <td>1.000</td>\n",
              "      <td>4.787</td>\n",
              "    </tr>\n",
              "    <tr>\n",
              "      <th>29784</th>\n",
              "      <td>4802374</td>\n",
              "      <td>Private room</td>\n",
              "      <td>2.000</td>\n",
              "      <td>1.000</td>\n",
              "      <td>strict</td>\n",
              "      <td>True</td>\n",
              "      <td>f</td>\n",
              "      <td>100.000</td>\n",
              "      <td>1.000</td>\n",
              "      <td>1.000</td>\n",
              "      <td>4.443</td>\n",
              "    </tr>\n",
              "    <tr>\n",
              "      <th>19117</th>\n",
              "      <td>349841</td>\n",
              "      <td>Entire home/apt</td>\n",
              "      <td>3.000</td>\n",
              "      <td>1.000</td>\n",
              "      <td>flexible</td>\n",
              "      <td>True</td>\n",
              "      <td>f</td>\n",
              "      <td>NaN</td>\n",
              "      <td>1.000</td>\n",
              "      <td>1.000</td>\n",
              "      <td>5.142</td>\n",
              "    </tr>\n",
              "    <tr>\n",
              "      <th>23723</th>\n",
              "      <td>6741968</td>\n",
              "      <td>Private room</td>\n",
              "      <td>2.000</td>\n",
              "      <td>1.000</td>\n",
              "      <td>flexible</td>\n",
              "      <td>True</td>\n",
              "      <td>t</td>\n",
              "      <td>NaN</td>\n",
              "      <td>1.000</td>\n",
              "      <td>1.000</td>\n",
              "      <td>4.078</td>\n",
              "    </tr>\n",
              "    <tr>\n",
              "      <th>35746</th>\n",
              "      <td>6115291</td>\n",
              "      <td>Private room</td>\n",
              "      <td>2.000</td>\n",
              "      <td>2.000</td>\n",
              "      <td>moderate</td>\n",
              "      <td>True</td>\n",
              "      <td>f</td>\n",
              "      <td>97.000</td>\n",
              "      <td>1.000</td>\n",
              "      <td>1.000</td>\n",
              "      <td>4.443</td>\n",
              "    </tr>\n",
              "  </tbody>\n",
              "</table>\n",
              "</div>\n",
              "      <button class=\"colab-df-convert\" onclick=\"convertToInteractive('df-47c10851-28a5-4a99-a36d-c2d965724baf')\"\n",
              "              title=\"Convert this dataframe to an interactive table.\"\n",
              "              style=\"display:none;\">\n",
              "        \n",
              "  <svg xmlns=\"http://www.w3.org/2000/svg\" height=\"24px\"viewBox=\"0 0 24 24\"\n",
              "       width=\"24px\">\n",
              "    <path d=\"M0 0h24v24H0V0z\" fill=\"none\"/>\n",
              "    <path d=\"M18.56 5.44l.94 2.06.94-2.06 2.06-.94-2.06-.94-.94-2.06-.94 2.06-2.06.94zm-11 1L8.5 8.5l.94-2.06 2.06-.94-2.06-.94L8.5 2.5l-.94 2.06-2.06.94zm10 10l.94 2.06.94-2.06 2.06-.94-2.06-.94-.94-2.06-.94 2.06-2.06.94z\"/><path d=\"M17.41 7.96l-1.37-1.37c-.4-.4-.92-.59-1.43-.59-.52 0-1.04.2-1.43.59L10.3 9.45l-7.72 7.72c-.78.78-.78 2.05 0 2.83L4 21.41c.39.39.9.59 1.41.59.51 0 1.02-.2 1.41-.59l7.78-7.78 2.81-2.81c.8-.78.8-2.07 0-2.86zM5.41 20L4 18.59l7.72-7.72 1.47 1.35L5.41 20z\"/>\n",
              "  </svg>\n",
              "      </button>\n",
              "      \n",
              "  <style>\n",
              "    .colab-df-container {\n",
              "      display:flex;\n",
              "      flex-wrap:wrap;\n",
              "      gap: 12px;\n",
              "    }\n",
              "\n",
              "    .colab-df-convert {\n",
              "      background-color: #E8F0FE;\n",
              "      border: none;\n",
              "      border-radius: 50%;\n",
              "      cursor: pointer;\n",
              "      display: none;\n",
              "      fill: #1967D2;\n",
              "      height: 32px;\n",
              "      padding: 0 0 0 0;\n",
              "      width: 32px;\n",
              "    }\n",
              "\n",
              "    .colab-df-convert:hover {\n",
              "      background-color: #E2EBFA;\n",
              "      box-shadow: 0px 1px 2px rgba(60, 64, 67, 0.3), 0px 1px 3px 1px rgba(60, 64, 67, 0.15);\n",
              "      fill: #174EA6;\n",
              "    }\n",
              "\n",
              "    [theme=dark] .colab-df-convert {\n",
              "      background-color: #3B4455;\n",
              "      fill: #D2E3FC;\n",
              "    }\n",
              "\n",
              "    [theme=dark] .colab-df-convert:hover {\n",
              "      background-color: #434B5C;\n",
              "      box-shadow: 0px 1px 3px 1px rgba(0, 0, 0, 0.15);\n",
              "      filter: drop-shadow(0px 1px 2px rgba(0, 0, 0, 0.3));\n",
              "      fill: #FFFFFF;\n",
              "    }\n",
              "  </style>\n",
              "\n",
              "      <script>\n",
              "        const buttonEl =\n",
              "          document.querySelector('#df-47c10851-28a5-4a99-a36d-c2d965724baf button.colab-df-convert');\n",
              "        buttonEl.style.display =\n",
              "          google.colab.kernel.accessAllowed ? 'block' : 'none';\n",
              "\n",
              "        async function convertToInteractive(key) {\n",
              "          const element = document.querySelector('#df-47c10851-28a5-4a99-a36d-c2d965724baf');\n",
              "          const dataTable =\n",
              "            await google.colab.kernel.invokeFunction('convertToInteractive',\n",
              "                                                     [key], {});\n",
              "          if (!dataTable) return;\n",
              "\n",
              "          const docLinkHtml = 'Like what you see? Visit the ' +\n",
              "            '<a target=\"_blank\" href=https://colab.research.google.com/notebooks/data_table.ipynb>data table notebook</a>'\n",
              "            + ' to learn more about interactive tables.';\n",
              "          element.innerHTML = '';\n",
              "          dataTable['output_type'] = 'display_data';\n",
              "          await google.colab.output.renderOutput(dataTable, element);\n",
              "          const docLink = document.createElement('div');\n",
              "          docLink.innerHTML = docLinkHtml;\n",
              "          element.appendChild(docLink);\n",
              "        }\n",
              "      </script>\n",
              "    </div>\n",
              "  </div>\n",
              "  "
            ]
          },
          "metadata": {},
          "execution_count": 16
        }
      ],
      "source": [
        "AirBNB.sample(n=10)"
      ]
    },
    {
      "cell_type": "code",
      "execution_count": 17,
      "metadata": {
        "id": "f0Yx36U-DcOv"
      },
      "outputs": [],
      "source": [
        "# replacing the nan value in review_scares_ratig with its minimum value\n",
        "AirBNB['review_scores_rating'] = AirBNB['review_scores_rating'].fillna(AirBNB['review_scores_rating'].min())"
      ]
    },
    {
      "cell_type": "code",
      "execution_count": 18,
      "metadata": {
        "id": "eNaJpZnZDh0_"
      },
      "outputs": [],
      "source": [
        "series = pd.isnull(AirBNB[\"review_scores_rating\"]) "
      ]
    },
    {
      "cell_type": "markdown",
      "metadata": {
        "id": "YGKpH6ZJ9jjy"
      },
      "source": [
        "\n",
        "\n",
        "*   Replaced all NaN values with the min for review_scores_rating\n",
        "*   My thought is that if they are missing or have no reviews then the min will not skew the data to 0 since there are 16722 missing values\n",
        "\n",
        "\n"
      ]
    },
    {
      "cell_type": "code",
      "source": [
        "AirBNB[['bathrooms', 'bedrooms', 'beds', 'accommodates']] = AirBNB[['bathrooms', 'bedrooms', 'beds', 'accommodates']].fillna(AirBNB[['bathrooms', 'bedrooms', 'beds', 'accommodates']].median())\n"
      ],
      "metadata": {
        "id": "Zc2LQwhJBH3O"
      },
      "execution_count": 19,
      "outputs": []
    },
    {
      "cell_type": "code",
      "execution_count": 20,
      "metadata": {
        "colab": {
          "base_uri": "https://localhost:8080/",
          "height": 601
        },
        "id": "VbEdIVuG-Pev",
        "outputId": "ff43be70-7e02-410c-d992-7e8256c01bbe"
      },
      "outputs": [
        {
          "output_type": "execute_result",
          "data": {
            "text/plain": [
              "             id        room_type  accommodates  bathrooms cancellation_policy  \\\n",
              "41874   4395384     Private room         2.000      1.000              strict   \n",
              "2342    2105487  Entire home/apt         4.000      2.000              strict   \n",
              "21809   9040214  Entire home/apt         8.000      4.000            moderate   \n",
              "37956   7559867  Entire home/apt         6.000      1.000            flexible   \n",
              "53994  10469455     Private room         2.000      1.000              strict   \n",
              "10647   8054651     Private room         1.000      1.500            flexible   \n",
              "66134  19252113     Private room         1.000      1.000            moderate   \n",
              "15207  14821542  Entire home/apt         4.000      1.000            flexible   \n",
              "62184  12930677  Entire home/apt         3.000      1.000            moderate   \n",
              "35808   9391509  Entire home/apt         4.000      2.000              strict   \n",
              "\n",
              "      cleaning_fee instant_bookable  review_scores_rating  bedrooms  beds  \\\n",
              "41874        False                f               100.000     1.000 1.000   \n",
              "2342          True                f                86.000     2.000 2.000   \n",
              "21809         True                f               100.000     4.000 5.000   \n",
              "37956         True                f                92.000     3.000 3.000   \n",
              "53994        False                f                90.000     4.000 4.000   \n",
              "10647        False                f               100.000     1.000 1.000   \n",
              "66134         True                f                97.000     1.000 1.000   \n",
              "15207        False                f                20.000     2.000 2.000   \n",
              "62184         True                t                84.000     1.000 2.000   \n",
              "35808         True                f                93.000     2.000 2.000   \n",
              "\n",
              "       log_price  \n",
              "41874      4.007  \n",
              "2342       5.242  \n",
              "21809      5.521  \n",
              "37956      5.298  \n",
              "53994      3.850  \n",
              "10647      3.912  \n",
              "66134      4.554  \n",
              "15207      5.298  \n",
              "62184      4.787  \n",
              "35808      5.298  "
            ],
            "text/html": [
              "\n",
              "  <div id=\"df-b96c2967-ffae-48de-ac87-12064c4d25a0\">\n",
              "    <div class=\"colab-df-container\">\n",
              "      <div>\n",
              "<style scoped>\n",
              "    .dataframe tbody tr th:only-of-type {\n",
              "        vertical-align: middle;\n",
              "    }\n",
              "\n",
              "    .dataframe tbody tr th {\n",
              "        vertical-align: top;\n",
              "    }\n",
              "\n",
              "    .dataframe thead th {\n",
              "        text-align: right;\n",
              "    }\n",
              "</style>\n",
              "<table border=\"1\" class=\"dataframe\">\n",
              "  <thead>\n",
              "    <tr style=\"text-align: right;\">\n",
              "      <th></th>\n",
              "      <th>id</th>\n",
              "      <th>room_type</th>\n",
              "      <th>accommodates</th>\n",
              "      <th>bathrooms</th>\n",
              "      <th>cancellation_policy</th>\n",
              "      <th>cleaning_fee</th>\n",
              "      <th>instant_bookable</th>\n",
              "      <th>review_scores_rating</th>\n",
              "      <th>bedrooms</th>\n",
              "      <th>beds</th>\n",
              "      <th>log_price</th>\n",
              "    </tr>\n",
              "  </thead>\n",
              "  <tbody>\n",
              "    <tr>\n",
              "      <th>41874</th>\n",
              "      <td>4395384</td>\n",
              "      <td>Private room</td>\n",
              "      <td>2.000</td>\n",
              "      <td>1.000</td>\n",
              "      <td>strict</td>\n",
              "      <td>False</td>\n",
              "      <td>f</td>\n",
              "      <td>100.000</td>\n",
              "      <td>1.000</td>\n",
              "      <td>1.000</td>\n",
              "      <td>4.007</td>\n",
              "    </tr>\n",
              "    <tr>\n",
              "      <th>2342</th>\n",
              "      <td>2105487</td>\n",
              "      <td>Entire home/apt</td>\n",
              "      <td>4.000</td>\n",
              "      <td>2.000</td>\n",
              "      <td>strict</td>\n",
              "      <td>True</td>\n",
              "      <td>f</td>\n",
              "      <td>86.000</td>\n",
              "      <td>2.000</td>\n",
              "      <td>2.000</td>\n",
              "      <td>5.242</td>\n",
              "    </tr>\n",
              "    <tr>\n",
              "      <th>21809</th>\n",
              "      <td>9040214</td>\n",
              "      <td>Entire home/apt</td>\n",
              "      <td>8.000</td>\n",
              "      <td>4.000</td>\n",
              "      <td>moderate</td>\n",
              "      <td>True</td>\n",
              "      <td>f</td>\n",
              "      <td>100.000</td>\n",
              "      <td>4.000</td>\n",
              "      <td>5.000</td>\n",
              "      <td>5.521</td>\n",
              "    </tr>\n",
              "    <tr>\n",
              "      <th>37956</th>\n",
              "      <td>7559867</td>\n",
              "      <td>Entire home/apt</td>\n",
              "      <td>6.000</td>\n",
              "      <td>1.000</td>\n",
              "      <td>flexible</td>\n",
              "      <td>True</td>\n",
              "      <td>f</td>\n",
              "      <td>92.000</td>\n",
              "      <td>3.000</td>\n",
              "      <td>3.000</td>\n",
              "      <td>5.298</td>\n",
              "    </tr>\n",
              "    <tr>\n",
              "      <th>53994</th>\n",
              "      <td>10469455</td>\n",
              "      <td>Private room</td>\n",
              "      <td>2.000</td>\n",
              "      <td>1.000</td>\n",
              "      <td>strict</td>\n",
              "      <td>False</td>\n",
              "      <td>f</td>\n",
              "      <td>90.000</td>\n",
              "      <td>4.000</td>\n",
              "      <td>4.000</td>\n",
              "      <td>3.850</td>\n",
              "    </tr>\n",
              "    <tr>\n",
              "      <th>10647</th>\n",
              "      <td>8054651</td>\n",
              "      <td>Private room</td>\n",
              "      <td>1.000</td>\n",
              "      <td>1.500</td>\n",
              "      <td>flexible</td>\n",
              "      <td>False</td>\n",
              "      <td>f</td>\n",
              "      <td>100.000</td>\n",
              "      <td>1.000</td>\n",
              "      <td>1.000</td>\n",
              "      <td>3.912</td>\n",
              "    </tr>\n",
              "    <tr>\n",
              "      <th>66134</th>\n",
              "      <td>19252113</td>\n",
              "      <td>Private room</td>\n",
              "      <td>1.000</td>\n",
              "      <td>1.000</td>\n",
              "      <td>moderate</td>\n",
              "      <td>True</td>\n",
              "      <td>f</td>\n",
              "      <td>97.000</td>\n",
              "      <td>1.000</td>\n",
              "      <td>1.000</td>\n",
              "      <td>4.554</td>\n",
              "    </tr>\n",
              "    <tr>\n",
              "      <th>15207</th>\n",
              "      <td>14821542</td>\n",
              "      <td>Entire home/apt</td>\n",
              "      <td>4.000</td>\n",
              "      <td>1.000</td>\n",
              "      <td>flexible</td>\n",
              "      <td>False</td>\n",
              "      <td>f</td>\n",
              "      <td>20.000</td>\n",
              "      <td>2.000</td>\n",
              "      <td>2.000</td>\n",
              "      <td>5.298</td>\n",
              "    </tr>\n",
              "    <tr>\n",
              "      <th>62184</th>\n",
              "      <td>12930677</td>\n",
              "      <td>Entire home/apt</td>\n",
              "      <td>3.000</td>\n",
              "      <td>1.000</td>\n",
              "      <td>moderate</td>\n",
              "      <td>True</td>\n",
              "      <td>t</td>\n",
              "      <td>84.000</td>\n",
              "      <td>1.000</td>\n",
              "      <td>2.000</td>\n",
              "      <td>4.787</td>\n",
              "    </tr>\n",
              "    <tr>\n",
              "      <th>35808</th>\n",
              "      <td>9391509</td>\n",
              "      <td>Entire home/apt</td>\n",
              "      <td>4.000</td>\n",
              "      <td>2.000</td>\n",
              "      <td>strict</td>\n",
              "      <td>True</td>\n",
              "      <td>f</td>\n",
              "      <td>93.000</td>\n",
              "      <td>2.000</td>\n",
              "      <td>2.000</td>\n",
              "      <td>5.298</td>\n",
              "    </tr>\n",
              "  </tbody>\n",
              "</table>\n",
              "</div>\n",
              "      <button class=\"colab-df-convert\" onclick=\"convertToInteractive('df-b96c2967-ffae-48de-ac87-12064c4d25a0')\"\n",
              "              title=\"Convert this dataframe to an interactive table.\"\n",
              "              style=\"display:none;\">\n",
              "        \n",
              "  <svg xmlns=\"http://www.w3.org/2000/svg\" height=\"24px\"viewBox=\"0 0 24 24\"\n",
              "       width=\"24px\">\n",
              "    <path d=\"M0 0h24v24H0V0z\" fill=\"none\"/>\n",
              "    <path d=\"M18.56 5.44l.94 2.06.94-2.06 2.06-.94-2.06-.94-.94-2.06-.94 2.06-2.06.94zm-11 1L8.5 8.5l.94-2.06 2.06-.94-2.06-.94L8.5 2.5l-.94 2.06-2.06.94zm10 10l.94 2.06.94-2.06 2.06-.94-2.06-.94-.94-2.06-.94 2.06-2.06.94z\"/><path d=\"M17.41 7.96l-1.37-1.37c-.4-.4-.92-.59-1.43-.59-.52 0-1.04.2-1.43.59L10.3 9.45l-7.72 7.72c-.78.78-.78 2.05 0 2.83L4 21.41c.39.39.9.59 1.41.59.51 0 1.02-.2 1.41-.59l7.78-7.78 2.81-2.81c.8-.78.8-2.07 0-2.86zM5.41 20L4 18.59l7.72-7.72 1.47 1.35L5.41 20z\"/>\n",
              "  </svg>\n",
              "      </button>\n",
              "      \n",
              "  <style>\n",
              "    .colab-df-container {\n",
              "      display:flex;\n",
              "      flex-wrap:wrap;\n",
              "      gap: 12px;\n",
              "    }\n",
              "\n",
              "    .colab-df-convert {\n",
              "      background-color: #E8F0FE;\n",
              "      border: none;\n",
              "      border-radius: 50%;\n",
              "      cursor: pointer;\n",
              "      display: none;\n",
              "      fill: #1967D2;\n",
              "      height: 32px;\n",
              "      padding: 0 0 0 0;\n",
              "      width: 32px;\n",
              "    }\n",
              "\n",
              "    .colab-df-convert:hover {\n",
              "      background-color: #E2EBFA;\n",
              "      box-shadow: 0px 1px 2px rgba(60, 64, 67, 0.3), 0px 1px 3px 1px rgba(60, 64, 67, 0.15);\n",
              "      fill: #174EA6;\n",
              "    }\n",
              "\n",
              "    [theme=dark] .colab-df-convert {\n",
              "      background-color: #3B4455;\n",
              "      fill: #D2E3FC;\n",
              "    }\n",
              "\n",
              "    [theme=dark] .colab-df-convert:hover {\n",
              "      background-color: #434B5C;\n",
              "      box-shadow: 0px 1px 3px 1px rgba(0, 0, 0, 0.15);\n",
              "      filter: drop-shadow(0px 1px 2px rgba(0, 0, 0, 0.3));\n",
              "      fill: #FFFFFF;\n",
              "    }\n",
              "  </style>\n",
              "\n",
              "      <script>\n",
              "        const buttonEl =\n",
              "          document.querySelector('#df-b96c2967-ffae-48de-ac87-12064c4d25a0 button.colab-df-convert');\n",
              "        buttonEl.style.display =\n",
              "          google.colab.kernel.accessAllowed ? 'block' : 'none';\n",
              "\n",
              "        async function convertToInteractive(key) {\n",
              "          const element = document.querySelector('#df-b96c2967-ffae-48de-ac87-12064c4d25a0');\n",
              "          const dataTable =\n",
              "            await google.colab.kernel.invokeFunction('convertToInteractive',\n",
              "                                                     [key], {});\n",
              "          if (!dataTable) return;\n",
              "\n",
              "          const docLinkHtml = 'Like what you see? Visit the ' +\n",
              "            '<a target=\"_blank\" href=https://colab.research.google.com/notebooks/data_table.ipynb>data table notebook</a>'\n",
              "            + ' to learn more about interactive tables.';\n",
              "          element.innerHTML = '';\n",
              "          dataTable['output_type'] = 'display_data';\n",
              "          await google.colab.output.renderOutput(dataTable, element);\n",
              "          const docLink = document.createElement('div');\n",
              "          docLink.innerHTML = docLinkHtml;\n",
              "          element.appendChild(docLink);\n",
              "        }\n",
              "      </script>\n",
              "    </div>\n",
              "  </div>\n",
              "  "
            ]
          },
          "metadata": {},
          "execution_count": 20
        }
      ],
      "source": [
        "AirBNB.sample(n=10)"
      ]
    },
    {
      "cell_type": "markdown",
      "metadata": {
        "id": "aEpf3rs--XTX"
      },
      "source": [
        "**Replaced all NaN values with the median for columns accommodates,bathrooms, bedrooms,beds**\n",
        "\n"
      ]
    },
    {
      "cell_type": "markdown",
      "metadata": {
        "id": "mJv7ijdY-lKU"
      },
      "source": [
        "#### Replacing categorical variables missing values "
      ]
    },
    {
      "cell_type": "code",
      "execution_count": 21,
      "metadata": {
        "id": "TwAgMtln-RgJ"
      },
      "outputs": [],
      "source": [
        "bool_series = pd.isnull(AirBNB[\"room_type\"]) "
      ]
    },
    {
      "cell_type": "code",
      "execution_count": 22,
      "metadata": {
        "colab": {
          "base_uri": "https://localhost:8080/",
          "height": 270
        },
        "id": "gKvR_13l-o3j",
        "outputId": "95a6799f-02f2-4430-c337-29dd70eee84a"
      },
      "outputs": [
        {
          "output_type": "execute_result",
          "data": {
            "text/plain": [
              "           id room_type  accommodates  bathrooms cancellation_policy  \\\n",
              "141    457555       NaN         1.000      1.000            flexible   \n",
              "167   6374167       NaN         5.000      1.000              strict   \n",
              "195  19981334       NaN         2.000      1.000            moderate   \n",
              "255    455801       NaN         4.000      1.000            moderate   \n",
              "552   4874722       NaN         1.000      2.500              strict   \n",
              "\n",
              "    cleaning_fee instant_bookable  review_scores_rating  bedrooms  beds  \\\n",
              "141        False                f                20.000     1.000 1.000   \n",
              "167         True                f                97.000     2.000 3.000   \n",
              "195         True                f                99.000     1.000 1.000   \n",
              "255         True                f                91.000     1.000 2.000   \n",
              "552         True                t               100.000     1.000 1.000   \n",
              "\n",
              "     log_price  \n",
              "141      5.521  \n",
              "167      5.576  \n",
              "195      3.555  \n",
              "255      4.419  \n",
              "552      4.489  "
            ],
            "text/html": [
              "\n",
              "  <div id=\"df-a1611e49-6773-4481-bc0e-afda1f0298d4\">\n",
              "    <div class=\"colab-df-container\">\n",
              "      <div>\n",
              "<style scoped>\n",
              "    .dataframe tbody tr th:only-of-type {\n",
              "        vertical-align: middle;\n",
              "    }\n",
              "\n",
              "    .dataframe tbody tr th {\n",
              "        vertical-align: top;\n",
              "    }\n",
              "\n",
              "    .dataframe thead th {\n",
              "        text-align: right;\n",
              "    }\n",
              "</style>\n",
              "<table border=\"1\" class=\"dataframe\">\n",
              "  <thead>\n",
              "    <tr style=\"text-align: right;\">\n",
              "      <th></th>\n",
              "      <th>id</th>\n",
              "      <th>room_type</th>\n",
              "      <th>accommodates</th>\n",
              "      <th>bathrooms</th>\n",
              "      <th>cancellation_policy</th>\n",
              "      <th>cleaning_fee</th>\n",
              "      <th>instant_bookable</th>\n",
              "      <th>review_scores_rating</th>\n",
              "      <th>bedrooms</th>\n",
              "      <th>beds</th>\n",
              "      <th>log_price</th>\n",
              "    </tr>\n",
              "  </thead>\n",
              "  <tbody>\n",
              "    <tr>\n",
              "      <th>141</th>\n",
              "      <td>457555</td>\n",
              "      <td>NaN</td>\n",
              "      <td>1.000</td>\n",
              "      <td>1.000</td>\n",
              "      <td>flexible</td>\n",
              "      <td>False</td>\n",
              "      <td>f</td>\n",
              "      <td>20.000</td>\n",
              "      <td>1.000</td>\n",
              "      <td>1.000</td>\n",
              "      <td>5.521</td>\n",
              "    </tr>\n",
              "    <tr>\n",
              "      <th>167</th>\n",
              "      <td>6374167</td>\n",
              "      <td>NaN</td>\n",
              "      <td>5.000</td>\n",
              "      <td>1.000</td>\n",
              "      <td>strict</td>\n",
              "      <td>True</td>\n",
              "      <td>f</td>\n",
              "      <td>97.000</td>\n",
              "      <td>2.000</td>\n",
              "      <td>3.000</td>\n",
              "      <td>5.576</td>\n",
              "    </tr>\n",
              "    <tr>\n",
              "      <th>195</th>\n",
              "      <td>19981334</td>\n",
              "      <td>NaN</td>\n",
              "      <td>2.000</td>\n",
              "      <td>1.000</td>\n",
              "      <td>moderate</td>\n",
              "      <td>True</td>\n",
              "      <td>f</td>\n",
              "      <td>99.000</td>\n",
              "      <td>1.000</td>\n",
              "      <td>1.000</td>\n",
              "      <td>3.555</td>\n",
              "    </tr>\n",
              "    <tr>\n",
              "      <th>255</th>\n",
              "      <td>455801</td>\n",
              "      <td>NaN</td>\n",
              "      <td>4.000</td>\n",
              "      <td>1.000</td>\n",
              "      <td>moderate</td>\n",
              "      <td>True</td>\n",
              "      <td>f</td>\n",
              "      <td>91.000</td>\n",
              "      <td>1.000</td>\n",
              "      <td>2.000</td>\n",
              "      <td>4.419</td>\n",
              "    </tr>\n",
              "    <tr>\n",
              "      <th>552</th>\n",
              "      <td>4874722</td>\n",
              "      <td>NaN</td>\n",
              "      <td>1.000</td>\n",
              "      <td>2.500</td>\n",
              "      <td>strict</td>\n",
              "      <td>True</td>\n",
              "      <td>t</td>\n",
              "      <td>100.000</td>\n",
              "      <td>1.000</td>\n",
              "      <td>1.000</td>\n",
              "      <td>4.489</td>\n",
              "    </tr>\n",
              "  </tbody>\n",
              "</table>\n",
              "</div>\n",
              "      <button class=\"colab-df-convert\" onclick=\"convertToInteractive('df-a1611e49-6773-4481-bc0e-afda1f0298d4')\"\n",
              "              title=\"Convert this dataframe to an interactive table.\"\n",
              "              style=\"display:none;\">\n",
              "        \n",
              "  <svg xmlns=\"http://www.w3.org/2000/svg\" height=\"24px\"viewBox=\"0 0 24 24\"\n",
              "       width=\"24px\">\n",
              "    <path d=\"M0 0h24v24H0V0z\" fill=\"none\"/>\n",
              "    <path d=\"M18.56 5.44l.94 2.06.94-2.06 2.06-.94-2.06-.94-.94-2.06-.94 2.06-2.06.94zm-11 1L8.5 8.5l.94-2.06 2.06-.94-2.06-.94L8.5 2.5l-.94 2.06-2.06.94zm10 10l.94 2.06.94-2.06 2.06-.94-2.06-.94-.94-2.06-.94 2.06-2.06.94z\"/><path d=\"M17.41 7.96l-1.37-1.37c-.4-.4-.92-.59-1.43-.59-.52 0-1.04.2-1.43.59L10.3 9.45l-7.72 7.72c-.78.78-.78 2.05 0 2.83L4 21.41c.39.39.9.59 1.41.59.51 0 1.02-.2 1.41-.59l7.78-7.78 2.81-2.81c.8-.78.8-2.07 0-2.86zM5.41 20L4 18.59l7.72-7.72 1.47 1.35L5.41 20z\"/>\n",
              "  </svg>\n",
              "      </button>\n",
              "      \n",
              "  <style>\n",
              "    .colab-df-container {\n",
              "      display:flex;\n",
              "      flex-wrap:wrap;\n",
              "      gap: 12px;\n",
              "    }\n",
              "\n",
              "    .colab-df-convert {\n",
              "      background-color: #E8F0FE;\n",
              "      border: none;\n",
              "      border-radius: 50%;\n",
              "      cursor: pointer;\n",
              "      display: none;\n",
              "      fill: #1967D2;\n",
              "      height: 32px;\n",
              "      padding: 0 0 0 0;\n",
              "      width: 32px;\n",
              "    }\n",
              "\n",
              "    .colab-df-convert:hover {\n",
              "      background-color: #E2EBFA;\n",
              "      box-shadow: 0px 1px 2px rgba(60, 64, 67, 0.3), 0px 1px 3px 1px rgba(60, 64, 67, 0.15);\n",
              "      fill: #174EA6;\n",
              "    }\n",
              "\n",
              "    [theme=dark] .colab-df-convert {\n",
              "      background-color: #3B4455;\n",
              "      fill: #D2E3FC;\n",
              "    }\n",
              "\n",
              "    [theme=dark] .colab-df-convert:hover {\n",
              "      background-color: #434B5C;\n",
              "      box-shadow: 0px 1px 3px 1px rgba(0, 0, 0, 0.15);\n",
              "      filter: drop-shadow(0px 1px 2px rgba(0, 0, 0, 0.3));\n",
              "      fill: #FFFFFF;\n",
              "    }\n",
              "  </style>\n",
              "\n",
              "      <script>\n",
              "        const buttonEl =\n",
              "          document.querySelector('#df-a1611e49-6773-4481-bc0e-afda1f0298d4 button.colab-df-convert');\n",
              "        buttonEl.style.display =\n",
              "          google.colab.kernel.accessAllowed ? 'block' : 'none';\n",
              "\n",
              "        async function convertToInteractive(key) {\n",
              "          const element = document.querySelector('#df-a1611e49-6773-4481-bc0e-afda1f0298d4');\n",
              "          const dataTable =\n",
              "            await google.colab.kernel.invokeFunction('convertToInteractive',\n",
              "                                                     [key], {});\n",
              "          if (!dataTable) return;\n",
              "\n",
              "          const docLinkHtml = 'Like what you see? Visit the ' +\n",
              "            '<a target=\"_blank\" href=https://colab.research.google.com/notebooks/data_table.ipynb>data table notebook</a>'\n",
              "            + ' to learn more about interactive tables.';\n",
              "          element.innerHTML = '';\n",
              "          dataTable['output_type'] = 'display_data';\n",
              "          await google.colab.output.renderOutput(dataTable, element);\n",
              "          const docLink = document.createElement('div');\n",
              "          docLink.innerHTML = docLinkHtml;\n",
              "          element.appendChild(docLink);\n",
              "        }\n",
              "      </script>\n",
              "    </div>\n",
              "  </div>\n",
              "  "
            ]
          },
          "metadata": {},
          "execution_count": 22
        }
      ],
      "source": [
        "AirBNB[bool_series] "
      ]
    },
    {
      "cell_type": "code",
      "execution_count": 23,
      "metadata": {
        "id": "p470xmH9-q4F"
      },
      "outputs": [],
      "source": [
        "# Replaced the 5 NaN values with Entire home/apt because they have the majority \n",
        "\n",
        "\n",
        "AirBNB[\"room_type\"].fillna(\"Entire home/apt\", inplace = True)"
      ]
    },
    {
      "cell_type": "code",
      "execution_count": 24,
      "metadata": {
        "colab": {
          "base_uri": "https://localhost:8080/",
          "height": 357
        },
        "id": "6UuuWMeT-v3q",
        "outputId": "bc350dc1-fe83-44c7-817b-3db72f498dd4"
      },
      "outputs": [
        {
          "output_type": "execute_result",
          "data": {
            "text/plain": [
              "           id        room_type  accommodates  bathrooms cancellation_policy  \\\n",
              "141    457555  Entire home/apt         1.000      1.000            flexible   \n",
              "167   6374167  Entire home/apt         5.000      1.000              strict   \n",
              "195  19981334  Entire home/apt         2.000      1.000            moderate   \n",
              "255    455801  Entire home/apt         4.000      1.000            moderate   \n",
              "552   4874722  Entire home/apt         1.000      2.500              strict   \n",
              "\n",
              "    cleaning_fee instant_bookable  review_scores_rating  bedrooms  beds  \\\n",
              "141        False                f                20.000     1.000 1.000   \n",
              "167         True                f                97.000     2.000 3.000   \n",
              "195         True                f                99.000     1.000 1.000   \n",
              "255         True                f                91.000     1.000 2.000   \n",
              "552         True                t               100.000     1.000 1.000   \n",
              "\n",
              "     log_price  \n",
              "141      5.521  \n",
              "167      5.576  \n",
              "195      3.555  \n",
              "255      4.419  \n",
              "552      4.489  "
            ],
            "text/html": [
              "\n",
              "  <div id=\"df-4404a041-5b91-4eaa-8a53-3010061618f6\">\n",
              "    <div class=\"colab-df-container\">\n",
              "      <div>\n",
              "<style scoped>\n",
              "    .dataframe tbody tr th:only-of-type {\n",
              "        vertical-align: middle;\n",
              "    }\n",
              "\n",
              "    .dataframe tbody tr th {\n",
              "        vertical-align: top;\n",
              "    }\n",
              "\n",
              "    .dataframe thead th {\n",
              "        text-align: right;\n",
              "    }\n",
              "</style>\n",
              "<table border=\"1\" class=\"dataframe\">\n",
              "  <thead>\n",
              "    <tr style=\"text-align: right;\">\n",
              "      <th></th>\n",
              "      <th>id</th>\n",
              "      <th>room_type</th>\n",
              "      <th>accommodates</th>\n",
              "      <th>bathrooms</th>\n",
              "      <th>cancellation_policy</th>\n",
              "      <th>cleaning_fee</th>\n",
              "      <th>instant_bookable</th>\n",
              "      <th>review_scores_rating</th>\n",
              "      <th>bedrooms</th>\n",
              "      <th>beds</th>\n",
              "      <th>log_price</th>\n",
              "    </tr>\n",
              "  </thead>\n",
              "  <tbody>\n",
              "    <tr>\n",
              "      <th>141</th>\n",
              "      <td>457555</td>\n",
              "      <td>Entire home/apt</td>\n",
              "      <td>1.000</td>\n",
              "      <td>1.000</td>\n",
              "      <td>flexible</td>\n",
              "      <td>False</td>\n",
              "      <td>f</td>\n",
              "      <td>20.000</td>\n",
              "      <td>1.000</td>\n",
              "      <td>1.000</td>\n",
              "      <td>5.521</td>\n",
              "    </tr>\n",
              "    <tr>\n",
              "      <th>167</th>\n",
              "      <td>6374167</td>\n",
              "      <td>Entire home/apt</td>\n",
              "      <td>5.000</td>\n",
              "      <td>1.000</td>\n",
              "      <td>strict</td>\n",
              "      <td>True</td>\n",
              "      <td>f</td>\n",
              "      <td>97.000</td>\n",
              "      <td>2.000</td>\n",
              "      <td>3.000</td>\n",
              "      <td>5.576</td>\n",
              "    </tr>\n",
              "    <tr>\n",
              "      <th>195</th>\n",
              "      <td>19981334</td>\n",
              "      <td>Entire home/apt</td>\n",
              "      <td>2.000</td>\n",
              "      <td>1.000</td>\n",
              "      <td>moderate</td>\n",
              "      <td>True</td>\n",
              "      <td>f</td>\n",
              "      <td>99.000</td>\n",
              "      <td>1.000</td>\n",
              "      <td>1.000</td>\n",
              "      <td>3.555</td>\n",
              "    </tr>\n",
              "    <tr>\n",
              "      <th>255</th>\n",
              "      <td>455801</td>\n",
              "      <td>Entire home/apt</td>\n",
              "      <td>4.000</td>\n",
              "      <td>1.000</td>\n",
              "      <td>moderate</td>\n",
              "      <td>True</td>\n",
              "      <td>f</td>\n",
              "      <td>91.000</td>\n",
              "      <td>1.000</td>\n",
              "      <td>2.000</td>\n",
              "      <td>4.419</td>\n",
              "    </tr>\n",
              "    <tr>\n",
              "      <th>552</th>\n",
              "      <td>4874722</td>\n",
              "      <td>Entire home/apt</td>\n",
              "      <td>1.000</td>\n",
              "      <td>2.500</td>\n",
              "      <td>strict</td>\n",
              "      <td>True</td>\n",
              "      <td>t</td>\n",
              "      <td>100.000</td>\n",
              "      <td>1.000</td>\n",
              "      <td>1.000</td>\n",
              "      <td>4.489</td>\n",
              "    </tr>\n",
              "  </tbody>\n",
              "</table>\n",
              "</div>\n",
              "      <button class=\"colab-df-convert\" onclick=\"convertToInteractive('df-4404a041-5b91-4eaa-8a53-3010061618f6')\"\n",
              "              title=\"Convert this dataframe to an interactive table.\"\n",
              "              style=\"display:none;\">\n",
              "        \n",
              "  <svg xmlns=\"http://www.w3.org/2000/svg\" height=\"24px\"viewBox=\"0 0 24 24\"\n",
              "       width=\"24px\">\n",
              "    <path d=\"M0 0h24v24H0V0z\" fill=\"none\"/>\n",
              "    <path d=\"M18.56 5.44l.94 2.06.94-2.06 2.06-.94-2.06-.94-.94-2.06-.94 2.06-2.06.94zm-11 1L8.5 8.5l.94-2.06 2.06-.94-2.06-.94L8.5 2.5l-.94 2.06-2.06.94zm10 10l.94 2.06.94-2.06 2.06-.94-2.06-.94-.94-2.06-.94 2.06-2.06.94z\"/><path d=\"M17.41 7.96l-1.37-1.37c-.4-.4-.92-.59-1.43-.59-.52 0-1.04.2-1.43.59L10.3 9.45l-7.72 7.72c-.78.78-.78 2.05 0 2.83L4 21.41c.39.39.9.59 1.41.59.51 0 1.02-.2 1.41-.59l7.78-7.78 2.81-2.81c.8-.78.8-2.07 0-2.86zM5.41 20L4 18.59l7.72-7.72 1.47 1.35L5.41 20z\"/>\n",
              "  </svg>\n",
              "      </button>\n",
              "      \n",
              "  <style>\n",
              "    .colab-df-container {\n",
              "      display:flex;\n",
              "      flex-wrap:wrap;\n",
              "      gap: 12px;\n",
              "    }\n",
              "\n",
              "    .colab-df-convert {\n",
              "      background-color: #E8F0FE;\n",
              "      border: none;\n",
              "      border-radius: 50%;\n",
              "      cursor: pointer;\n",
              "      display: none;\n",
              "      fill: #1967D2;\n",
              "      height: 32px;\n",
              "      padding: 0 0 0 0;\n",
              "      width: 32px;\n",
              "    }\n",
              "\n",
              "    .colab-df-convert:hover {\n",
              "      background-color: #E2EBFA;\n",
              "      box-shadow: 0px 1px 2px rgba(60, 64, 67, 0.3), 0px 1px 3px 1px rgba(60, 64, 67, 0.15);\n",
              "      fill: #174EA6;\n",
              "    }\n",
              "\n",
              "    [theme=dark] .colab-df-convert {\n",
              "      background-color: #3B4455;\n",
              "      fill: #D2E3FC;\n",
              "    }\n",
              "\n",
              "    [theme=dark] .colab-df-convert:hover {\n",
              "      background-color: #434B5C;\n",
              "      box-shadow: 0px 1px 3px 1px rgba(0, 0, 0, 0.15);\n",
              "      filter: drop-shadow(0px 1px 2px rgba(0, 0, 0, 0.3));\n",
              "      fill: #FFFFFF;\n",
              "    }\n",
              "  </style>\n",
              "\n",
              "      <script>\n",
              "        const buttonEl =\n",
              "          document.querySelector('#df-4404a041-5b91-4eaa-8a53-3010061618f6 button.colab-df-convert');\n",
              "        buttonEl.style.display =\n",
              "          google.colab.kernel.accessAllowed ? 'block' : 'none';\n",
              "\n",
              "        async function convertToInteractive(key) {\n",
              "          const element = document.querySelector('#df-4404a041-5b91-4eaa-8a53-3010061618f6');\n",
              "          const dataTable =\n",
              "            await google.colab.kernel.invokeFunction('convertToInteractive',\n",
              "                                                     [key], {});\n",
              "          if (!dataTable) return;\n",
              "\n",
              "          const docLinkHtml = 'Like what you see? Visit the ' +\n",
              "            '<a target=\"_blank\" href=https://colab.research.google.com/notebooks/data_table.ipynb>data table notebook</a>'\n",
              "            + ' to learn more about interactive tables.';\n",
              "          element.innerHTML = '';\n",
              "          dataTable['output_type'] = 'display_data';\n",
              "          await google.colab.output.renderOutput(dataTable, element);\n",
              "          const docLink = document.createElement('div');\n",
              "          docLink.innerHTML = docLinkHtml;\n",
              "          element.appendChild(docLink);\n",
              "        }\n",
              "      </script>\n",
              "    </div>\n",
              "  </div>\n",
              "  "
            ]
          },
          "metadata": {},
          "execution_count": 24
        }
      ],
      "source": [
        "# checking the result\n",
        "AirBNB[bool_series] "
      ]
    },
    {
      "cell_type": "code",
      "execution_count": 25,
      "metadata": {
        "id": "ZXB_JZEf-x0-",
        "colab": {
          "base_uri": "https://localhost:8080/",
          "height": 503
        },
        "outputId": "167ce455-2c9f-490f-82c3-46ef46015d2d"
      },
      "outputs": [
        {
          "output_type": "execute_result",
          "data": {
            "text/plain": [
              "           id        room_type  accommodates  bathrooms cancellation_policy  \\\n",
              "205   2754149     Private room         2.000      1.000                 NaN   \n",
              "209  14783267  Entire home/apt         2.000      1.000                 NaN   \n",
              "232  12265833  Entire home/apt         2.000      1.000                 NaN   \n",
              "348  18388570  Entire home/apt         2.000      1.000                 NaN   \n",
              "349  20620600     Private room         2.000      1.000                 NaN   \n",
              "399   2484207  Entire home/apt         2.000      1.000                 NaN   \n",
              "454   7939196  Entire home/apt         2.000      1.000                 NaN   \n",
              "574    169306  Entire home/apt         3.000      1.000                 NaN   \n",
              "\n",
              "    cleaning_fee instant_bookable  review_scores_rating  bedrooms  beds  \\\n",
              "205          NaN                t                96.000     1.000 1.000   \n",
              "209          NaN                f                93.000     1.000 1.000   \n",
              "232          NaN                f               100.000     1.000 1.000   \n",
              "348        False                f                20.000     0.000 1.000   \n",
              "349         True                f                20.000     1.000 1.000   \n",
              "399          NaN                t               100.000     1.000 1.000   \n",
              "454         True                f                82.000     1.000 3.000   \n",
              "574        False                f                20.000     0.000 2.000   \n",
              "\n",
              "     log_price  \n",
              "205      4.585  \n",
              "209      4.787  \n",
              "232      5.298  \n",
              "348      4.605  \n",
              "349      5.220  \n",
              "399      5.704  \n",
              "454      4.868  \n",
              "574      4.317  "
            ],
            "text/html": [
              "\n",
              "  <div id=\"df-a7dc6388-9c83-44a9-b283-0617ce59ee4e\">\n",
              "    <div class=\"colab-df-container\">\n",
              "      <div>\n",
              "<style scoped>\n",
              "    .dataframe tbody tr th:only-of-type {\n",
              "        vertical-align: middle;\n",
              "    }\n",
              "\n",
              "    .dataframe tbody tr th {\n",
              "        vertical-align: top;\n",
              "    }\n",
              "\n",
              "    .dataframe thead th {\n",
              "        text-align: right;\n",
              "    }\n",
              "</style>\n",
              "<table border=\"1\" class=\"dataframe\">\n",
              "  <thead>\n",
              "    <tr style=\"text-align: right;\">\n",
              "      <th></th>\n",
              "      <th>id</th>\n",
              "      <th>room_type</th>\n",
              "      <th>accommodates</th>\n",
              "      <th>bathrooms</th>\n",
              "      <th>cancellation_policy</th>\n",
              "      <th>cleaning_fee</th>\n",
              "      <th>instant_bookable</th>\n",
              "      <th>review_scores_rating</th>\n",
              "      <th>bedrooms</th>\n",
              "      <th>beds</th>\n",
              "      <th>log_price</th>\n",
              "    </tr>\n",
              "  </thead>\n",
              "  <tbody>\n",
              "    <tr>\n",
              "      <th>205</th>\n",
              "      <td>2754149</td>\n",
              "      <td>Private room</td>\n",
              "      <td>2.000</td>\n",
              "      <td>1.000</td>\n",
              "      <td>NaN</td>\n",
              "      <td>NaN</td>\n",
              "      <td>t</td>\n",
              "      <td>96.000</td>\n",
              "      <td>1.000</td>\n",
              "      <td>1.000</td>\n",
              "      <td>4.585</td>\n",
              "    </tr>\n",
              "    <tr>\n",
              "      <th>209</th>\n",
              "      <td>14783267</td>\n",
              "      <td>Entire home/apt</td>\n",
              "      <td>2.000</td>\n",
              "      <td>1.000</td>\n",
              "      <td>NaN</td>\n",
              "      <td>NaN</td>\n",
              "      <td>f</td>\n",
              "      <td>93.000</td>\n",
              "      <td>1.000</td>\n",
              "      <td>1.000</td>\n",
              "      <td>4.787</td>\n",
              "    </tr>\n",
              "    <tr>\n",
              "      <th>232</th>\n",
              "      <td>12265833</td>\n",
              "      <td>Entire home/apt</td>\n",
              "      <td>2.000</td>\n",
              "      <td>1.000</td>\n",
              "      <td>NaN</td>\n",
              "      <td>NaN</td>\n",
              "      <td>f</td>\n",
              "      <td>100.000</td>\n",
              "      <td>1.000</td>\n",
              "      <td>1.000</td>\n",
              "      <td>5.298</td>\n",
              "    </tr>\n",
              "    <tr>\n",
              "      <th>348</th>\n",
              "      <td>18388570</td>\n",
              "      <td>Entire home/apt</td>\n",
              "      <td>2.000</td>\n",
              "      <td>1.000</td>\n",
              "      <td>NaN</td>\n",
              "      <td>False</td>\n",
              "      <td>f</td>\n",
              "      <td>20.000</td>\n",
              "      <td>0.000</td>\n",
              "      <td>1.000</td>\n",
              "      <td>4.605</td>\n",
              "    </tr>\n",
              "    <tr>\n",
              "      <th>349</th>\n",
              "      <td>20620600</td>\n",
              "      <td>Private room</td>\n",
              "      <td>2.000</td>\n",
              "      <td>1.000</td>\n",
              "      <td>NaN</td>\n",
              "      <td>True</td>\n",
              "      <td>f</td>\n",
              "      <td>20.000</td>\n",
              "      <td>1.000</td>\n",
              "      <td>1.000</td>\n",
              "      <td>5.220</td>\n",
              "    </tr>\n",
              "    <tr>\n",
              "      <th>399</th>\n",
              "      <td>2484207</td>\n",
              "      <td>Entire home/apt</td>\n",
              "      <td>2.000</td>\n",
              "      <td>1.000</td>\n",
              "      <td>NaN</td>\n",
              "      <td>NaN</td>\n",
              "      <td>t</td>\n",
              "      <td>100.000</td>\n",
              "      <td>1.000</td>\n",
              "      <td>1.000</td>\n",
              "      <td>5.704</td>\n",
              "    </tr>\n",
              "    <tr>\n",
              "      <th>454</th>\n",
              "      <td>7939196</td>\n",
              "      <td>Entire home/apt</td>\n",
              "      <td>2.000</td>\n",
              "      <td>1.000</td>\n",
              "      <td>NaN</td>\n",
              "      <td>True</td>\n",
              "      <td>f</td>\n",
              "      <td>82.000</td>\n",
              "      <td>1.000</td>\n",
              "      <td>3.000</td>\n",
              "      <td>4.868</td>\n",
              "    </tr>\n",
              "    <tr>\n",
              "      <th>574</th>\n",
              "      <td>169306</td>\n",
              "      <td>Entire home/apt</td>\n",
              "      <td>3.000</td>\n",
              "      <td>1.000</td>\n",
              "      <td>NaN</td>\n",
              "      <td>False</td>\n",
              "      <td>f</td>\n",
              "      <td>20.000</td>\n",
              "      <td>0.000</td>\n",
              "      <td>2.000</td>\n",
              "      <td>4.317</td>\n",
              "    </tr>\n",
              "  </tbody>\n",
              "</table>\n",
              "</div>\n",
              "      <button class=\"colab-df-convert\" onclick=\"convertToInteractive('df-a7dc6388-9c83-44a9-b283-0617ce59ee4e')\"\n",
              "              title=\"Convert this dataframe to an interactive table.\"\n",
              "              style=\"display:none;\">\n",
              "        \n",
              "  <svg xmlns=\"http://www.w3.org/2000/svg\" height=\"24px\"viewBox=\"0 0 24 24\"\n",
              "       width=\"24px\">\n",
              "    <path d=\"M0 0h24v24H0V0z\" fill=\"none\"/>\n",
              "    <path d=\"M18.56 5.44l.94 2.06.94-2.06 2.06-.94-2.06-.94-.94-2.06-.94 2.06-2.06.94zm-11 1L8.5 8.5l.94-2.06 2.06-.94-2.06-.94L8.5 2.5l-.94 2.06-2.06.94zm10 10l.94 2.06.94-2.06 2.06-.94-2.06-.94-.94-2.06-.94 2.06-2.06.94z\"/><path d=\"M17.41 7.96l-1.37-1.37c-.4-.4-.92-.59-1.43-.59-.52 0-1.04.2-1.43.59L10.3 9.45l-7.72 7.72c-.78.78-.78 2.05 0 2.83L4 21.41c.39.39.9.59 1.41.59.51 0 1.02-.2 1.41-.59l7.78-7.78 2.81-2.81c.8-.78.8-2.07 0-2.86zM5.41 20L4 18.59l7.72-7.72 1.47 1.35L5.41 20z\"/>\n",
              "  </svg>\n",
              "      </button>\n",
              "      \n",
              "  <style>\n",
              "    .colab-df-container {\n",
              "      display:flex;\n",
              "      flex-wrap:wrap;\n",
              "      gap: 12px;\n",
              "    }\n",
              "\n",
              "    .colab-df-convert {\n",
              "      background-color: #E8F0FE;\n",
              "      border: none;\n",
              "      border-radius: 50%;\n",
              "      cursor: pointer;\n",
              "      display: none;\n",
              "      fill: #1967D2;\n",
              "      height: 32px;\n",
              "      padding: 0 0 0 0;\n",
              "      width: 32px;\n",
              "    }\n",
              "\n",
              "    .colab-df-convert:hover {\n",
              "      background-color: #E2EBFA;\n",
              "      box-shadow: 0px 1px 2px rgba(60, 64, 67, 0.3), 0px 1px 3px 1px rgba(60, 64, 67, 0.15);\n",
              "      fill: #174EA6;\n",
              "    }\n",
              "\n",
              "    [theme=dark] .colab-df-convert {\n",
              "      background-color: #3B4455;\n",
              "      fill: #D2E3FC;\n",
              "    }\n",
              "\n",
              "    [theme=dark] .colab-df-convert:hover {\n",
              "      background-color: #434B5C;\n",
              "      box-shadow: 0px 1px 3px 1px rgba(0, 0, 0, 0.15);\n",
              "      filter: drop-shadow(0px 1px 2px rgba(0, 0, 0, 0.3));\n",
              "      fill: #FFFFFF;\n",
              "    }\n",
              "  </style>\n",
              "\n",
              "      <script>\n",
              "        const buttonEl =\n",
              "          document.querySelector('#df-a7dc6388-9c83-44a9-b283-0617ce59ee4e button.colab-df-convert');\n",
              "        buttonEl.style.display =\n",
              "          google.colab.kernel.accessAllowed ? 'block' : 'none';\n",
              "\n",
              "        async function convertToInteractive(key) {\n",
              "          const element = document.querySelector('#df-a7dc6388-9c83-44a9-b283-0617ce59ee4e');\n",
              "          const dataTable =\n",
              "            await google.colab.kernel.invokeFunction('convertToInteractive',\n",
              "                                                     [key], {});\n",
              "          if (!dataTable) return;\n",
              "\n",
              "          const docLinkHtml = 'Like what you see? Visit the ' +\n",
              "            '<a target=\"_blank\" href=https://colab.research.google.com/notebooks/data_table.ipynb>data table notebook</a>'\n",
              "            + ' to learn more about interactive tables.';\n",
              "          element.innerHTML = '';\n",
              "          dataTable['output_type'] = 'display_data';\n",
              "          await google.colab.output.renderOutput(dataTable, element);\n",
              "          const docLink = document.createElement('div');\n",
              "          docLink.innerHTML = docLinkHtml;\n",
              "          element.appendChild(docLink);\n",
              "        }\n",
              "      </script>\n",
              "    </div>\n",
              "  </div>\n",
              "  "
            ]
          },
          "metadata": {},
          "execution_count": 25
        }
      ],
      "source": [
        "# querying for null values in cancellation_policy\n",
        "bool_series = pd.isnull(AirBNB[\"cancellation_policy\"]) \n",
        "AirBNB[bool_series] "
      ]
    },
    {
      "cell_type": "code",
      "execution_count": 26,
      "metadata": {
        "id": "-71JXWJisVwt"
      },
      "outputs": [],
      "source": [
        "# Replacing the 8 missing values with strict since it has the majority count in cancellation_policy\n",
        "\n",
        "AirBNB[\"cancellation_policy\"].fillna(\"strict\", inplace = True)"
      ]
    },
    {
      "cell_type": "code",
      "execution_count": 27,
      "metadata": {
        "colab": {
          "base_uri": "https://localhost:8080/",
          "height": 503
        },
        "id": "ovDyshh_ssHk",
        "outputId": "006cfe3e-295d-4aca-ec19-ff1c562fb854"
      },
      "outputs": [
        {
          "output_type": "execute_result",
          "data": {
            "text/plain": [
              "           id        room_type  accommodates  bathrooms cancellation_policy  \\\n",
              "205   2754149     Private room         2.000      1.000              strict   \n",
              "209  14783267  Entire home/apt         2.000      1.000              strict   \n",
              "232  12265833  Entire home/apt         2.000      1.000              strict   \n",
              "348  18388570  Entire home/apt         2.000      1.000              strict   \n",
              "349  20620600     Private room         2.000      1.000              strict   \n",
              "399   2484207  Entire home/apt         2.000      1.000              strict   \n",
              "454   7939196  Entire home/apt         2.000      1.000              strict   \n",
              "574    169306  Entire home/apt         3.000      1.000              strict   \n",
              "\n",
              "    cleaning_fee instant_bookable  review_scores_rating  bedrooms  beds  \\\n",
              "205          NaN                t                96.000     1.000 1.000   \n",
              "209          NaN                f                93.000     1.000 1.000   \n",
              "232          NaN                f               100.000     1.000 1.000   \n",
              "348        False                f                20.000     0.000 1.000   \n",
              "349         True                f                20.000     1.000 1.000   \n",
              "399          NaN                t               100.000     1.000 1.000   \n",
              "454         True                f                82.000     1.000 3.000   \n",
              "574        False                f                20.000     0.000 2.000   \n",
              "\n",
              "     log_price  \n",
              "205      4.585  \n",
              "209      4.787  \n",
              "232      5.298  \n",
              "348      4.605  \n",
              "349      5.220  \n",
              "399      5.704  \n",
              "454      4.868  \n",
              "574      4.317  "
            ],
            "text/html": [
              "\n",
              "  <div id=\"df-c5af83e8-efbf-4b22-9e09-23774d3efc97\">\n",
              "    <div class=\"colab-df-container\">\n",
              "      <div>\n",
              "<style scoped>\n",
              "    .dataframe tbody tr th:only-of-type {\n",
              "        vertical-align: middle;\n",
              "    }\n",
              "\n",
              "    .dataframe tbody tr th {\n",
              "        vertical-align: top;\n",
              "    }\n",
              "\n",
              "    .dataframe thead th {\n",
              "        text-align: right;\n",
              "    }\n",
              "</style>\n",
              "<table border=\"1\" class=\"dataframe\">\n",
              "  <thead>\n",
              "    <tr style=\"text-align: right;\">\n",
              "      <th></th>\n",
              "      <th>id</th>\n",
              "      <th>room_type</th>\n",
              "      <th>accommodates</th>\n",
              "      <th>bathrooms</th>\n",
              "      <th>cancellation_policy</th>\n",
              "      <th>cleaning_fee</th>\n",
              "      <th>instant_bookable</th>\n",
              "      <th>review_scores_rating</th>\n",
              "      <th>bedrooms</th>\n",
              "      <th>beds</th>\n",
              "      <th>log_price</th>\n",
              "    </tr>\n",
              "  </thead>\n",
              "  <tbody>\n",
              "    <tr>\n",
              "      <th>205</th>\n",
              "      <td>2754149</td>\n",
              "      <td>Private room</td>\n",
              "      <td>2.000</td>\n",
              "      <td>1.000</td>\n",
              "      <td>strict</td>\n",
              "      <td>NaN</td>\n",
              "      <td>t</td>\n",
              "      <td>96.000</td>\n",
              "      <td>1.000</td>\n",
              "      <td>1.000</td>\n",
              "      <td>4.585</td>\n",
              "    </tr>\n",
              "    <tr>\n",
              "      <th>209</th>\n",
              "      <td>14783267</td>\n",
              "      <td>Entire home/apt</td>\n",
              "      <td>2.000</td>\n",
              "      <td>1.000</td>\n",
              "      <td>strict</td>\n",
              "      <td>NaN</td>\n",
              "      <td>f</td>\n",
              "      <td>93.000</td>\n",
              "      <td>1.000</td>\n",
              "      <td>1.000</td>\n",
              "      <td>4.787</td>\n",
              "    </tr>\n",
              "    <tr>\n",
              "      <th>232</th>\n",
              "      <td>12265833</td>\n",
              "      <td>Entire home/apt</td>\n",
              "      <td>2.000</td>\n",
              "      <td>1.000</td>\n",
              "      <td>strict</td>\n",
              "      <td>NaN</td>\n",
              "      <td>f</td>\n",
              "      <td>100.000</td>\n",
              "      <td>1.000</td>\n",
              "      <td>1.000</td>\n",
              "      <td>5.298</td>\n",
              "    </tr>\n",
              "    <tr>\n",
              "      <th>348</th>\n",
              "      <td>18388570</td>\n",
              "      <td>Entire home/apt</td>\n",
              "      <td>2.000</td>\n",
              "      <td>1.000</td>\n",
              "      <td>strict</td>\n",
              "      <td>False</td>\n",
              "      <td>f</td>\n",
              "      <td>20.000</td>\n",
              "      <td>0.000</td>\n",
              "      <td>1.000</td>\n",
              "      <td>4.605</td>\n",
              "    </tr>\n",
              "    <tr>\n",
              "      <th>349</th>\n",
              "      <td>20620600</td>\n",
              "      <td>Private room</td>\n",
              "      <td>2.000</td>\n",
              "      <td>1.000</td>\n",
              "      <td>strict</td>\n",
              "      <td>True</td>\n",
              "      <td>f</td>\n",
              "      <td>20.000</td>\n",
              "      <td>1.000</td>\n",
              "      <td>1.000</td>\n",
              "      <td>5.220</td>\n",
              "    </tr>\n",
              "    <tr>\n",
              "      <th>399</th>\n",
              "      <td>2484207</td>\n",
              "      <td>Entire home/apt</td>\n",
              "      <td>2.000</td>\n",
              "      <td>1.000</td>\n",
              "      <td>strict</td>\n",
              "      <td>NaN</td>\n",
              "      <td>t</td>\n",
              "      <td>100.000</td>\n",
              "      <td>1.000</td>\n",
              "      <td>1.000</td>\n",
              "      <td>5.704</td>\n",
              "    </tr>\n",
              "    <tr>\n",
              "      <th>454</th>\n",
              "      <td>7939196</td>\n",
              "      <td>Entire home/apt</td>\n",
              "      <td>2.000</td>\n",
              "      <td>1.000</td>\n",
              "      <td>strict</td>\n",
              "      <td>True</td>\n",
              "      <td>f</td>\n",
              "      <td>82.000</td>\n",
              "      <td>1.000</td>\n",
              "      <td>3.000</td>\n",
              "      <td>4.868</td>\n",
              "    </tr>\n",
              "    <tr>\n",
              "      <th>574</th>\n",
              "      <td>169306</td>\n",
              "      <td>Entire home/apt</td>\n",
              "      <td>3.000</td>\n",
              "      <td>1.000</td>\n",
              "      <td>strict</td>\n",
              "      <td>False</td>\n",
              "      <td>f</td>\n",
              "      <td>20.000</td>\n",
              "      <td>0.000</td>\n",
              "      <td>2.000</td>\n",
              "      <td>4.317</td>\n",
              "    </tr>\n",
              "  </tbody>\n",
              "</table>\n",
              "</div>\n",
              "      <button class=\"colab-df-convert\" onclick=\"convertToInteractive('df-c5af83e8-efbf-4b22-9e09-23774d3efc97')\"\n",
              "              title=\"Convert this dataframe to an interactive table.\"\n",
              "              style=\"display:none;\">\n",
              "        \n",
              "  <svg xmlns=\"http://www.w3.org/2000/svg\" height=\"24px\"viewBox=\"0 0 24 24\"\n",
              "       width=\"24px\">\n",
              "    <path d=\"M0 0h24v24H0V0z\" fill=\"none\"/>\n",
              "    <path d=\"M18.56 5.44l.94 2.06.94-2.06 2.06-.94-2.06-.94-.94-2.06-.94 2.06-2.06.94zm-11 1L8.5 8.5l.94-2.06 2.06-.94-2.06-.94L8.5 2.5l-.94 2.06-2.06.94zm10 10l.94 2.06.94-2.06 2.06-.94-2.06-.94-.94-2.06-.94 2.06-2.06.94z\"/><path d=\"M17.41 7.96l-1.37-1.37c-.4-.4-.92-.59-1.43-.59-.52 0-1.04.2-1.43.59L10.3 9.45l-7.72 7.72c-.78.78-.78 2.05 0 2.83L4 21.41c.39.39.9.59 1.41.59.51 0 1.02-.2 1.41-.59l7.78-7.78 2.81-2.81c.8-.78.8-2.07 0-2.86zM5.41 20L4 18.59l7.72-7.72 1.47 1.35L5.41 20z\"/>\n",
              "  </svg>\n",
              "      </button>\n",
              "      \n",
              "  <style>\n",
              "    .colab-df-container {\n",
              "      display:flex;\n",
              "      flex-wrap:wrap;\n",
              "      gap: 12px;\n",
              "    }\n",
              "\n",
              "    .colab-df-convert {\n",
              "      background-color: #E8F0FE;\n",
              "      border: none;\n",
              "      border-radius: 50%;\n",
              "      cursor: pointer;\n",
              "      display: none;\n",
              "      fill: #1967D2;\n",
              "      height: 32px;\n",
              "      padding: 0 0 0 0;\n",
              "      width: 32px;\n",
              "    }\n",
              "\n",
              "    .colab-df-convert:hover {\n",
              "      background-color: #E2EBFA;\n",
              "      box-shadow: 0px 1px 2px rgba(60, 64, 67, 0.3), 0px 1px 3px 1px rgba(60, 64, 67, 0.15);\n",
              "      fill: #174EA6;\n",
              "    }\n",
              "\n",
              "    [theme=dark] .colab-df-convert {\n",
              "      background-color: #3B4455;\n",
              "      fill: #D2E3FC;\n",
              "    }\n",
              "\n",
              "    [theme=dark] .colab-df-convert:hover {\n",
              "      background-color: #434B5C;\n",
              "      box-shadow: 0px 1px 3px 1px rgba(0, 0, 0, 0.15);\n",
              "      filter: drop-shadow(0px 1px 2px rgba(0, 0, 0, 0.3));\n",
              "      fill: #FFFFFF;\n",
              "    }\n",
              "  </style>\n",
              "\n",
              "      <script>\n",
              "        const buttonEl =\n",
              "          document.querySelector('#df-c5af83e8-efbf-4b22-9e09-23774d3efc97 button.colab-df-convert');\n",
              "        buttonEl.style.display =\n",
              "          google.colab.kernel.accessAllowed ? 'block' : 'none';\n",
              "\n",
              "        async function convertToInteractive(key) {\n",
              "          const element = document.querySelector('#df-c5af83e8-efbf-4b22-9e09-23774d3efc97');\n",
              "          const dataTable =\n",
              "            await google.colab.kernel.invokeFunction('convertToInteractive',\n",
              "                                                     [key], {});\n",
              "          if (!dataTable) return;\n",
              "\n",
              "          const docLinkHtml = 'Like what you see? Visit the ' +\n",
              "            '<a target=\"_blank\" href=https://colab.research.google.com/notebooks/data_table.ipynb>data table notebook</a>'\n",
              "            + ' to learn more about interactive tables.';\n",
              "          element.innerHTML = '';\n",
              "          dataTable['output_type'] = 'display_data';\n",
              "          await google.colab.output.renderOutput(dataTable, element);\n",
              "          const docLink = document.createElement('div');\n",
              "          docLink.innerHTML = docLinkHtml;\n",
              "          element.appendChild(docLink);\n",
              "        }\n",
              "      </script>\n",
              "    </div>\n",
              "  </div>\n",
              "  "
            ]
          },
          "metadata": {},
          "execution_count": 27
        }
      ],
      "source": [
        "AirBNB[bool_series] "
      ]
    },
    {
      "cell_type": "code",
      "execution_count": 28,
      "metadata": {
        "colab": {
          "base_uri": "https://localhost:8080/"
        },
        "id": "XTNocyIvtajY",
        "outputId": "c1347350-aa96-4c3b-def6-e805c18b674b"
      },
      "outputs": [
        {
          "output_type": "execute_result",
          "data": {
            "text/plain": [
              "True     54399\n",
              "False    19708\n",
              "Name: cleaning_fee, dtype: int64"
            ]
          },
          "metadata": {},
          "execution_count": 28
        }
      ],
      "source": [
        "AirBNB['cleaning_fee'].value_counts()"
      ]
    },
    {
      "cell_type": "code",
      "execution_count": 29,
      "metadata": {
        "id": "ikYq3TzAtmWe"
      },
      "outputs": [],
      "source": [
        "# Replacing all null values with True since it has the majority count in the cleaning_fee column\n",
        "\n",
        "AirBNB.cleaning_fee = AirBNB.cleaning_fee.fillna(True)"
      ]
    },
    {
      "cell_type": "code",
      "execution_count": 30,
      "metadata": {
        "id": "ezaOZ4mJtr2r"
      },
      "outputs": [],
      "source": [
        "# Replacing all t with True and f with False in instant_bookable column**\n",
        "\n",
        "AirBNB['instant_bookable'] = AirBNB['instant_bookable'].map(\n",
        "                   {'t':True ,'f':False})"
      ]
    },
    {
      "cell_type": "code",
      "execution_count": 31,
      "metadata": {
        "colab": {
          "base_uri": "https://localhost:8080/"
        },
        "id": "equnxcJ0uDK8",
        "outputId": "6bc97b6e-c674-4958-d395-8d7aa6e01740"
      },
      "outputs": [
        {
          "output_type": "execute_result",
          "data": {
            "text/plain": [
              "id                      0\n",
              "room_type               0\n",
              "accommodates            0\n",
              "bathrooms               0\n",
              "cancellation_policy     0\n",
              "cleaning_fee            0\n",
              "instant_bookable        0\n",
              "review_scores_rating    0\n",
              "bedrooms                0\n",
              "beds                    0\n",
              "log_price               0\n",
              "dtype: int64"
            ]
          },
          "metadata": {},
          "execution_count": 31
        }
      ],
      "source": [
        "# checking if all missing values have been replaced\n",
        "\n",
        "AirBNB.isnull().sum()"
      ]
    },
    {
      "cell_type": "markdown",
      "metadata": {
        "id": "TUesM2BNv7vu"
      },
      "source": [
        "### EDA"
      ]
    },
    {
      "cell_type": "markdown",
      "metadata": {
        "id": "wEivTb3SwTLE"
      },
      "source": [
        "## Univariate analysis\n"
      ]
    },
    {
      "cell_type": "code",
      "source": [
        "AirBNB.describe()"
      ],
      "metadata": {
        "colab": {
          "base_uri": "https://localhost:8080/",
          "height": 364
        },
        "id": "jHplxHU7QltR",
        "outputId": "9ce5dba4-0d14-4174-ec71-fbc27ae6b414"
      },
      "execution_count": 32,
      "outputs": [
        {
          "output_type": "execute_result",
          "data": {
            "text/plain": [
              "                id  accommodates  bathrooms  review_scores_rating  bedrooms  \\\n",
              "count    74111.000     74111.000  74111.000             74111.000 74111.000   \n",
              "mean  11266617.102         3.155      1.235                77.355     1.265   \n",
              "std    6081734.887         2.154      0.581                31.719     0.852   \n",
              "min        344.000         1.000      0.000                20.000     0.000   \n",
              "25%    6261964.500         2.000      1.000                80.000     1.000   \n",
              "50%   12254147.000         2.000      1.000                94.000     1.000   \n",
              "75%   16402260.500         4.000      1.000                99.000     1.000   \n",
              "max   21230903.000        16.000      8.000               100.000    10.000   \n",
              "\n",
              "           beds  log_price  \n",
              "count 74111.000  74111.000  \n",
              "mean      1.710      4.782  \n",
              "std       1.253      0.717  \n",
              "min       0.000      0.000  \n",
              "25%       1.000      4.317  \n",
              "50%       1.000      4.710  \n",
              "75%       2.000      5.220  \n",
              "max      18.000      7.600  "
            ],
            "text/html": [
              "\n",
              "  <div id=\"df-1a06431e-b913-4d3c-b0cf-f3a253f2a4c6\">\n",
              "    <div class=\"colab-df-container\">\n",
              "      <div>\n",
              "<style scoped>\n",
              "    .dataframe tbody tr th:only-of-type {\n",
              "        vertical-align: middle;\n",
              "    }\n",
              "\n",
              "    .dataframe tbody tr th {\n",
              "        vertical-align: top;\n",
              "    }\n",
              "\n",
              "    .dataframe thead th {\n",
              "        text-align: right;\n",
              "    }\n",
              "</style>\n",
              "<table border=\"1\" class=\"dataframe\">\n",
              "  <thead>\n",
              "    <tr style=\"text-align: right;\">\n",
              "      <th></th>\n",
              "      <th>id</th>\n",
              "      <th>accommodates</th>\n",
              "      <th>bathrooms</th>\n",
              "      <th>review_scores_rating</th>\n",
              "      <th>bedrooms</th>\n",
              "      <th>beds</th>\n",
              "      <th>log_price</th>\n",
              "    </tr>\n",
              "  </thead>\n",
              "  <tbody>\n",
              "    <tr>\n",
              "      <th>count</th>\n",
              "      <td>74111.000</td>\n",
              "      <td>74111.000</td>\n",
              "      <td>74111.000</td>\n",
              "      <td>74111.000</td>\n",
              "      <td>74111.000</td>\n",
              "      <td>74111.000</td>\n",
              "      <td>74111.000</td>\n",
              "    </tr>\n",
              "    <tr>\n",
              "      <th>mean</th>\n",
              "      <td>11266617.102</td>\n",
              "      <td>3.155</td>\n",
              "      <td>1.235</td>\n",
              "      <td>77.355</td>\n",
              "      <td>1.265</td>\n",
              "      <td>1.710</td>\n",
              "      <td>4.782</td>\n",
              "    </tr>\n",
              "    <tr>\n",
              "      <th>std</th>\n",
              "      <td>6081734.887</td>\n",
              "      <td>2.154</td>\n",
              "      <td>0.581</td>\n",
              "      <td>31.719</td>\n",
              "      <td>0.852</td>\n",
              "      <td>1.253</td>\n",
              "      <td>0.717</td>\n",
              "    </tr>\n",
              "    <tr>\n",
              "      <th>min</th>\n",
              "      <td>344.000</td>\n",
              "      <td>1.000</td>\n",
              "      <td>0.000</td>\n",
              "      <td>20.000</td>\n",
              "      <td>0.000</td>\n",
              "      <td>0.000</td>\n",
              "      <td>0.000</td>\n",
              "    </tr>\n",
              "    <tr>\n",
              "      <th>25%</th>\n",
              "      <td>6261964.500</td>\n",
              "      <td>2.000</td>\n",
              "      <td>1.000</td>\n",
              "      <td>80.000</td>\n",
              "      <td>1.000</td>\n",
              "      <td>1.000</td>\n",
              "      <td>4.317</td>\n",
              "    </tr>\n",
              "    <tr>\n",
              "      <th>50%</th>\n",
              "      <td>12254147.000</td>\n",
              "      <td>2.000</td>\n",
              "      <td>1.000</td>\n",
              "      <td>94.000</td>\n",
              "      <td>1.000</td>\n",
              "      <td>1.000</td>\n",
              "      <td>4.710</td>\n",
              "    </tr>\n",
              "    <tr>\n",
              "      <th>75%</th>\n",
              "      <td>16402260.500</td>\n",
              "      <td>4.000</td>\n",
              "      <td>1.000</td>\n",
              "      <td>99.000</td>\n",
              "      <td>1.000</td>\n",
              "      <td>2.000</td>\n",
              "      <td>5.220</td>\n",
              "    </tr>\n",
              "    <tr>\n",
              "      <th>max</th>\n",
              "      <td>21230903.000</td>\n",
              "      <td>16.000</td>\n",
              "      <td>8.000</td>\n",
              "      <td>100.000</td>\n",
              "      <td>10.000</td>\n",
              "      <td>18.000</td>\n",
              "      <td>7.600</td>\n",
              "    </tr>\n",
              "  </tbody>\n",
              "</table>\n",
              "</div>\n",
              "      <button class=\"colab-df-convert\" onclick=\"convertToInteractive('df-1a06431e-b913-4d3c-b0cf-f3a253f2a4c6')\"\n",
              "              title=\"Convert this dataframe to an interactive table.\"\n",
              "              style=\"display:none;\">\n",
              "        \n",
              "  <svg xmlns=\"http://www.w3.org/2000/svg\" height=\"24px\"viewBox=\"0 0 24 24\"\n",
              "       width=\"24px\">\n",
              "    <path d=\"M0 0h24v24H0V0z\" fill=\"none\"/>\n",
              "    <path d=\"M18.56 5.44l.94 2.06.94-2.06 2.06-.94-2.06-.94-.94-2.06-.94 2.06-2.06.94zm-11 1L8.5 8.5l.94-2.06 2.06-.94-2.06-.94L8.5 2.5l-.94 2.06-2.06.94zm10 10l.94 2.06.94-2.06 2.06-.94-2.06-.94-.94-2.06-.94 2.06-2.06.94z\"/><path d=\"M17.41 7.96l-1.37-1.37c-.4-.4-.92-.59-1.43-.59-.52 0-1.04.2-1.43.59L10.3 9.45l-7.72 7.72c-.78.78-.78 2.05 0 2.83L4 21.41c.39.39.9.59 1.41.59.51 0 1.02-.2 1.41-.59l7.78-7.78 2.81-2.81c.8-.78.8-2.07 0-2.86zM5.41 20L4 18.59l7.72-7.72 1.47 1.35L5.41 20z\"/>\n",
              "  </svg>\n",
              "      </button>\n",
              "      \n",
              "  <style>\n",
              "    .colab-df-container {\n",
              "      display:flex;\n",
              "      flex-wrap:wrap;\n",
              "      gap: 12px;\n",
              "    }\n",
              "\n",
              "    .colab-df-convert {\n",
              "      background-color: #E8F0FE;\n",
              "      border: none;\n",
              "      border-radius: 50%;\n",
              "      cursor: pointer;\n",
              "      display: none;\n",
              "      fill: #1967D2;\n",
              "      height: 32px;\n",
              "      padding: 0 0 0 0;\n",
              "      width: 32px;\n",
              "    }\n",
              "\n",
              "    .colab-df-convert:hover {\n",
              "      background-color: #E2EBFA;\n",
              "      box-shadow: 0px 1px 2px rgba(60, 64, 67, 0.3), 0px 1px 3px 1px rgba(60, 64, 67, 0.15);\n",
              "      fill: #174EA6;\n",
              "    }\n",
              "\n",
              "    [theme=dark] .colab-df-convert {\n",
              "      background-color: #3B4455;\n",
              "      fill: #D2E3FC;\n",
              "    }\n",
              "\n",
              "    [theme=dark] .colab-df-convert:hover {\n",
              "      background-color: #434B5C;\n",
              "      box-shadow: 0px 1px 3px 1px rgba(0, 0, 0, 0.15);\n",
              "      filter: drop-shadow(0px 1px 2px rgba(0, 0, 0, 0.3));\n",
              "      fill: #FFFFFF;\n",
              "    }\n",
              "  </style>\n",
              "\n",
              "      <script>\n",
              "        const buttonEl =\n",
              "          document.querySelector('#df-1a06431e-b913-4d3c-b0cf-f3a253f2a4c6 button.colab-df-convert');\n",
              "        buttonEl.style.display =\n",
              "          google.colab.kernel.accessAllowed ? 'block' : 'none';\n",
              "\n",
              "        async function convertToInteractive(key) {\n",
              "          const element = document.querySelector('#df-1a06431e-b913-4d3c-b0cf-f3a253f2a4c6');\n",
              "          const dataTable =\n",
              "            await google.colab.kernel.invokeFunction('convertToInteractive',\n",
              "                                                     [key], {});\n",
              "          if (!dataTable) return;\n",
              "\n",
              "          const docLinkHtml = 'Like what you see? Visit the ' +\n",
              "            '<a target=\"_blank\" href=https://colab.research.google.com/notebooks/data_table.ipynb>data table notebook</a>'\n",
              "            + ' to learn more about interactive tables.';\n",
              "          element.innerHTML = '';\n",
              "          dataTable['output_type'] = 'display_data';\n",
              "          await google.colab.output.renderOutput(dataTable, element);\n",
              "          const docLink = document.createElement('div');\n",
              "          docLink.innerHTML = docLinkHtml;\n",
              "          element.appendChild(docLink);\n",
              "        }\n",
              "      </script>\n",
              "    </div>\n",
              "  </div>\n",
              "  "
            ]
          },
          "metadata": {},
          "execution_count": 32
        }
      ]
    },
    {
      "cell_type": "code",
      "execution_count": 33,
      "metadata": {
        "id": "lDlyYVgpuuvD"
      },
      "outputs": [],
      "source": [
        "def histogram_boxplot(feature, figsize=(15,10), bins = None):\n",
        "    \"\"\" Boxplot and histogram combined\n",
        "    feature: 1-d feature array\n",
        "    figsize: size of fig (default (9,8))\n",
        "    bins: number of bins (default None / auto)\n",
        "    \"\"\"\n",
        "    f2, (ax_box2, ax_hist2) = plt.subplots(nrows = 2, # Number of rows of the subplot grid= 2\n",
        "                                           sharex = True, # x-axis will be shared among all subplots\n",
        "                                           gridspec_kw = {\"height_ratios\": (.25, .75)}, \n",
        "                                           figsize = figsize \n",
        "                                           ) # creating the 2 subplots\n",
        "    sns.boxplot(feature, ax=ax_box2, showmeans=True, color='violet') # creating boxplot and using a star to indicate the mean of the column\n",
        "    sns.distplot(feature, kde=F, ax=ax_hist2, bins=bins,palette=\"winter\") if bins else sns.distplot(feature, kde=False, ax=ax_hist2) # For histogram\n",
        "    ax_hist2.axvline(np.mean(feature), color='green', linestyle='--') # Adding mean to the histogram\n",
        "    ax_hist2.axvline(np.median(feature), color='black', linestyle='-') # Adding median to the histogram"
      ]
    },
    {
      "cell_type": "code",
      "execution_count": 34,
      "metadata": {
        "id": "jgSbvGskwRRg"
      },
      "outputs": [],
      "source": [
        "def perc_on_bar(plot, feature):\n",
        "    '''\n",
        "    plot\n",
        "    feature: categorical feature\n",
        "    the function won't work if a column is passed in hue parameter\n",
        "    '''\n",
        "\n",
        "    total = len(feature) # length of the column\n",
        "    for p in ax.patches:\n",
        "        percentage = '{:.1f}%'.format(100 * p.get_height()/total) # percentage of each class of the category\n",
        "        x = p.get_x() + p.get_width() / 2 - 0.05 # width of the plot\n",
        "        y = p.get_y() + p.get_height()           # hieght of the plot\n",
        "        ax.annotate(percentage, (x, y), size = 12) # annotate the percantage \n",
        "        \n",
        "    plt.show() # show the plot"
      ]
    },
    {
      "cell_type": "code",
      "execution_count": 35,
      "metadata": {
        "colab": {
          "base_uri": "https://localhost:8080/",
          "height": 275
        },
        "id": "zsPjI_gfxURN",
        "outputId": "f4d9566d-8ef4-467d-f788-c9dea6ee669e"
      },
      "outputs": [
        {
          "output_type": "display_data",
          "data": {
            "text/plain": [
              "<Figure size 1080x360 with 1 Axes>"
            ],
            "image/png": "[encoded data removed]"
          },
          "metadata": {
            "needs_background": "light"
          }
        }
      ],
      "source": [
        "plt.figure(figsize=(15,5))\n",
        "ax = sns.countplot(AirBNB[\"room_type\"],palette='winter')\n",
        "perc_on_bar(ax,AirBNB[\"room_type\"])"
      ]
    },
    {
      "cell_type": "markdown",
      "metadata": {
        "id": "fFHtu_Dz0yjg"
      },
      "source": [
        "**55.7% are entire home/apt, 41.3% are private room and 2.9% are shared room**"
      ]
    },
    {
      "cell_type": "code",
      "execution_count": 36,
      "metadata": {
        "colab": {
          "base_uri": "https://localhost:8080/",
          "height": 504
        },
        "id": "cNUHNZ7RzY-e",
        "outputId": "a119d327-1601-476a-f4ff-877d5959b97f"
      },
      "outputs": [
        {
          "output_type": "display_data",
          "data": {
            "text/plain": [
              "<Figure size 1080x720 with 2 Axes>"
            ],
            "image/png": "[encoded data removed]"
          },
          "metadata": {
            "needs_background": "light"
          }
        }
      ],
      "source": [
        "histogram_boxplot(AirBNB['accommodates'])"
      ]
    },
    {
      "cell_type": "markdown",
      "metadata": {
        "id": "gRfjuSKv1SJP"
      },
      "source": [
        "**The max accommodations is 16 with an averge of 3**"
      ]
    },
    {
      "cell_type": "code",
      "execution_count": 37,
      "metadata": {
        "colab": {
          "base_uri": "https://localhost:8080/",
          "height": 504
        },
        "id": "oDYCgv74053c",
        "outputId": "d6dacd42-a3d2-420a-b902-527d9cc400b1"
      },
      "outputs": [
        {
          "output_type": "display_data",
          "data": {
            "text/plain": [
              "<Figure size 1080x720 with 2 Axes>"
            ],
            "image/png": "[encoded data removed]"
          },
          "metadata": {
            "needs_background": "light"
          }
        }
      ],
      "source": [
        "histogram_boxplot(AirBNB['bathrooms'])"
      ]
    },
    {
      "cell_type": "markdown",
      "metadata": {
        "id": "HqaCblw91ZoI"
      },
      "source": [
        "**The max bathrooms is 5 with an averge of 1.2**"
      ]
    },
    {
      "cell_type": "code",
      "execution_count": 38,
      "metadata": {
        "colab": {
          "base_uri": "https://localhost:8080/",
          "height": 276
        },
        "id": "94tWaPmL1OwS",
        "outputId": "39e05e7d-0b84-4b39-bb6f-a2a8bc9fafec"
      },
      "outputs": [
        {
          "output_type": "display_data",
          "data": {
            "text/plain": [
              "<Figure size 1080x360 with 1 Axes>"
            ],
            "image/png": "[encoded data removed]"
          },
          "metadata": {
            "needs_background": "light"
          }
        }
      ],
      "source": [
        "\n",
        "plt.figure(figsize=(15,5))\n",
        "ax = sns.countplot(AirBNB[\"cancellation_policy\"],palette='winter')\n",
        "perc_on_bar(ax,AirBNB[\"cancellation_policy\"])"
      ]
    },
    {
      "cell_type": "markdown",
      "metadata": {
        "id": "-5ZrW2Uu25XN"
      },
      "source": [
        "**About 30.4 % of the cancellation policy is flexible and 44% is strict**"
      ]
    },
    {
      "cell_type": "code",
      "execution_count": 39,
      "metadata": {
        "colab": {
          "base_uri": "https://localhost:8080/",
          "height": 276
        },
        "id": "ZTJxFJyh2zMv",
        "outputId": "b7ca3d62-647e-46b9-ddfe-d5de9ef847b9"
      },
      "outputs": [
        {
          "output_type": "display_data",
          "data": {
            "text/plain": [
              "<Figure size 1080x360 with 1 Axes>"
            ],
            "image/png": "[encoded data removed]"
          },
          "metadata": {
            "needs_background": "light"
          }
        }
      ],
      "source": [
        "plt.figure(figsize=(15,5))\n",
        "ax = sns.countplot(AirBNB[\"instant_bookable\"],palette='winter')\n",
        "perc_on_bar(ax,AirBNB[\"instant_bookable\"])"
      ]
    },
    {
      "cell_type": "markdown",
      "metadata": {
        "id": "rAIvfjvv3DTm"
      },
      "source": [
        "**About 78.3 percent of the rentals are not instant bookable**"
      ]
    },
    {
      "cell_type": "code",
      "execution_count": 40,
      "metadata": {
        "colab": {
          "base_uri": "https://localhost:8080/",
          "height": 503
        },
        "id": "HOLB6RbO2_aS",
        "outputId": "7ac70a22-bdc2-477f-cef2-8e17e37129b1"
      },
      "outputs": [
        {
          "output_type": "display_data",
          "data": {
            "text/plain": [
              "<Figure size 1080x720 with 2 Axes>"
            ],
            "image/png": "[encoded data removed]"
          },
          "metadata": {
            "needs_background": "light"
          }
        }
      ],
      "source": [
        "histogram_boxplot(AirBNB['review_scores_rating'])"
      ]
    },
    {
      "cell_type": "markdown",
      "metadata": {
        "id": "AEr1UYHB3MV7"
      },
      "source": [
        "**All the missing values set to 20 the averge is 78%**"
      ]
    },
    {
      "cell_type": "code",
      "execution_count": 41,
      "metadata": {
        "colab": {
          "base_uri": "https://localhost:8080/",
          "height": 504
        },
        "id": "jReLu7tX3JVN",
        "outputId": "e21b1099-8057-4e1a-fe91-dc22239e0513"
      },
      "outputs": [
        {
          "output_type": "display_data",
          "data": {
            "text/plain": [
              "<Figure size 1080x720 with 2 Axes>"
            ],
            "image/png": "[encoded data removed]"
          },
          "metadata": {
            "needs_background": "light"
          }
        }
      ],
      "source": [
        "histogram_boxplot(AirBNB['bedrooms'])"
      ]
    },
    {
      "cell_type": "markdown",
      "metadata": {
        "id": "pfRlcmqL3aOw"
      },
      "source": [
        "*   The averge bathrooms in a rental is 1.6\n",
        "*   Alot of outliers"
      ]
    },
    {
      "cell_type": "code",
      "execution_count": 42,
      "metadata": {
        "colab": {
          "base_uri": "https://localhost:8080/",
          "height": 504
        },
        "id": "UXo6kCbM3Uxf",
        "outputId": "1b40fdf6-6ebc-4a90-a839-10e3e299d288"
      },
      "outputs": [
        {
          "output_type": "display_data",
          "data": {
            "text/plain": [
              "<Figure size 1080x720 with 2 Axes>"
            ],
            "image/png": "[encoded data removed]"
          },
          "metadata": {
            "needs_background": "light"
          }
        }
      ],
      "source": [
        "histogram_boxplot(AirBNB['beds'])"
      ]
    },
    {
      "cell_type": "markdown",
      "metadata": {
        "id": "MoE_FYm63u4u"
      },
      "source": [
        "\n",
        "*  The averge beds in a rental is 1.5\n",
        "*   Alot of outliers\n",
        "\n"
      ]
    },
    {
      "cell_type": "code",
      "execution_count": 43,
      "metadata": {
        "colab": {
          "base_uri": "https://localhost:8080/",
          "height": 507
        },
        "id": "ZuP4Ktrq3oto",
        "outputId": "620ac4bf-6eda-467f-9f88-5203b3cee877"
      },
      "outputs": [
        {
          "output_type": "display_data",
          "data": {
            "text/plain": [
              "<Figure size 1080x720 with 2 Axes>"
            ],
            "image/png": "[encoded data removed]"
          },
          "metadata": {
            "needs_background": "light"
          }
        }
      ],
      "source": [
        "histogram_boxplot(AirBNB['log_price'])"
      ]
    },
    {
      "cell_type": "code",
      "execution_count": 44,
      "metadata": {
        "colab": {
          "base_uri": "https://localhost:8080/",
          "height": 557
        },
        "id": "ncppc9O135nn",
        "outputId": "eedfc8b8-3446-4b9a-e08d-4d46e8914de1"
      },
      "outputs": [
        {
          "output_type": "display_data",
          "data": {
            "text/plain": [
              "<Figure size 1224x5400 with 7 Axes>"
            ],
            "image/png": "[encoded data removed]"
          },
          "metadata": {
            "needs_background": "light"
          }
        }
      ],
      "source": [
        "# ploting histogram chart of all plots\n",
        "from scipy.stats import norm\n",
        "all_col = AirBNB.select_dtypes(include=np.number).columns.tolist()\n",
        "plt.figure(figsize=(17,75))\n",
        "\n",
        "for i in range(len(all_col)):\n",
        "    plt.subplot(18,3,i+1)\n",
        "    plt.hist(AirBNB[all_col[i]])\n",
        "    #sns.displot(df[all_col[i]], kde=True)\n",
        "    plt.tight_layout()\n",
        "    plt.title(all_col[i],fontsize=25)\n",
        "    \n",
        "\n",
        "plt.show()"
      ]
    },
    {
      "cell_type": "markdown",
      "metadata": {
        "id": "6nzGooXh4AAe"
      },
      "source": [
        "## Bivariate analysis"
      ]
    },
    {
      "cell_type": "code",
      "execution_count": 45,
      "metadata": {
        "colab": {
          "base_uri": "https://localhost:8080/",
          "height": 391
        },
        "id": "BmD-3Y2U38vR",
        "outputId": "d31aca99-d46f-410c-bec7-a6e928872d8a"
      },
      "outputs": [
        {
          "output_type": "display_data",
          "data": {
            "text/plain": [
              "<Figure size 1440x720 with 2 Axes>"
            ],
            "image/png": "[encoded data removed]"
          },
          "metadata": {
            "needs_background": "light"
          }
        }
      ],
      "source": [
        "plt.figure(figsize=(20,10))\n",
        "sns.heatmap(AirBNB.corr(),annot=True,vmin=-1,vmax=1,fmt='.2f')\n",
        "plt.show()"
      ]
    },
    {
      "cell_type": "code",
      "execution_count": 46,
      "metadata": {
        "colab": {
          "base_uri": "https://localhost:8080/",
          "height": 567
        },
        "id": "eey5DBZl0AXC",
        "outputId": "0820caff-0a8a-4818-9e58-519528eff79e"
      },
      "outputs": [
        {
          "output_type": "execute_result",
          "data": {
            "text/plain": [
              "<seaborn.axisgrid.PairGrid at 0x7fd9866c5be0>"
            ]
          },
          "metadata": {},
          "execution_count": 46
        },
        {
          "output_type": "display_data",
          "data": {
            "text/plain": [
              "<Figure size 540x540 with 12 Axes>"
            ],
            "image/png": "[encoded data removed]"
          },
          "metadata": {
            "needs_background": "light"
          }
        }
      ],
      "source": [
        "AirBNB_attr = AirBNB.iloc[:, 0:7]\n",
        "sns.pairplot(AirBNB_attr, diag_kind='kde')   # to plot density curve instead of histogram on the diag"
      ]
    },
    {
      "cell_type": "markdown",
      "metadata": {
        "id": "Z44pMP9Q5OYX"
      },
      "source": [
        "\n",
        "\n",
        "*   there  is a big Correlation between beds and accommodates, which makes sense because guest need a bed to sleep.\n",
        "*   There is also another Correlation between bedroom and beds.\n",
        "\n"
      ]
    },
    {
      "cell_type": "code",
      "execution_count": 47,
      "metadata": {
        "colab": {
          "base_uri": "https://localhost:8080/",
          "height": 333
        },
        "id": "GdllyvS04Dxl",
        "outputId": "cdede402-c8b3-4b99-90ca-af79bea25f95"
      },
      "outputs": [
        {
          "output_type": "execute_result",
          "data": {
            "text/plain": [
              "                         id  accommodates  bathrooms  review_scores_rating  \\\n",
              "id                    1.000        -0.006     -0.004                -0.004   \n",
              "accommodates         -0.006         1.000      0.506                 0.050   \n",
              "bathrooms            -0.004         0.506      1.000                -0.025   \n",
              "review_scores_rating -0.004         0.050     -0.025                 1.000   \n",
              "bedrooms             -0.008         0.709      0.590                -0.008   \n",
              "beds                 -0.009         0.810      0.526                 0.035   \n",
              "log_price            -0.007         0.568      0.355                -0.067   \n",
              "\n",
              "                      bedrooms   beds  log_price  \n",
              "id                      -0.008 -0.009     -0.007  \n",
              "accommodates             0.709  0.810      0.568  \n",
              "bathrooms                0.590  0.526      0.355  \n",
              "review_scores_rating    -0.008  0.035     -0.067  \n",
              "bedrooms                 1.000  0.709      0.473  \n",
              "beds                     0.709  1.000      0.442  \n",
              "log_price                0.473  0.442      1.000  "
            ],
            "text/html": [
              "\n",
              "  <div id=\"df-cdaf251b-021a-43ee-8fde-81892dfda673\">\n",
              "    <div class=\"colab-df-container\">\n",
              "      <div>\n",
              "<style scoped>\n",
              "    .dataframe tbody tr th:only-of-type {\n",
              "        vertical-align: middle;\n",
              "    }\n",
              "\n",
              "    .dataframe tbody tr th {\n",
              "        vertical-align: top;\n",
              "    }\n",
              "\n",
              "    .dataframe thead th {\n",
              "        text-align: right;\n",
              "    }\n",
              "</style>\n",
              "<table border=\"1\" class=\"dataframe\">\n",
              "  <thead>\n",
              "    <tr style=\"text-align: right;\">\n",
              "      <th></th>\n",
              "      <th>id</th>\n",
              "      <th>accommodates</th>\n",
              "      <th>bathrooms</th>\n",
              "      <th>review_scores_rating</th>\n",
              "      <th>bedrooms</th>\n",
              "      <th>beds</th>\n",
              "      <th>log_price</th>\n",
              "    </tr>\n",
              "  </thead>\n",
              "  <tbody>\n",
              "    <tr>\n",
              "      <th>id</th>\n",
              "      <td>1.000</td>\n",
              "      <td>-0.006</td>\n",
              "      <td>-0.004</td>\n",
              "      <td>-0.004</td>\n",
              "      <td>-0.008</td>\n",
              "      <td>-0.009</td>\n",
              "      <td>-0.007</td>\n",
              "    </tr>\n",
              "    <tr>\n",
              "      <th>accommodates</th>\n",
              "      <td>-0.006</td>\n",
              "      <td>1.000</td>\n",
              "      <td>0.506</td>\n",
              "      <td>0.050</td>\n",
              "      <td>0.709</td>\n",
              "      <td>0.810</td>\n",
              "      <td>0.568</td>\n",
              "    </tr>\n",
              "    <tr>\n",
              "      <th>bathrooms</th>\n",
              "      <td>-0.004</td>\n",
              "      <td>0.506</td>\n",
              "      <td>1.000</td>\n",
              "      <td>-0.025</td>\n",
              "      <td>0.590</td>\n",
              "      <td>0.526</td>\n",
              "      <td>0.355</td>\n",
              "    </tr>\n",
              "    <tr>\n",
              "      <th>review_scores_rating</th>\n",
              "      <td>-0.004</td>\n",
              "      <td>0.050</td>\n",
              "      <td>-0.025</td>\n",
              "      <td>1.000</td>\n",
              "      <td>-0.008</td>\n",
              "      <td>0.035</td>\n",
              "      <td>-0.067</td>\n",
              "    </tr>\n",
              "    <tr>\n",
              "      <th>bedrooms</th>\n",
              "      <td>-0.008</td>\n",
              "      <td>0.709</td>\n",
              "      <td>0.590</td>\n",
              "      <td>-0.008</td>\n",
              "      <td>1.000</td>\n",
              "      <td>0.709</td>\n",
              "      <td>0.473</td>\n",
              "    </tr>\n",
              "    <tr>\n",
              "      <th>beds</th>\n",
              "      <td>-0.009</td>\n",
              "      <td>0.810</td>\n",
              "      <td>0.526</td>\n",
              "      <td>0.035</td>\n",
              "      <td>0.709</td>\n",
              "      <td>1.000</td>\n",
              "      <td>0.442</td>\n",
              "    </tr>\n",
              "    <tr>\n",
              "      <th>log_price</th>\n",
              "      <td>-0.007</td>\n",
              "      <td>0.568</td>\n",
              "      <td>0.355</td>\n",
              "      <td>-0.067</td>\n",
              "      <td>0.473</td>\n",
              "      <td>0.442</td>\n",
              "      <td>1.000</td>\n",
              "    </tr>\n",
              "  </tbody>\n",
              "</table>\n",
              "</div>\n",
              "      <button class=\"colab-df-convert\" onclick=\"convertToInteractive('df-cdaf251b-021a-43ee-8fde-81892dfda673')\"\n",
              "              title=\"Convert this dataframe to an interactive table.\"\n",
              "              style=\"display:none;\">\n",
              "        \n",
              "  <svg xmlns=\"http://www.w3.org/2000/svg\" height=\"24px\"viewBox=\"0 0 24 24\"\n",
              "       width=\"24px\">\n",
              "    <path d=\"M0 0h24v24H0V0z\" fill=\"none\"/>\n",
              "    <path d=\"M18.56 5.44l.94 2.06.94-2.06 2.06-.94-2.06-.94-.94-2.06-.94 2.06-2.06.94zm-11 1L8.5 8.5l.94-2.06 2.06-.94-2.06-.94L8.5 2.5l-.94 2.06-2.06.94zm10 10l.94 2.06.94-2.06 2.06-.94-2.06-.94-.94-2.06-.94 2.06-2.06.94z\"/><path d=\"M17.41 7.96l-1.37-1.37c-.4-.4-.92-.59-1.43-.59-.52 0-1.04.2-1.43.59L10.3 9.45l-7.72 7.72c-.78.78-.78 2.05 0 2.83L4 21.41c.39.39.9.59 1.41.59.51 0 1.02-.2 1.41-.59l7.78-7.78 2.81-2.81c.8-.78.8-2.07 0-2.86zM5.41 20L4 18.59l7.72-7.72 1.47 1.35L5.41 20z\"/>\n",
              "  </svg>\n",
              "      </button>\n",
              "      \n",
              "  <style>\n",
              "    .colab-df-container {\n",
              "      display:flex;\n",
              "      flex-wrap:wrap;\n",
              "      gap: 12px;\n",
              "    }\n",
              "\n",
              "    .colab-df-convert {\n",
              "      background-color: #E8F0FE;\n",
              "      border: none;\n",
              "      border-radius: 50%;\n",
              "      cursor: pointer;\n",
              "      display: none;\n",
              "      fill: #1967D2;\n",
              "      height: 32px;\n",
              "      padding: 0 0 0 0;\n",
              "      width: 32px;\n",
              "    }\n",
              "\n",
              "    .colab-df-convert:hover {\n",
              "      background-color: #E2EBFA;\n",
              "      box-shadow: 0px 1px 2px rgba(60, 64, 67, 0.3), 0px 1px 3px 1px rgba(60, 64, 67, 0.15);\n",
              "      fill: #174EA6;\n",
              "    }\n",
              "\n",
              "    [theme=dark] .colab-df-convert {\n",
              "      background-color: #3B4455;\n",
              "      fill: #D2E3FC;\n",
              "    }\n",
              "\n",
              "    [theme=dark] .colab-df-convert:hover {\n",
              "      background-color: #434B5C;\n",
              "      box-shadow: 0px 1px 3px 1px rgba(0, 0, 0, 0.15);\n",
              "      filter: drop-shadow(0px 1px 2px rgba(0, 0, 0, 0.3));\n",
              "      fill: #FFFFFF;\n",
              "    }\n",
              "  </style>\n",
              "\n",
              "      <script>\n",
              "        const buttonEl =\n",
              "          document.querySelector('#df-cdaf251b-021a-43ee-8fde-81892dfda673 button.colab-df-convert');\n",
              "        buttonEl.style.display =\n",
              "          google.colab.kernel.accessAllowed ? 'block' : 'none';\n",
              "\n",
              "        async function convertToInteractive(key) {\n",
              "          const element = document.querySelector('#df-cdaf251b-021a-43ee-8fde-81892dfda673');\n",
              "          const dataTable =\n",
              "            await google.colab.kernel.invokeFunction('convertToInteractive',\n",
              "                                                     [key], {});\n",
              "          if (!dataTable) return;\n",
              "\n",
              "          const docLinkHtml = 'Like what you see? Visit the ' +\n",
              "            '<a target=\"_blank\" href=https://colab.research.google.com/notebooks/data_table.ipynb>data table notebook</a>'\n",
              "            + ' to learn more about interactive tables.';\n",
              "          element.innerHTML = '';\n",
              "          dataTable['output_type'] = 'display_data';\n",
              "          await google.colab.output.renderOutput(dataTable, element);\n",
              "          const docLink = document.createElement('div');\n",
              "          docLink.innerHTML = docLinkHtml;\n",
              "          element.appendChild(docLink);\n",
              "        }\n",
              "      </script>\n",
              "    </div>\n",
              "  </div>\n",
              "  "
            ]
          },
          "metadata": {},
          "execution_count": 47
        }
      ],
      "source": [
        "AirBNB.corr(method ='pearson') "
      ]
    },
    {
      "cell_type": "code",
      "execution_count": 48,
      "metadata": {
        "colab": {
          "base_uri": "https://localhost:8080/",
          "height": 690
        },
        "id": "5QNCI-_O5YZ7",
        "outputId": "4e6b60b7-8aa7-453a-a0a7-f678198b1fc9"
      },
      "outputs": [
        {
          "output_type": "display_data",
          "data": {
            "text/plain": [
              "<Figure size 1080x1440 with 3 Axes>"
            ],
            "image/png": "[encoded data removed]"
          },
          "metadata": {
            "needs_background": "light"
          }
        }
      ],
      "source": [
        "cols = AirBNB[['bathrooms','bedrooms','beds']].columns.tolist()\n",
        "plt.figure(figsize=(15,20))\n",
        "\n",
        "for i, variable in enumerate(cols):\n",
        "                     plt.subplot(3,2,i+1)\n",
        "                     sns.boxplot(AirBNB[\"accommodates\"],AirBNB[variable],palette=\"PuBu\")\n",
        "                     plt.tight_layout()\n",
        "                     plt.title(variable)\n",
        "plt.show()"
      ]
    },
    {
      "cell_type": "markdown",
      "metadata": {
        "id": "DbdNLXUs5jGS"
      },
      "source": [
        "\n",
        "\n",
        "*   lower outliers exist in log_price, review_scores_rating,\n",
        "*   higher outliers seen in beds,bedrooms,bathrooms, accommodates\n",
        "\n"
      ]
    },
    {
      "cell_type": "code",
      "execution_count": 49,
      "metadata": {
        "id": "8hHlIV9y5cCM"
      },
      "outputs": [],
      "source": [
        "### Function to plot stacked bar charts for categorical columns\n",
        "def stacked_plot(x):\n",
        "    sns.set(palette='nipy_spectral')\n",
        "    tab1 = pd.crosstab(x,AirBNB['accommodates'],margins=True)\n",
        "    print(tab1)\n",
        "    print('-'*120)\n",
        "    tab = pd.crosstab(x,AirBNB['accommodates'],normalize='index')\n",
        "    tab.plot(kind='bar',stacked=True,figsize=(10,5))\n",
        "    plt.legend(loc='lower left', frameon=False)\n",
        "    plt.legend(loc=\"upper left\", bbox_to_anchor=(1,1))\n",
        "    plt.show()"
      ]
    },
    {
      "cell_type": "code",
      "execution_count": 50,
      "metadata": {
        "colab": {
          "base_uri": "https://localhost:8080/",
          "height": 682
        },
        "id": "i95Z0DQY5rTu",
        "outputId": "10552069-ad0b-4717-9e41-6ea71b5ceacb"
      },
      "outputs": [
        {
          "output_type": "stream",
          "name": "stdout",
          "text": [
            "accommodates      1.0    2.0   3.0    4.0   5.0   6.0  7.0   8.0  9.0  10.0  \\\n",
            "room_type                                                                     \n",
            "Entire home/apt   739  12019  5808  10462  3206  4720  907  1739  262   663   \n",
            "Private room     7551  19194  1879   1480   216   196   30    37    4    18   \n",
            "Shared room      1144    643   106    124    22    52    9    19    4    20   \n",
            "All              9434  31856  7793  12066  3444  4968  946  1795  270   701   \n",
            "\n",
            "accommodates     11.0  12.0  13.0  14.0  15.0  16.0    All  \n",
            "room_type                                                   \n",
            "Entire home/apt    77   258    35    97    49   272  41313  \n",
            "Private room        1     4     1     6     4    14  30635  \n",
            "Shared room         1     2     0     1     1    15   2163  \n",
            "All                79   264    36   104    54   301  74111  \n",
            "------------------------------------------------------------------------------------------------------------------------\n"
          ]
        },
        {
          "output_type": "display_data",
          "data": {
            "text/plain": [
              "<Figure size 720x360 with 1 Axes>"
            ],
            "image/png": "[encoded data removed]"
          },
          "metadata": {}
        }
      ],
      "source": [
        "stacked_plot(AirBNB['room_type'])"
      ]
    },
    {
      "cell_type": "code",
      "execution_count": 51,
      "metadata": {
        "colab": {
          "base_uri": "https://localhost:8080/",
          "height": 646
        },
        "id": "BFWNwusS5uH9",
        "outputId": "97ae1406-f7bc-4bde-dc2f-05b82fb0e413"
      },
      "outputs": [
        {
          "output_type": "stream",
          "name": "stdout",
          "text": [
            "accommodates          1.0    2.0   3.0    4.0   5.0   6.0  7.0   8.0  9.0  \\\n",
            "cancellation_policy                                                         \n",
            "flexible             4395  10950  2083   2940   658   905  138   262   33   \n",
            "moderate             1967   8903  2211   3216   865  1102  195   345   50   \n",
            "strict               3072  12003  3499   5910  1921  2961  613  1188  187   \n",
            "All                  9434  31856  7793  12066  3444  4968  946  1795  270   \n",
            "\n",
            "accommodates         10.0  11.0  12.0  13.0  14.0  15.0  16.0    All  \n",
            "cancellation_policy                                                   \n",
            "flexible               93     4    24     2    13     6    37  22543  \n",
            "moderate               97     8    37     8    18     4    34  19060  \n",
            "strict                511    67   203    26    73    44   230  32508  \n",
            "All                   701    79   264    36   104    54   301  74111  \n",
            "------------------------------------------------------------------------------------------------------------------------\n"
          ]
        },
        {
          "output_type": "display_data",
          "data": {
            "text/plain": [
              "<Figure size 720x360 with 1 Axes>"
            ],
            "image/png": "[encoded data removed]"
          },
          "metadata": {}
        }
      ],
      "source": [
        "stacked_plot(AirBNB['cancellation_policy'])"
      ]
    },
    {
      "cell_type": "markdown",
      "metadata": {
        "id": "W78UYVPoG-bO"
      },
      "source": [
        "### detecting Outlier \n",
        " we will be using IQR(interquartile Range) to detect and treat the outliers in the different columns\n",
        "\n",
        "\n",
        "\n",
        "\n",
        "\n",
        "\n",
        "\n",
        "\n",
        "\n",
        "\n",
        "\n"
      ]
    },
    {
      "cell_type": "markdown",
      "metadata": {
        "id": "qvuTI75u56Sv"
      },
      "source": [
        "##### Treatment for log_price"
      ]
    },
    {
      "cell_type": "code",
      "execution_count": 52,
      "metadata": {
        "colab": {
          "base_uri": "https://localhost:8080/"
        },
        "id": "Z1aDhyvj5yas",
        "outputId": "013b865b-4616-454f-f27a-25dd610c1c08"
      },
      "outputs": [
        {
          "output_type": "stream",
          "name": "stdout",
          "text": [
            "0.05\n",
            "0.132\n"
          ]
        }
      ],
      "source": [
        "np.random.seed(1)\n",
        "x1 = np.random.normal(size=1000)\n",
        "x2 = np.random.lognormal(size=1000)\n",
        "\n",
        "def frac_outside_1pt5_IQR(x):\n",
        "    length = 1.5 * np.diff(np.quantile(x, [.25, .75]))\n",
        "    return np.mean(np.abs(x - np.median(x)) > length)\n",
        "\n",
        "print(frac_outside_1pt5_IQR(x1))\n",
        "print(frac_outside_1pt5_IQR(x2))"
      ]
    },
    {
      "cell_type": "code",
      "execution_count": 53,
      "metadata": {
        "colab": {
          "base_uri": "https://localhost:8080/",
          "height": 568
        },
        "id": "Cg7xwmPI5-Ak",
        "outputId": "adc6d47c-3647-46c7-a61a-bc5c117ea277"
      },
      "outputs": [
        {
          "output_type": "display_data",
          "data": {
            "text/plain": [
              "<Figure size 432x288 with 1 Axes>"
            ],
            "image/png": "[encoded data removed]"
          },
          "metadata": {}
        },
        {
          "output_type": "display_data",
          "data": {
            "text/plain": [
              "<Figure size 432x288 with 1 Axes>"
            ],
            "image/png": "[encoded data removed]"
          },
          "metadata": {}
        }
      ],
      "source": [
        "plt.hist(AirBNB['log_price'], 20)\n",
        "plt.title('Histogram of log_price')\n",
        "plt.show()\n",
        "\n",
        "sns.boxplot(AirBNB['log_price'])\n",
        "plt.title('Boxplot of log_price')\n",
        "plt.show()"
      ]
    },
    {
      "cell_type": "code",
      "execution_count": 54,
      "metadata": {
        "colab": {
          "base_uri": "https://localhost:8080/"
        },
        "id": "e3i5xOGQ6Aqh",
        "outputId": "1ad44fd2-1fb9-4414-a951-8440f62255a1"
      },
      "outputs": [
        {
          "output_type": "stream",
          "name": "stdout",
          "text": [
            "Q1 = 4.317488114, Q3 = 5.220355825, 4*IQR = 3.611470844000003\n"
          ]
        },
        {
          "output_type": "execute_result",
          "data": {
            "text/plain": [
              "11632   0.000\n",
              "Name: log_price, dtype: float64"
            ]
          },
          "metadata": {},
          "execution_count": 54
        }
      ],
      "source": [
        "quartiles = np.quantile(AirBNB['log_price'][AirBNB['log_price'].notnull()], [.25, .75])\n",
        "log_price_4iqr = 4 * (quartiles[1] - quartiles[0])\n",
        "print(f'Q1 = {quartiles[0]}, Q3 = {quartiles[1]}, 4*IQR = {log_price_4iqr}')\n",
        "outlier_log_price = AirBNB.loc[np.abs(AirBNB['log_price'] - AirBNB['log_price'].median()) > log_price_4iqr, 'log_price']\n",
        "outlier_log_price"
      ]
    },
    {
      "cell_type": "code",
      "execution_count": 55,
      "metadata": {
        "id": "TUUDhADV6E2f"
      },
      "outputs": [],
      "source": [
        "AirBNB.drop(outlier_log_price.index, axis=0, inplace=True)"
      ]
    },
    {
      "cell_type": "markdown",
      "metadata": {
        "id": "ENyY3e486N7t"
      },
      "source": [
        "**Treatment for outliers in review_scores_rating**"
      ]
    },
    {
      "cell_type": "code",
      "execution_count": 56,
      "metadata": {
        "colab": {
          "base_uri": "https://localhost:8080/"
        },
        "id": "HoAcmgp86JnP",
        "outputId": "1053260c-428e-4daa-a92c-0e76580e85a6"
      },
      "outputs": [
        {
          "output_type": "stream",
          "name": "stdout",
          "text": [
            "0.05\n",
            "0.132\n"
          ]
        }
      ],
      "source": [
        "def frac_outside_1pt5_IQR(x):\n",
        "    length = 1.5 * np.diff(np.quantile(x, [.25, .75]))\n",
        "    return np.mean(np.abs(x - np.median(x)) > length)\n",
        "\n",
        "print(frac_outside_1pt5_IQR(x1))\n",
        "print(frac_outside_1pt5_IQR(x2))"
      ]
    },
    {
      "cell_type": "code",
      "execution_count": 57,
      "metadata": {
        "colab": {
          "base_uri": "https://localhost:8080/",
          "height": 568
        },
        "id": "gRVoWQ8P6UWu",
        "outputId": "8624aaa4-4ca3-40a0-ee7b-f12eb06f1a31"
      },
      "outputs": [
        {
          "output_type": "display_data",
          "data": {
            "text/plain": [
              "<Figure size 432x288 with 1 Axes>"
            ],
            "image/png": "[encoded data removed]"
          },
          "metadata": {}
        },
        {
          "output_type": "display_data",
          "data": {
            "text/plain": [
              "<Figure size 432x288 with 1 Axes>"
            ],
            "image/png": "[encoded data removed]"
          },
          "metadata": {}
        }
      ],
      "source": [
        "plt.hist(AirBNB['review_scores_rating'], 20)\n",
        "plt.title('Histogram of review_scores_rating')\n",
        "plt.show()\n",
        "\n",
        "sns.boxplot(AirBNB['review_scores_rating'])\n",
        "plt.title('Boxplot of review_scores_rating')\n",
        "plt.show()"
      ]
    },
    {
      "cell_type": "code",
      "execution_count": 58,
      "metadata": {
        "colab": {
          "base_uri": "https://localhost:8080/"
        },
        "id": "caXf-z396XY7",
        "outputId": "9c8bb542-ad07-4163-9f16-52113bc585dc"
      },
      "outputs": [
        {
          "output_type": "stream",
          "name": "stdout",
          "text": [
            "Q1 = 80.0, Q3 = 99.0, 4*IQR = 76.0\n"
          ]
        },
        {
          "output_type": "execute_result",
          "data": {
            "text/plain": [
              "Series([], Name: review_scores_rating, dtype: float64)"
            ]
          },
          "metadata": {},
          "execution_count": 58
        }
      ],
      "source": [
        "quartiles = np.quantile(AirBNB['review_scores_rating'][AirBNB['review_scores_rating'].notnull()], [.25, .75])\n",
        "review_scores_rating_4iqr = 4 * (quartiles[1] - quartiles[0])\n",
        "print(f'Q1 = {quartiles[0]}, Q3 = {quartiles[1]}, 4*IQR = {review_scores_rating_4iqr}')\n",
        "outlier_review_scores_rating = AirBNB.loc[np.abs(AirBNB['review_scores_rating'] - AirBNB['review_scores_rating'].median()) > review_scores_rating_4iqr, 'review_scores_rating']\n",
        "outlier_review_scores_rating"
      ]
    },
    {
      "cell_type": "code",
      "execution_count": 59,
      "metadata": {
        "id": "tQD4xvMI6a_q"
      },
      "outputs": [],
      "source": [
        "AirBNB.drop(outlier_review_scores_rating.index, axis=0, inplace=True)"
      ]
    },
    {
      "cell_type": "markdown",
      "metadata": {
        "id": "ht719vBD6gn9"
      },
      "source": [
        "**Treatment for the outliers in accommodates**"
      ]
    },
    {
      "cell_type": "code",
      "execution_count": 60,
      "metadata": {
        "colab": {
          "base_uri": "https://localhost:8080/"
        },
        "id": "ZA0Ko6FE6dbc",
        "outputId": "cd79d038-fa6f-49d4-f00e-f87e8ad380d8"
      },
      "outputs": [
        {
          "output_type": "stream",
          "name": "stdout",
          "text": [
            "0.05\n",
            "0.132\n"
          ]
        }
      ],
      "source": [
        "def frac_outside_1pt5_IQR(x):\n",
        "    length = 1.5 * np.diff(np.quantile(x, [.25, .75]))\n",
        "    return np.mean(np.abs(x - np.median(x)) > length)\n",
        "\n",
        "print(frac_outside_1pt5_IQR(x1))\n",
        "print(frac_outside_1pt5_IQR(x2))"
      ]
    },
    {
      "cell_type": "code",
      "execution_count": 61,
      "metadata": {
        "colab": {
          "base_uri": "https://localhost:8080/",
          "height": 568
        },
        "id": "q2jHd18-6oa4",
        "outputId": "b1938015-fffc-42db-e95c-d15a24a57644"
      },
      "outputs": [
        {
          "output_type": "display_data",
          "data": {
            "text/plain": [
              "<Figure size 432x288 with 1 Axes>"
            ],
            "image/png": "[encoded data removed]"
          },
          "metadata": {}
        },
        {
          "output_type": "display_data",
          "data": {
            "text/plain": [
              "<Figure size 432x288 with 1 Axes>"
            ],
            "image/png": "[encoded data removed]"
          },
          "metadata": {}
        }
      ],
      "source": [
        "plt.hist(AirBNB['accommodates'], 20)\n",
        "plt.title('Histogram of accommodates')\n",
        "plt.show()\n",
        "\n",
        "sns.boxplot(AirBNB['accommodates'])\n",
        "plt.title('Boxplot of accommodates')\n",
        "plt.show()"
      ]
    },
    {
      "cell_type": "code",
      "execution_count": 62,
      "metadata": {
        "colab": {
          "base_uri": "https://localhost:8080/"
        },
        "id": "DpqK0Cyr6qpq",
        "outputId": "d890b31c-945c-49ab-d6cc-7b3adece623d"
      },
      "outputs": [
        {
          "output_type": "stream",
          "name": "stdout",
          "text": [
            "Q1 = 2.0, Q3 = 4.0, 4*IQR = 8.0\n"
          ]
        },
        {
          "output_type": "execute_result",
          "data": {
            "text/plain": [
              "306     16.000\n",
              "457     16.000\n",
              "482     11.000\n",
              "569     16.000\n",
              "642     12.000\n",
              "         ...  \n",
              "73669   12.000\n",
              "73695   12.000\n",
              "73957   14.000\n",
              "73980   15.000\n",
              "74081   16.000\n",
              "Name: accommodates, Length: 838, dtype: float64"
            ]
          },
          "metadata": {},
          "execution_count": 62
        }
      ],
      "source": [
        "quartiles = np.quantile(AirBNB['accommodates'][AirBNB['accommodates'].notnull()], [.25, .75])\n",
        "accommodates_4iqr = 4 * (quartiles[1] - quartiles[0])\n",
        "print(f'Q1 = {quartiles[0]}, Q3 = {quartiles[1]}, 4*IQR = {accommodates_4iqr}')\n",
        "outlier_accommodates = AirBNB.loc[np.abs(AirBNB['accommodates'] - AirBNB['accommodates'].median()) > accommodates_4iqr, 'accommodates']\n",
        "outlier_accommodates"
      ]
    },
    {
      "cell_type": "code",
      "execution_count": 63,
      "metadata": {
        "id": "saIOqHCP6tlw"
      },
      "outputs": [],
      "source": [
        "AirBNB.drop(outlier_accommodates.index, axis=0, inplace=True)"
      ]
    },
    {
      "cell_type": "markdown",
      "metadata": {
        "id": "vhYhsEaU60ag"
      },
      "source": [
        "**Treatment for the outliers in beds**"
      ]
    },
    {
      "cell_type": "code",
      "execution_count": 64,
      "metadata": {
        "colab": {
          "base_uri": "https://localhost:8080/"
        },
        "id": "sRcz3hjn6ynD",
        "outputId": "8f862eeb-80a3-468c-ecb2-2d9c267e4008"
      },
      "outputs": [
        {
          "output_type": "stream",
          "name": "stdout",
          "text": [
            "0.05\n",
            "0.132\n"
          ]
        }
      ],
      "source": [
        "def frac_outside_1pt5_IQR(x):\n",
        "    length = 1.5 * np.diff(np.quantile(x, [.25, .75]))\n",
        "    return np.mean(np.abs(x - np.median(x)) > length)\n",
        "\n",
        "print(frac_outside_1pt5_IQR(x1))\n",
        "print(frac_outside_1pt5_IQR(x2))"
      ]
    },
    {
      "cell_type": "code",
      "execution_count": 65,
      "metadata": {
        "colab": {
          "base_uri": "https://localhost:8080/",
          "height": 568
        },
        "id": "fue3OsjE669m",
        "outputId": "c15f564c-2eed-49d2-aeb7-519fcfcb5dba"
      },
      "outputs": [
        {
          "output_type": "display_data",
          "data": {
            "text/plain": [
              "<Figure size 432x288 with 1 Axes>"
            ],
            "image/png": "[encoded data removed]"
          },
          "metadata": {}
        },
        {
          "output_type": "display_data",
          "data": {
            "text/plain": [
              "<Figure size 432x288 with 1 Axes>"
            ],
            "image/png": "[encoded data removed]"
          },
          "metadata": {}
        }
      ],
      "source": [
        "plt.hist(AirBNB['beds'], 20)\n",
        "plt.title('Histogram of beds')\n",
        "plt.show()\n",
        "\n",
        "sns.boxplot(AirBNB['beds'])\n",
        "plt.title('Boxplot of beds')\n",
        "plt.show()"
      ]
    },
    {
      "cell_type": "code",
      "execution_count": 66,
      "metadata": {
        "colab": {
          "base_uri": "https://localhost:8080/"
        },
        "id": "1ktnoLGh6-1p",
        "outputId": "d7b303c4-62ec-4096-baae-93c48fdd5919"
      },
      "outputs": [
        {
          "output_type": "stream",
          "name": "stdout",
          "text": [
            "Q1 = 1.0, Q3 = 2.0, 4*IQR = 4.0\n"
          ]
        },
        {
          "output_type": "execute_result",
          "data": {
            "text/plain": [
              "42       7.000\n",
              "81       6.000\n",
              "547      6.000\n",
              "756      8.000\n",
              "798      6.000\n",
              "         ...  \n",
              "73768    6.000\n",
              "73804    6.000\n",
              "73842    7.000\n",
              "73899    6.000\n",
              "74102   10.000\n",
              "Name: beds, Length: 781, dtype: float64"
            ]
          },
          "metadata": {},
          "execution_count": 66
        }
      ],
      "source": [
        "quartiles = np.quantile(AirBNB['beds'][AirBNB['beds'].notnull()], [.25, .75])\n",
        "beds_4iqr = 4 * (quartiles[1] - quartiles[0])\n",
        "print(f'Q1 = {quartiles[0]}, Q3 = {quartiles[1]}, 4*IQR = {beds_4iqr}')\n",
        "outlier_beds = AirBNB.loc[np.abs(AirBNB['beds'] - AirBNB['beds'].median()) > beds_4iqr, 'beds']\n",
        "outlier_beds"
      ]
    },
    {
      "cell_type": "code",
      "execution_count": 67,
      "metadata": {
        "id": "h3flx0087BlU"
      },
      "outputs": [],
      "source": [
        "AirBNB.drop(outlier_beds.index, axis=0, inplace=True)"
      ]
    },
    {
      "cell_type": "markdown",
      "metadata": {
        "id": "HipMlLoE7Hsx"
      },
      "source": [
        "\n",
        "\n",
        "*   **There are lower outliers in log_price, review_scores_rating,**\n",
        "*   **There are higher outliers in beds,bedrooms,bathrooms, accommodates**\n",
        "*   **Used the IQR to treat the outlierst**\n",
        "\n",
        "\n",
        "\n",
        "\n",
        "\n",
        "\n"
      ]
    },
    {
      "cell_type": "markdown",
      "metadata": {
        "id": "0Qk007UE8Lpk"
      },
      "source": [
        "## Distributions"
      ]
    },
    {
      "cell_type": "code",
      "execution_count": 68,
      "metadata": {
        "colab": {
          "base_uri": "https://localhost:8080/",
          "height": 302
        },
        "id": "KVTIwjcs7EaI",
        "outputId": "3a8e3daf-60c6-4e8b-d6c6-83131fe46e26"
      },
      "outputs": [
        {
          "output_type": "execute_result",
          "data": {
            "text/plain": [
              "<matplotlib.axes._subplots.AxesSubplot at 0x7fd986a2eb80>"
            ]
          },
          "metadata": {},
          "execution_count": 68
        },
        {
          "output_type": "display_data",
          "data": {
            "text/plain": [
              "<Figure size 432x288 with 1 Axes>"
            ],
            "image/png": "[encoded data removed]"
          },
          "metadata": {}
        }
      ],
      "source": [
        "sns.histplot(AirBNB[\"log_price\"], kde=True)"
      ]
    },
    {
      "cell_type": "code",
      "execution_count": 68,
      "metadata": {
        "id": "ZfxmDOki7-fR"
      },
      "outputs": [],
      "source": []
    },
    {
      "cell_type": "markdown",
      "metadata": {
        "id": "ZKL-6Pf28SUr"
      },
      "source": [
        "### Correlation between numeric Variables"
      ]
    },
    {
      "cell_type": "code",
      "execution_count": 69,
      "metadata": {
        "colab": {
          "base_uri": "https://localhost:8080/",
          "height": 544
        },
        "id": "5LEOIXR-8T02",
        "outputId": "e0dd0540-8da0-4b8d-a049-a802575224ed"
      },
      "outputs": [
        {
          "output_type": "execute_result",
          "data": {
            "text/plain": [
              "<matplotlib.axes._subplots.AxesSubplot at 0x7fd982d3ad60>"
            ]
          },
          "metadata": {},
          "execution_count": 69
        },
        {
          "output_type": "display_data",
          "data": {
            "text/plain": [
              "<Figure size 864x504 with 2 Axes>"
            ],
            "image/png": "[encoded data removed]"
          },
          "metadata": {}
        }
      ],
      "source": [
        "plt.figure(figsize=(12, 7))\n",
        "sns.heatmap(AirBNB.corr(), annot=True, cmap=\"coolwarm\")"
      ]
    },
    {
      "cell_type": "markdown",
      "metadata": {
        "id": "3oCLQilt_MJ-"
      },
      "source": [
        "\n",
        "\n",
        "*   **As we can see there big Correlation between beds and accommodates, which makes sense because they need a bed to sleep.**\n",
        "*   **There is also a Correlation between bedroom and beds.**\n",
        "\n"
      ]
    },
    {
      "cell_type": "markdown",
      "metadata": {
        "id": "wWPv_DyI_rcL"
      },
      "source": [
        "# Linear Model Building\n"
      ]
    },
    {
      "cell_type": "code",
      "execution_count": 70,
      "metadata": {
        "colab": {
          "base_uri": "https://localhost:8080/"
        },
        "id": "7CwpwItA_HJv",
        "outputId": "69f2b864-0f15-4133-b085-627971580683"
      },
      "outputs": [
        {
          "output_type": "stream",
          "name": "stdout",
          "text": [
            "         id        room_type  bathrooms cancellation_policy cleaning_fee  \\\n",
            "0   6901257  Entire home/apt      1.000              strict         True   \n",
            "1   6304928  Entire home/apt      1.000              strict         True   \n",
            "2   7919400  Entire home/apt      1.000            moderate         True   \n",
            "3  13418779  Entire home/apt      1.000            flexible         True   \n",
            "4   3808709  Entire home/apt      1.000            moderate         True   \n",
            "\n",
            "  instant_bookable  review_scores_rating  bedrooms  beds  \n",
            "0            False               100.000     1.000 1.000  \n",
            "1             True                93.000     3.000 3.000  \n",
            "2             True                92.000     1.000 3.000  \n",
            "3            False                20.000     2.000 2.000  \n",
            "4             True                40.000     0.000 1.000  \n",
            "   log_price\n",
            "0      5.011\n",
            "1      5.130\n",
            "2      4.977\n",
            "3      6.620\n",
            "4      4.745\n"
          ]
        }
      ],
      "source": [
        "# Defining dependent variable\n",
        "ind_vars = AirBNB.drop([\"accommodates\", \"log_price\"], axis=1)\n",
        "dep_var = AirBNB[[\"log_price\"]] \n",
        "\n",
        "print(ind_vars.head())\n",
        "print(dep_var.head())"
      ]
    },
    {
      "cell_type": "markdown",
      "metadata": {
        "id": "uOzF9vvC_6lV"
      },
      "source": [
        "### Creating dummy variables\n",
        "for columns that can not be read into an equation hence need to be converted to interger\n"
      ]
    },
    {
      "cell_type": "code",
      "execution_count": 71,
      "metadata": {
        "colab": {
          "base_uri": "https://localhost:8080/",
          "height": 288
        },
        "id": "JHkc6x18_yMQ",
        "outputId": "67417dda-842c-42a4-a583-cdaf575db485"
      },
      "outputs": [
        {
          "output_type": "execute_result",
          "data": {
            "text/plain": [
              "         id  bathrooms  review_scores_rating  bedrooms  beds  \\\n",
              "0   6901257      1.000               100.000     1.000 1.000   \n",
              "1   6304928      1.000                93.000     3.000 3.000   \n",
              "2   7919400      1.000                92.000     1.000 3.000   \n",
              "3  13418779      1.000                20.000     2.000 2.000   \n",
              "4   3808709      1.000                40.000     0.000 1.000   \n",
              "\n",
              "   room_type_Private room  room_type_Shared room  \\\n",
              "0                       0                      0   \n",
              "1                       0                      0   \n",
              "2                       0                      0   \n",
              "3                       0                      0   \n",
              "4                       0                      0   \n",
              "\n",
              "   cancellation_policy_moderate  cancellation_policy_strict  \\\n",
              "0                             0                           1   \n",
              "1                             0                           1   \n",
              "2                             1                           0   \n",
              "3                             0                           0   \n",
              "4                             1                           0   \n",
              "\n",
              "   cleaning_fee_True  instant_bookable_True  \n",
              "0                  1                      0  \n",
              "1                  1                      1  \n",
              "2                  1                      1  \n",
              "3                  1                      0  \n",
              "4                  1                      1  "
            ],
            "text/html": [
              "\n",
              "  <div id=\"df-93d4a773-fc0a-4eff-a313-418a043a7f7b\">\n",
              "    <div class=\"colab-df-container\">\n",
              "      <div>\n",
              "<style scoped>\n",
              "    .dataframe tbody tr th:only-of-type {\n",
              "        vertical-align: middle;\n",
              "    }\n",
              "\n",
              "    .dataframe tbody tr th {\n",
              "        vertical-align: top;\n",
              "    }\n",
              "\n",
              "    .dataframe thead th {\n",
              "        text-align: right;\n",
              "    }\n",
              "</style>\n",
              "<table border=\"1\" class=\"dataframe\">\n",
              "  <thead>\n",
              "    <tr style=\"text-align: right;\">\n",
              "      <th></th>\n",
              "      <th>id</th>\n",
              "      <th>bathrooms</th>\n",
              "      <th>review_scores_rating</th>\n",
              "      <th>bedrooms</th>\n",
              "      <th>beds</th>\n",
              "      <th>room_type_Private room</th>\n",
              "      <th>room_type_Shared room</th>\n",
              "      <th>cancellation_policy_moderate</th>\n",
              "      <th>cancellation_policy_strict</th>\n",
              "      <th>cleaning_fee_True</th>\n",
              "      <th>instant_bookable_True</th>\n",
              "    </tr>\n",
              "  </thead>\n",
              "  <tbody>\n",
              "    <tr>\n",
              "      <th>0</th>\n",
              "      <td>6901257</td>\n",
              "      <td>1.000</td>\n",
              "      <td>100.000</td>\n",
              "      <td>1.000</td>\n",
              "      <td>1.000</td>\n",
              "      <td>0</td>\n",
              "      <td>0</td>\n",
              "      <td>0</td>\n",
              "      <td>1</td>\n",
              "      <td>1</td>\n",
              "      <td>0</td>\n",
              "    </tr>\n",
              "    <tr>\n",
              "      <th>1</th>\n",
              "      <td>6304928</td>\n",
              "      <td>1.000</td>\n",
              "      <td>93.000</td>\n",
              "      <td>3.000</td>\n",
              "      <td>3.000</td>\n",
              "      <td>0</td>\n",
              "      <td>0</td>\n",
              "      <td>0</td>\n",
              "      <td>1</td>\n",
              "      <td>1</td>\n",
              "      <td>1</td>\n",
              "    </tr>\n",
              "    <tr>\n",
              "      <th>2</th>\n",
              "      <td>7919400</td>\n",
              "      <td>1.000</td>\n",
              "      <td>92.000</td>\n",
              "      <td>1.000</td>\n",
              "      <td>3.000</td>\n",
              "      <td>0</td>\n",
              "      <td>0</td>\n",
              "      <td>1</td>\n",
              "      <td>0</td>\n",
              "      <td>1</td>\n",
              "      <td>1</td>\n",
              "    </tr>\n",
              "    <tr>\n",
              "      <th>3</th>\n",
              "      <td>13418779</td>\n",
              "      <td>1.000</td>\n",
              "      <td>20.000</td>\n",
              "      <td>2.000</td>\n",
              "      <td>2.000</td>\n",
              "      <td>0</td>\n",
              "      <td>0</td>\n",
              "      <td>0</td>\n",
              "      <td>0</td>\n",
              "      <td>1</td>\n",
              "      <td>0</td>\n",
              "    </tr>\n",
              "    <tr>\n",
              "      <th>4</th>\n",
              "      <td>3808709</td>\n",
              "      <td>1.000</td>\n",
              "      <td>40.000</td>\n",
              "      <td>0.000</td>\n",
              "      <td>1.000</td>\n",
              "      <td>0</td>\n",
              "      <td>0</td>\n",
              "      <td>1</td>\n",
              "      <td>0</td>\n",
              "      <td>1</td>\n",
              "      <td>1</td>\n",
              "    </tr>\n",
              "  </tbody>\n",
              "</table>\n",
              "</div>\n",
              "      <button class=\"colab-df-convert\" onclick=\"convertToInteractive('df-93d4a773-fc0a-4eff-a313-418a043a7f7b')\"\n",
              "              title=\"Convert this dataframe to an interactive table.\"\n",
              "              style=\"display:none;\">\n",
              "        \n",
              "  <svg xmlns=\"http://www.w3.org/2000/svg\" height=\"24px\"viewBox=\"0 0 24 24\"\n",
              "       width=\"24px\">\n",
              "    <path d=\"M0 0h24v24H0V0z\" fill=\"none\"/>\n",
              "    <path d=\"M18.56 5.44l.94 2.06.94-2.06 2.06-.94-2.06-.94-.94-2.06-.94 2.06-2.06.94zm-11 1L8.5 8.5l.94-2.06 2.06-.94-2.06-.94L8.5 2.5l-.94 2.06-2.06.94zm10 10l.94 2.06.94-2.06 2.06-.94-2.06-.94-.94-2.06-.94 2.06-2.06.94z\"/><path d=\"M17.41 7.96l-1.37-1.37c-.4-.4-.92-.59-1.43-.59-.52 0-1.04.2-1.43.59L10.3 9.45l-7.72 7.72c-.78.78-.78 2.05 0 2.83L4 21.41c.39.39.9.59 1.41.59.51 0 1.02-.2 1.41-.59l7.78-7.78 2.81-2.81c.8-.78.8-2.07 0-2.86zM5.41 20L4 18.59l7.72-7.72 1.47 1.35L5.41 20z\"/>\n",
              "  </svg>\n",
              "      </button>\n",
              "      \n",
              "  <style>\n",
              "    .colab-df-container {\n",
              "      display:flex;\n",
              "      flex-wrap:wrap;\n",
              "      gap: 12px;\n",
              "    }\n",
              "\n",
              "    .colab-df-convert {\n",
              "      background-color: #E8F0FE;\n",
              "      border: none;\n",
              "      border-radius: 50%;\n",
              "      cursor: pointer;\n",
              "      display: none;\n",
              "      fill: #1967D2;\n",
              "      height: 32px;\n",
              "      padding: 0 0 0 0;\n",
              "      width: 32px;\n",
              "    }\n",
              "\n",
              "    .colab-df-convert:hover {\n",
              "      background-color: #E2EBFA;\n",
              "      box-shadow: 0px 1px 2px rgba(60, 64, 67, 0.3), 0px 1px 3px 1px rgba(60, 64, 67, 0.15);\n",
              "      fill: #174EA6;\n",
              "    }\n",
              "\n",
              "    [theme=dark] .colab-df-convert {\n",
              "      background-color: #3B4455;\n",
              "      fill: #D2E3FC;\n",
              "    }\n",
              "\n",
              "    [theme=dark] .colab-df-convert:hover {\n",
              "      background-color: #434B5C;\n",
              "      box-shadow: 0px 1px 3px 1px rgba(0, 0, 0, 0.15);\n",
              "      filter: drop-shadow(0px 1px 2px rgba(0, 0, 0, 0.3));\n",
              "      fill: #FFFFFF;\n",
              "    }\n",
              "  </style>\n",
              "\n",
              "      <script>\n",
              "        const buttonEl =\n",
              "          document.querySelector('#df-93d4a773-fc0a-4eff-a313-418a043a7f7b button.colab-df-convert');\n",
              "        buttonEl.style.display =\n",
              "          google.colab.kernel.accessAllowed ? 'block' : 'none';\n",
              "\n",
              "        async function convertToInteractive(key) {\n",
              "          const element = document.querySelector('#df-93d4a773-fc0a-4eff-a313-418a043a7f7b');\n",
              "          const dataTable =\n",
              "            await google.colab.kernel.invokeFunction('convertToInteractive',\n",
              "                                                     [key], {});\n",
              "          if (!dataTable) return;\n",
              "\n",
              "          const docLinkHtml = 'Like what you see? Visit the ' +\n",
              "            '<a target=\"_blank\" href=https://colab.research.google.com/notebooks/data_table.ipynb>data table notebook</a>'\n",
              "            + ' to learn more about interactive tables.';\n",
              "          element.innerHTML = '';\n",
              "          dataTable['output_type'] = 'display_data';\n",
              "          await google.colab.output.renderOutput(dataTable, element);\n",
              "          const docLink = document.createElement('div');\n",
              "          docLink.innerHTML = docLinkHtml;\n",
              "          element.appendChild(docLink);\n",
              "        }\n",
              "      </script>\n",
              "    </div>\n",
              "  </div>\n",
              "  "
            ]
          },
          "metadata": {},
          "execution_count": 71
        }
      ],
      "source": [
        "def encode_cat_vars(x):\n",
        "    x = pd.get_dummies(\n",
        "        x,\n",
        "        columns=x.select_dtypes(include=[\"object\", \"category\"]).columns.tolist(),\n",
        "        drop_first=True,\n",
        "    )\n",
        "    return x\n",
        "\n",
        "\n",
        "ind_vars_num = encode_cat_vars(ind_vars)\n",
        "ind_vars_num.head()"
      ]
    },
    {
      "cell_type": "markdown",
      "metadata": {
        "id": "v7W0LwOSAQvQ"
      },
      "source": [
        "### Split the data into train and test"
      ]
    },
    {
      "cell_type": "code",
      "execution_count": 72,
      "metadata": {
        "id": "H74fCqzqAKe4"
      },
      "outputs": [],
      "source": [
        "from sklearn.model_selection import train_test_split\n",
        "\n",
        "x_train, x_test, y_train, y_test = train_test_split(\n",
        "    ind_vars_num, dep_var, test_size=0.3, random_state=1\n",
        ")\n"
      ]
    },
    {
      "cell_type": "code",
      "execution_count": 73,
      "metadata": {
        "colab": {
          "base_uri": "https://localhost:8080/"
        },
        "id": "FCXa5T3SAVIA",
        "outputId": "d80568ee-0de0-4845-cf64-8f56230a1c4f"
      },
      "outputs": [
        {
          "output_type": "stream",
          "name": "stdout",
          "text": [
            "Number of rows in train data = 50743\n",
            "Number of rows in train data = 21748\n"
          ]
        }
      ],
      "source": [
        "print(\"Number of rows in train data =\", x_train.shape[0])\n",
        "print(\"Number of rows in train data =\", x_test.shape[0])"
      ]
    },
    {
      "cell_type": "markdown",
      "metadata": {
        "id": "HCEVvE5NAc3D"
      },
      "source": [
        "### Fitting the linear model\n"
      ]
    },
    {
      "cell_type": "code",
      "execution_count": 74,
      "metadata": {
        "colab": {
          "base_uri": "https://localhost:8080/"
        },
        "id": "utLBmm79AY7R",
        "outputId": "b8e5309f-5a56-4fc1-bec8-9c42d9cd0b30"
      },
      "outputs": [
        {
          "output_type": "execute_result",
          "data": {
            "text/plain": [
              "LinearRegression()"
            ]
          },
          "metadata": {},
          "execution_count": 74
        }
      ],
      "source": [
        "lin_reg_model = LinearRegression()\n",
        "lin_reg_model.fit(x_train,y_train)"
      ]
    },
    {
      "cell_type": "code",
      "execution_count": 75,
      "metadata": {
        "colab": {
          "base_uri": "https://localhost:8080/",
          "height": 426
        },
        "id": "RfMH6RpPAj8w",
        "outputId": "705e2466-3f2d-4b93-b362-faf3331aa79e"
      },
      "outputs": [
        {
          "output_type": "execute_result",
          "data": {
            "text/plain": [
              "                              Coefficients\n",
              "id                                  -0.000\n",
              "bathrooms                            0.157\n",
              "review_scores_rating                -0.002\n",
              "bedrooms                             0.184\n",
              "beds                                 0.057\n",
              "room_type_Private room              -0.692\n",
              "room_type_Shared room               -1.167\n",
              "cancellation_policy_moderate        -0.015\n",
              "cancellation_policy_strict           0.026\n",
              "cleaning_fee_True                   -0.032\n",
              "instant_bookable_True               -0.052\n",
              "Intercept                            4.791"
            ],
            "text/html": [
              "\n",
              "  <div id=\"df-f6c57bd9-4081-4a05-b66c-db009b654fa1\">\n",
              "    <div class=\"colab-df-container\">\n",
              "      <div>\n",
              "<style scoped>\n",
              "    .dataframe tbody tr th:only-of-type {\n",
              "        vertical-align: middle;\n",
              "    }\n",
              "\n",
              "    .dataframe tbody tr th {\n",
              "        vertical-align: top;\n",
              "    }\n",
              "\n",
              "    .dataframe thead th {\n",
              "        text-align: right;\n",
              "    }\n",
              "</style>\n",
              "<table border=\"1\" class=\"dataframe\">\n",
              "  <thead>\n",
              "    <tr style=\"text-align: right;\">\n",
              "      <th></th>\n",
              "      <th>Coefficients</th>\n",
              "    </tr>\n",
              "  </thead>\n",
              "  <tbody>\n",
              "    <tr>\n",
              "      <th>id</th>\n",
              "      <td>-0.000</td>\n",
              "    </tr>\n",
              "    <tr>\n",
              "      <th>bathrooms</th>\n",
              "      <td>0.157</td>\n",
              "    </tr>\n",
              "    <tr>\n",
              "      <th>review_scores_rating</th>\n",
              "      <td>-0.002</td>\n",
              "    </tr>\n",
              "    <tr>\n",
              "      <th>bedrooms</th>\n",
              "      <td>0.184</td>\n",
              "    </tr>\n",
              "    <tr>\n",
              "      <th>beds</th>\n",
              "      <td>0.057</td>\n",
              "    </tr>\n",
              "    <tr>\n",
              "      <th>room_type_Private room</th>\n",
              "      <td>-0.692</td>\n",
              "    </tr>\n",
              "    <tr>\n",
              "      <th>room_type_Shared room</th>\n",
              "      <td>-1.167</td>\n",
              "    </tr>\n",
              "    <tr>\n",
              "      <th>cancellation_policy_moderate</th>\n",
              "      <td>-0.015</td>\n",
              "    </tr>\n",
              "    <tr>\n",
              "      <th>cancellation_policy_strict</th>\n",
              "      <td>0.026</td>\n",
              "    </tr>\n",
              "    <tr>\n",
              "      <th>cleaning_fee_True</th>\n",
              "      <td>-0.032</td>\n",
              "    </tr>\n",
              "    <tr>\n",
              "      <th>instant_bookable_True</th>\n",
              "      <td>-0.052</td>\n",
              "    </tr>\n",
              "    <tr>\n",
              "      <th>Intercept</th>\n",
              "      <td>4.791</td>\n",
              "    </tr>\n",
              "  </tbody>\n",
              "</table>\n",
              "</div>\n",
              "      <button class=\"colab-df-convert\" onclick=\"convertToInteractive('df-f6c57bd9-4081-4a05-b66c-db009b654fa1')\"\n",
              "              title=\"Convert this dataframe to an interactive table.\"\n",
              "              style=\"display:none;\">\n",
              "        \n",
              "  <svg xmlns=\"http://www.w3.org/2000/svg\" height=\"24px\"viewBox=\"0 0 24 24\"\n",
              "       width=\"24px\">\n",
              "    <path d=\"M0 0h24v24H0V0z\" fill=\"none\"/>\n",
              "    <path d=\"M18.56 5.44l.94 2.06.94-2.06 2.06-.94-2.06-.94-.94-2.06-.94 2.06-2.06.94zm-11 1L8.5 8.5l.94-2.06 2.06-.94-2.06-.94L8.5 2.5l-.94 2.06-2.06.94zm10 10l.94 2.06.94-2.06 2.06-.94-2.06-.94-.94-2.06-.94 2.06-2.06.94z\"/><path d=\"M17.41 7.96l-1.37-1.37c-.4-.4-.92-.59-1.43-.59-.52 0-1.04.2-1.43.59L10.3 9.45l-7.72 7.72c-.78.78-.78 2.05 0 2.83L4 21.41c.39.39.9.59 1.41.59.51 0 1.02-.2 1.41-.59l7.78-7.78 2.81-2.81c.8-.78.8-2.07 0-2.86zM5.41 20L4 18.59l7.72-7.72 1.47 1.35L5.41 20z\"/>\n",
              "  </svg>\n",
              "      </button>\n",
              "      \n",
              "  <style>\n",
              "    .colab-df-container {\n",
              "      display:flex;\n",
              "      flex-wrap:wrap;\n",
              "      gap: 12px;\n",
              "    }\n",
              "\n",
              "    .colab-df-convert {\n",
              "      background-color: #E8F0FE;\n",
              "      border: none;\n",
              "      border-radius: 50%;\n",
              "      cursor: pointer;\n",
              "      display: none;\n",
              "      fill: #1967D2;\n",
              "      height: 32px;\n",
              "      padding: 0 0 0 0;\n",
              "      width: 32px;\n",
              "    }\n",
              "\n",
              "    .colab-df-convert:hover {\n",
              "      background-color: #E2EBFA;\n",
              "      box-shadow: 0px 1px 2px rgba(60, 64, 67, 0.3), 0px 1px 3px 1px rgba(60, 64, 67, 0.15);\n",
              "      fill: #174EA6;\n",
              "    }\n",
              "\n",
              "    [theme=dark] .colab-df-convert {\n",
              "      background-color: #3B4455;\n",
              "      fill: #D2E3FC;\n",
              "    }\n",
              "\n",
              "    [theme=dark] .colab-df-convert:hover {\n",
              "      background-color: #434B5C;\n",
              "      box-shadow: 0px 1px 3px 1px rgba(0, 0, 0, 0.15);\n",
              "      filter: drop-shadow(0px 1px 2px rgba(0, 0, 0, 0.3));\n",
              "      fill: #FFFFFF;\n",
              "    }\n",
              "  </style>\n",
              "\n",
              "      <script>\n",
              "        const buttonEl =\n",
              "          document.querySelector('#df-f6c57bd9-4081-4a05-b66c-db009b654fa1 button.colab-df-convert');\n",
              "        buttonEl.style.display =\n",
              "          google.colab.kernel.accessAllowed ? 'block' : 'none';\n",
              "\n",
              "        async function convertToInteractive(key) {\n",
              "          const element = document.querySelector('#df-f6c57bd9-4081-4a05-b66c-db009b654fa1');\n",
              "          const dataTable =\n",
              "            await google.colab.kernel.invokeFunction('convertToInteractive',\n",
              "                                                     [key], {});\n",
              "          if (!dataTable) return;\n",
              "\n",
              "          const docLinkHtml = 'Like what you see? Visit the ' +\n",
              "            '<a target=\"_blank\" href=https://colab.research.google.com/notebooks/data_table.ipynb>data table notebook</a>'\n",
              "            + ' to learn more about interactive tables.';\n",
              "          element.innerHTML = '';\n",
              "          dataTable['output_type'] = 'display_data';\n",
              "          await google.colab.output.renderOutput(dataTable, element);\n",
              "          const docLink = document.createElement('div');\n",
              "          docLink.innerHTML = docLinkHtml;\n",
              "          element.appendChild(docLink);\n",
              "        }\n",
              "      </script>\n",
              "    </div>\n",
              "  </div>\n",
              "  "
            ]
          },
          "metadata": {},
          "execution_count": 75
        }
      ],
      "source": [
        "coef_AirBNB = pd.DataFrame(np.append(lin_reg_model.coef_.flatten(), lin_reg_model.intercept_), \\\n",
        "                       index=x_train.columns.tolist()+['Intercept'], columns=['Coefficients'])\n",
        "coef_AirBNB"
      ]
    },
    {
      "cell_type": "markdown",
      "metadata": {
        "id": "SoC5W6H8DyML"
      },
      "source": [
        "bathrooms come out to be very signifcant, as expected. There are two variable -review_scores_rating and room_type_Private room. As these two increase, the total value of the rental decreases, as visible in the negative coefficient sign."
      ]
    },
    {
      "cell_type": "markdown",
      "metadata": {
        "id": "z82J9wuHD78X"
      },
      "source": [
        "##The model performance Evaluation on the different performance metrics\n",
        "\n"
      ]
    },
    {
      "cell_type": "code",
      "execution_count": 76,
      "metadata": {
        "id": "mEeAhn36A57X"
      },
      "outputs": [],
      "source": [
        "# difference performance metric\n",
        "# R Square(R2),\n",
        "# Adjusted R square(R^2), \n",
        "# mean absolute error(MAE)\n",
        "# root mean square error(RMSE)\n",
        "# MAPE (mean absolute performance error)\n",
        "def mape(targets, predictions):\n",
        "    return np.mean(np.abs((targets - predictions)) / targets) * 100\n",
        "\n",
        "# Adjusted R^2\n",
        "def adj_r2(ind_vars, targets, predictions):\n",
        "    r2 = r2_score(targets, predictions)\n",
        "    n = ind_vars.shape[0]\n",
        "    k = ind_vars.shape[1]\n",
        "    return 1-((1-r2)*(n-1)/(n-k-1))\n",
        "\n",
        "# Model performance check\n",
        "def model_perf(model, inp, out):\n",
        "\n",
        "    y_pred = np.exp(model.predict(inp))\n",
        "    y_act = np.exp(out.values)\n",
        "\n",
        "    return pd.DataFrame({\n",
        "                \"RMSE\": np.sqrt(mean_squared_error(y_act, y_pred)),\n",
        "                \"MAE\": mean_absolute_error(y_act, y_pred),\n",
        "                \"MAPE\": mape(y_act, y_pred),\n",
        "                \"R^2\": r2_score(y_act, y_pred),\n",
        "                \"Adjusted R^2\": adj_r2(inp, y_act, y_pred)\n",
        "           }, index=[0])"
      ]
    },
    {
      "cell_type": "code",
      "execution_count": 77,
      "metadata": {
        "colab": {
          "base_uri": "https://localhost:8080/"
        },
        "id": "z_DrlEmWEHRR",
        "outputId": "4610e986-c63c-4a21-f015-b813da407026"
      },
      "outputs": [
        {
          "output_type": "stream",
          "name": "stdout",
          "text": [
            "Training Performance\n",
            "\n",
            "     RMSE    MAE   MAPE   R^2  Adjusted R^2\n",
            "0 127.706 61.124 40.318 0.320         0.320\n"
          ]
        }
      ],
      "source": [
        "# Checking model performance on train set\n",
        "print('Training Performance\\n')\n",
        "print(model_perf(lin_reg_model, x_train, y_train))"
      ]
    },
    {
      "cell_type": "code",
      "execution_count": 78,
      "metadata": {
        "colab": {
          "base_uri": "https://localhost:8080/"
        },
        "id": "zyThcU1sEs3D",
        "outputId": "d48b31bc-ad02-47f1-e85b-b73080659e50"
      },
      "outputs": [
        {
          "output_type": "stream",
          "name": "stdout",
          "text": [
            "Test Performance\n",
            "\n",
            "     RMSE    MAE   MAPE   R^2  Adjusted R^2\n",
            "0 125.201 60.265 39.882 0.347         0.347\n"
          ]
        }
      ],
      "source": [
        "# Checking model performance on test set\n",
        "print('Test Performance\\n')\n",
        "print(model_perf(lin_reg_model, x_test, y_test))\n"
      ]
    },
    {
      "cell_type": "markdown",
      "metadata": {
        "id": "JC3jc2X8E0tV"
      },
      "source": [
        "\n",
        "\n",
        "* MAE having a high score means we have a bad performance on our model\n",
        "* Since the sample are less it is harder to reconstruct the error distribution using RMSE which is the reason it is so high in this case.\n",
        "* The Mape value being high also point that our prediction is not so accurate, the closer mape is to zero, the better the prediction\n",
        "* R^2 is low and that is because our dataset or the data points are distributed with low variance and should be closer to 1 \n",
        "* Adjusted R-squared is low because we dont have many features ie the effective features to train the model.\n",
        "* My suggestion is, the more the features, the better the treatment of the outliers which will inturn improve our score\n"
      ]
    },
    {
      "cell_type": "markdown",
      "metadata": {
        "id": "c7XeJeXrFTkO"
      },
      "source": [
        "**Forward Feature Selection**"
      ]
    },
    {
      "cell_type": "code",
      "execution_count": 79,
      "metadata": {
        "colab": {
          "base_uri": "https://localhost:8080/"
        },
        "id": "M1kwIIBPEwqY",
        "outputId": "2bb5204d-ae87-44a5-acfe-4d7e92223d98"
      },
      "outputs": [
        {
          "output_type": "stream",
          "name": "stdout",
          "text": [
            "Looking in indexes: https://pypi.org/simple, https://us-python.pkg.dev/colab-wheels/public/simple/\n",
            "Requirement already satisfied: mlxtend in /usr/local/lib/python3.8/dist-packages (0.14.0)\n",
            "Requirement already satisfied: numpy>=1.10.4 in /usr/local/lib/python3.8/dist-packages (from mlxtend) (1.21.6)\n",
            "Requirement already satisfied: pandas>=0.17.1 in /usr/local/lib/python3.8/dist-packages (from mlxtend) (1.3.5)\n",
            "Requirement already satisfied: matplotlib>=1.5.1 in /usr/local/lib/python3.8/dist-packages (from mlxtend) (3.2.2)\n",
            "Requirement already satisfied: scipy>=0.17 in /usr/local/lib/python3.8/dist-packages (from mlxtend) (1.7.3)\n",
            "Requirement already satisfied: setuptools in /usr/local/lib/python3.8/dist-packages (from mlxtend) (57.4.0)\n",
            "Requirement already satisfied: scikit-learn>=0.18 in /usr/local/lib/python3.8/dist-packages (from mlxtend) (1.0.2)\n",
            "Requirement already satisfied: cycler>=0.10 in /usr/local/lib/python3.8/dist-packages (from matplotlib>=1.5.1->mlxtend) (0.11.0)\n",
            "Requirement already satisfied: python-dateutil>=2.1 in /usr/local/lib/python3.8/dist-packages (from matplotlib>=1.5.1->mlxtend) (2.8.2)\n",
            "Requirement already satisfied: pyparsing!=2.0.4,!=2.1.2,!=2.1.6,>=2.0.1 in /usr/local/lib/python3.8/dist-packages (from matplotlib>=1.5.1->mlxtend) (3.0.9)\n",
            "Requirement already satisfied: kiwisolver>=1.0.1 in /usr/local/lib/python3.8/dist-packages (from matplotlib>=1.5.1->mlxtend) (1.4.4)\n",
            "Requirement already satisfied: pytz>=2017.3 in /usr/local/lib/python3.8/dist-packages (from pandas>=0.17.1->mlxtend) (2022.6)\n",
            "Requirement already satisfied: six>=1.5 in /usr/local/lib/python3.8/dist-packages (from python-dateutil>=2.1->matplotlib>=1.5.1->mlxtend) (1.15.0)\n",
            "Requirement already satisfied: joblib>=0.11 in /usr/local/lib/python3.8/dist-packages (from scikit-learn>=0.18->mlxtend) (1.2.0)\n",
            "Requirement already satisfied: threadpoolctl>=2.0.0 in /usr/local/lib/python3.8/dist-packages (from scikit-learn>=0.18->mlxtend) (3.1.0)\n"
          ]
        },
        {
          "output_type": "stream",
          "name": "stderr",
          "text": [
            "[Parallel(n_jobs=1)]: Using backend SequentialBackend with 1 concurrent workers.\n",
            "[Parallel(n_jobs=1)]: Done   1 out of   1 | elapsed:    0.1s remaining:    0.0s\n",
            "[Parallel(n_jobs=1)]: Done  11 out of  11 | elapsed:    0.5s finished\n",
            "\n",
            "[2022-12-11 09:10:52] Features: 1/11 -- score: 0.2836540592266819[Parallel(n_jobs=1)]: Using backend SequentialBackend with 1 concurrent workers.\n",
            "[Parallel(n_jobs=1)]: Done   1 out of   1 | elapsed:    0.1s remaining:    0.0s\n",
            "[Parallel(n_jobs=1)]: Done  10 out of  10 | elapsed:    0.8s finished\n",
            "\n",
            "[2022-12-11 09:10:53] Features: 2/11 -- score: 0.38643266290376604[Parallel(n_jobs=1)]: Using backend SequentialBackend with 1 concurrent workers.\n",
            "[Parallel(n_jobs=1)]: Done   1 out of   1 | elapsed:    0.1s remaining:    0.0s\n",
            "[Parallel(n_jobs=1)]: Done   9 out of   9 | elapsed:    0.8s finished\n",
            "\n",
            "[2022-12-11 09:10:53] Features: 3/11 -- score: 0.45630911159279036[Parallel(n_jobs=1)]: Using backend SequentialBackend with 1 concurrent workers.\n",
            "[Parallel(n_jobs=1)]: Done   1 out of   1 | elapsed:    0.1s remaining:    0.0s\n",
            "[Parallel(n_jobs=1)]: Done   8 out of   8 | elapsed:    0.7s finished\n",
            "\n",
            "[2022-12-11 09:10:54] Features: 4/11 -- score: 0.46767950398051594[Parallel(n_jobs=1)]: Using backend SequentialBackend with 1 concurrent workers.\n",
            "[Parallel(n_jobs=1)]: Done   1 out of   1 | elapsed:    0.1s remaining:    0.0s\n",
            "[Parallel(n_jobs=1)]: Done   7 out of   7 | elapsed:    0.7s finished\n",
            "\n",
            "[2022-12-11 09:10:55] Features: 5/11 -- score: 0.47845820924061666[Parallel(n_jobs=1)]: Using backend SequentialBackend with 1 concurrent workers.\n",
            "[Parallel(n_jobs=1)]: Done   1 out of   1 | elapsed:    0.1s remaining:    0.0s\n",
            "[Parallel(n_jobs=1)]: Done   6 out of   6 | elapsed:    0.9s finished\n",
            "\n",
            "[2022-12-11 09:10:56] Features: 6/11 -- score: 0.4807600314701398[Parallel(n_jobs=1)]: Using backend SequentialBackend with 1 concurrent workers.\n",
            "[Parallel(n_jobs=1)]: Done   1 out of   1 | elapsed:    0.2s remaining:    0.0s\n",
            "[Parallel(n_jobs=1)]: Done   5 out of   5 | elapsed:    1.0s finished\n",
            "\n",
            "[2022-12-11 09:10:57] Features: 7/11 -- score: 0.48181573164836405[Parallel(n_jobs=1)]: Using backend SequentialBackend with 1 concurrent workers.\n",
            "[Parallel(n_jobs=1)]: Done   1 out of   1 | elapsed:    0.2s remaining:    0.0s\n",
            "[Parallel(n_jobs=1)]: Done   4 out of   4 | elapsed:    0.7s finished\n",
            "\n",
            "[2022-12-11 09:10:57] Features: 8/11 -- score: 0.4822222367756396[Parallel(n_jobs=1)]: Using backend SequentialBackend with 1 concurrent workers.\n",
            "[Parallel(n_jobs=1)]: Done   1 out of   1 | elapsed:    0.2s remaining:    0.0s\n",
            "[Parallel(n_jobs=1)]: Done   3 out of   3 | elapsed:    0.6s finished\n",
            "\n",
            "[2022-12-11 09:10:58] Features: 9/11 -- score: 0.48244238242903903[Parallel(n_jobs=1)]: Using backend SequentialBackend with 1 concurrent workers.\n",
            "[Parallel(n_jobs=1)]: Done   1 out of   1 | elapsed:    0.3s remaining:    0.0s\n",
            "[Parallel(n_jobs=1)]: Done   2 out of   2 | elapsed:    0.5s finished\n",
            "\n",
            "[2022-12-11 09:10:59] Features: 10/11 -- score: 0.48262436071857717[Parallel(n_jobs=1)]: Using backend SequentialBackend with 1 concurrent workers.\n",
            "[Parallel(n_jobs=1)]: Done   1 out of   1 | elapsed:    0.2s remaining:    0.0s\n",
            "[Parallel(n_jobs=1)]: Done   1 out of   1 | elapsed:    0.2s finished\n",
            "\n",
            "[2022-12-11 09:10:59] Features: 11/11 -- score: 0.4826060026206628"
          ]
        }
      ],
      "source": [
        "!pip install mlxtend\n",
        "import joblib\n",
        "import sys\n",
        "sys.modules['sklearn.externals.joblib'] = joblib\n",
        "from mlxtend.feature_selection import SequentialFeatureSelector as sfs\n",
        "\n",
        "reg = LinearRegression()\n",
        "\n",
        "# Build step forward feature selection\n",
        "sfs1 = sfs(reg,k_features = x_train.shape[1], forward=True,   # k_features denotes \"Number of features to select\"\n",
        "           floating=False, scoring= 'r2',\n",
        "           verbose=2, cv=5)\n",
        "\n",
        "# Perform SFFS\n",
        "sfs1 = sfs1.fit(x_train, y_train)"
      ]
    },
    {
      "cell_type": "code",
      "execution_count": 80,
      "metadata": {
        "colab": {
          "base_uri": "https://localhost:8080/"
        },
        "id": "h0pmredRFYdn",
        "outputId": "d27492c2-9dfd-4565-daab-64fc1eab49f4"
      },
      "outputs": [
        {
          "output_type": "stream",
          "name": "stderr",
          "text": [
            "[Parallel(n_jobs=1)]: Using backend SequentialBackend with 1 concurrent workers.\n",
            "[Parallel(n_jobs=1)]: Done   1 out of   1 | elapsed:    0.1s remaining:    0.0s\n",
            "[Parallel(n_jobs=1)]: Done  11 out of  11 | elapsed:    0.4s finished\n",
            "\n",
            "[2022-12-11 09:10:59] Features: 1/11 -- score: 0.2836540592266819[Parallel(n_jobs=1)]: Using backend SequentialBackend with 1 concurrent workers.\n",
            "[Parallel(n_jobs=1)]: Done   1 out of   1 | elapsed:    0.1s remaining:    0.0s\n",
            "[Parallel(n_jobs=1)]: Done  10 out of  10 | elapsed:    0.8s finished\n",
            "\n",
            "[2022-12-11 09:11:00] Features: 2/11 -- score: 0.38643266290376604[Parallel(n_jobs=1)]: Using backend SequentialBackend with 1 concurrent workers.\n",
            "[Parallel(n_jobs=1)]: Done   1 out of   1 | elapsed:    0.1s remaining:    0.0s\n",
            "[Parallel(n_jobs=1)]: Done   9 out of   9 | elapsed:    0.8s finished\n",
            "\n",
            "[2022-12-11 09:11:01] Features: 3/11 -- score: 0.45630911159279036[Parallel(n_jobs=1)]: Using backend SequentialBackend with 1 concurrent workers.\n",
            "[Parallel(n_jobs=1)]: Done   1 out of   1 | elapsed:    0.2s remaining:    0.0s\n",
            "[Parallel(n_jobs=1)]: Done   8 out of   8 | elapsed:    0.8s finished\n",
            "\n",
            "[2022-12-11 09:11:02] Features: 4/11 -- score: 0.46767950398051594[Parallel(n_jobs=1)]: Using backend SequentialBackend with 1 concurrent workers.\n",
            "[Parallel(n_jobs=1)]: Done   1 out of   1 | elapsed:    0.1s remaining:    0.0s\n",
            "[Parallel(n_jobs=1)]: Done   7 out of   7 | elapsed:    0.7s finished\n",
            "\n",
            "[2022-12-11 09:11:02] Features: 5/11 -- score: 0.47845820924061666[Parallel(n_jobs=1)]: Using backend SequentialBackend with 1 concurrent workers.\n",
            "[Parallel(n_jobs=1)]: Done   1 out of   1 | elapsed:    0.2s remaining:    0.0s\n",
            "[Parallel(n_jobs=1)]: Done   6 out of   6 | elapsed:    0.9s finished\n",
            "\n",
            "[2022-12-11 09:11:03] Features: 6/11 -- score: 0.4807600314701398[Parallel(n_jobs=1)]: Using backend SequentialBackend with 1 concurrent workers.\n",
            "[Parallel(n_jobs=1)]: Done   1 out of   1 | elapsed:    0.2s remaining:    0.0s\n",
            "[Parallel(n_jobs=1)]: Done   5 out of   5 | elapsed:    1.1s finished\n",
            "\n",
            "[2022-12-11 09:11:04] Features: 7/11 -- score: 0.48181573164836405[Parallel(n_jobs=1)]: Using backend SequentialBackend with 1 concurrent workers.\n",
            "[Parallel(n_jobs=1)]: Done   1 out of   1 | elapsed:    0.2s remaining:    0.0s\n",
            "[Parallel(n_jobs=1)]: Done   4 out of   4 | elapsed:    0.8s finished\n",
            "\n",
            "[2022-12-11 09:11:05] Features: 8/11 -- score: 0.4822222367756396[Parallel(n_jobs=1)]: Using backend SequentialBackend with 1 concurrent workers.\n",
            "[Parallel(n_jobs=1)]: Done   1 out of   1 | elapsed:    0.2s remaining:    0.0s\n",
            "[Parallel(n_jobs=1)]: Done   3 out of   3 | elapsed:    0.4s finished\n",
            "\n",
            "[2022-12-11 09:11:06] Features: 9/11 -- score: 0.48244238242903903[Parallel(n_jobs=1)]: Using backend SequentialBackend with 1 concurrent workers.\n",
            "[Parallel(n_jobs=1)]: Done   1 out of   1 | elapsed:    0.2s remaining:    0.0s\n",
            "[Parallel(n_jobs=1)]: Done   2 out of   2 | elapsed:    0.4s finished\n",
            "\n",
            "[2022-12-11 09:11:06] Features: 10/11 -- score: 0.48262436071857717[Parallel(n_jobs=1)]: Using backend SequentialBackend with 1 concurrent workers.\n",
            "[Parallel(n_jobs=1)]: Done   1 out of   1 | elapsed:    0.2s remaining:    0.0s\n",
            "[Parallel(n_jobs=1)]: Done   1 out of   1 | elapsed:    0.2s finished\n",
            "\n",
            "[2022-12-11 09:11:06] Features: 11/11 -- score: 0.4826060026206628"
          ]
        }
      ],
      "source": [
        "reg = LinearRegression()\n",
        "\n",
        "# # Build step forward feature selection\n",
        "sfs1 = sfs(reg, k_features = 11, forward=True,\n",
        "           floating=False, scoring='r2',\n",
        "           verbose=2, cv=5)\n",
        "\n",
        "# Perform SFFS\n",
        "sfs1 = sfs1.fit(x_train, y_train)"
      ]
    },
    {
      "cell_type": "code",
      "execution_count": 81,
      "metadata": {
        "colab": {
          "base_uri": "https://localhost:8080/"
        },
        "id": "2D7ttRT8R16N",
        "outputId": "a852cd0f-1359-4f68-dd0d-d39ff76844d8"
      },
      "outputs": [
        {
          "output_type": "stream",
          "name": "stdout",
          "text": [
            "[0, 1, 2, 3, 4, 5, 6, 7, 8, 9, 10]\n"
          ]
        }
      ],
      "source": [
        "feat_cols = list(sfs1.k_feature_idx_)\n",
        "print(feat_cols)"
      ]
    },
    {
      "cell_type": "code",
      "execution_count": 82,
      "metadata": {
        "colab": {
          "base_uri": "https://localhost:8080/"
        },
        "id": "p0Oz1UU_R-L5",
        "outputId": "c8e1a201-1f9d-4c5b-9d3e-2f2d8948aaa5"
      },
      "outputs": [
        {
          "output_type": "execute_result",
          "data": {
            "text/plain": [
              "Index(['id', 'bathrooms', 'review_scores_rating', 'bedrooms', 'beds',\n",
              "       'room_type_Private room', 'room_type_Shared room',\n",
              "       'cancellation_policy_moderate', 'cancellation_policy_strict',\n",
              "       'cleaning_fee_True', 'instant_bookable_True'],\n",
              "      dtype='object')"
            ]
          },
          "metadata": {},
          "execution_count": 82
        }
      ],
      "source": [
        "x_train.columns[feat_cols]"
      ]
    },
    {
      "cell_type": "code",
      "execution_count": 83,
      "metadata": {
        "id": "pVQsXiSlSAPz"
      },
      "outputs": [],
      "source": [
        "x_train2 = x_train[x_train.columns[feat_cols]]"
      ]
    },
    {
      "cell_type": "code",
      "execution_count": 84,
      "metadata": {
        "colab": {
          "base_uri": "https://localhost:8080/"
        },
        "id": "LjfQt3vhUWgc",
        "outputId": "9edd73f8-7248-4c48-dc61-b539291e56cb"
      },
      "outputs": [
        {
          "output_type": "execute_result",
          "data": {
            "text/plain": [
              "Index(['id', 'bathrooms', 'review_scores_rating', 'bedrooms', 'beds',\n",
              "       'room_type_Private room', 'room_type_Shared room',\n",
              "       'cancellation_policy_moderate', 'cancellation_policy_strict',\n",
              "       'cleaning_fee_True', 'instant_bookable_True'],\n",
              "      dtype='object')"
            ]
          },
          "metadata": {},
          "execution_count": 84
        }
      ],
      "source": [
        "x_test.columns"
      ]
    },
    {
      "cell_type": "code",
      "execution_count": 85,
      "metadata": {
        "id": "9M3CRqLCUY3y"
      },
      "outputs": [],
      "source": [
        "#Creating new x_test with the same 11 variables that we selected for x_train\n",
        "x_test2 = x_test[x_train2.columns]"
      ]
    },
    {
      "cell_type": "code",
      "execution_count": 86,
      "metadata": {
        "colab": {
          "base_uri": "https://localhost:8080/"
        },
        "id": "EWwZdCg8Ubw0",
        "outputId": "73aa7de7-7c87-4bb8-ad91-961a458bdde6"
      },
      "outputs": [
        {
          "output_type": "stream",
          "name": "stdout",
          "text": [
            "                              Coefficients\n",
            "id                                  -0.000\n",
            "bathrooms                            0.157\n",
            "review_scores_rating                -0.002\n",
            "bedrooms                             0.184\n",
            "beds                                 0.057\n",
            "room_type_Private room              -0.692\n",
            "room_type_Shared room               -1.167\n",
            "cancellation_policy_moderate        -0.015\n",
            "cancellation_policy_strict           0.026\n",
            "cleaning_fee_True                   -0.032\n",
            "instant_bookable_True               -0.052\n",
            "Intercept                            4.791\n",
            "\n",
            "\n",
            "Training Performance\n",
            "\n",
            "     RMSE    MAE   MAPE   R^2  Adjusted R^2\n",
            "0 127.706 61.124 40.318 0.320         0.320\n",
            "\n",
            "\n",
            "Test Performance\n",
            "\n",
            "     RMSE    MAE   MAPE   R^2  Adjusted R^2\n",
            "0 125.201 60.265 39.882 0.347         0.347\n"
          ]
        }
      ],
      "source": [
        "#Fitting linear model\n",
        "lin_reg_model2 = LinearRegression()\n",
        "lin_reg_model2.fit(x_train2,y_train)\n",
        "\n",
        "# checking the coefficients and intercept of the model\n",
        "\n",
        "coef_AirBNB = pd.DataFrame(np.append(lin_reg_model2.coef_.flatten(), lin_reg_model2.intercept_.flatten()), \\\n",
        "                       index=x_train2.columns.tolist()+['Intercept'], columns=['Coefficients'])\n",
        "print(coef_AirBNB)\n",
        "\n",
        "# model performance on train set on different performance metrics\n",
        "print('\\n\\nTraining Performance\\n')\n",
        "print(model_perf(lin_reg_model2, x_train2, y_train))\n",
        "\n",
        "# model performance on test set on the different performance metrics\n",
        "print('\\n\\nTest Performance\\n')\n",
        "print(model_perf(lin_reg_model2, x_test2, y_test))"
      ]
    },
    {
      "cell_type": "markdown",
      "metadata": {
        "id": "Iwj-xlCeUw-t"
      },
      "source": [
        "### Analysing predictions which were way off the mark"
      ]
    },
    {
      "cell_type": "code",
      "execution_count": 87,
      "metadata": {
        "colab": {
          "base_uri": "https://localhost:8080/",
          "height": 1000
        },
        "id": "cTnjvW57Ukvs",
        "outputId": "116b9807-a027-4cbe-b770-99bdee0599df"
      },
      "outputs": [
        {
          "output_type": "execute_result",
          "data": {
            "text/plain": [
              "             id        room_type  accommodates  bathrooms cancellation_policy  \\\n",
              "26621  15257293  Entire home/apt         4.000      2.000              strict   \n",
              "46475  12591975  Entire home/apt         2.000      1.000              strict   \n",
              "54102  15769333  Entire home/apt         6.000      2.000              strict   \n",
              "3052    7651400     Private room         5.000      1.000              strict   \n",
              "67431  19117185     Private room         3.000      1.500              strict   \n",
              "70100    128036      Shared room         1.000      1.000              strict   \n",
              "12091  12760402     Private room         2.000      2.000            moderate   \n",
              "23518    782063     Private room         3.000      1.500              strict   \n",
              "27693  16052733     Private room         2.000      1.000              strict   \n",
              "45888  13345384  Entire home/apt         6.000      1.000            flexible   \n",
              "44846  18476381      Shared room         2.000      1.000              strict   \n",
              "23246   8055582     Private room         5.000      1.000              strict   \n",
              "49746  20234018     Private room         1.000      1.000              strict   \n",
              "672     8405551  Entire home/apt         5.000      1.000              strict   \n",
              "36981  13432718  Entire home/apt         7.000      2.000              strict   \n",
              "53199   2843388  Entire home/apt         2.000      1.000            flexible   \n",
              "23139  14530570  Entire home/apt         2.000      1.000            moderate   \n",
              "8398   19463127  Entire home/apt         3.000      1.000              strict   \n",
              "1228    9351123  Entire home/apt         5.000      1.000              strict   \n",
              "24651   2874486     Private room         2.000      1.000            moderate   \n",
              "40448  16260692  Entire home/apt         3.000      1.000              strict   \n",
              "19548   4359626     Private room         2.000      1.000              strict   \n",
              "27755  16073836     Private room         2.000      1.000            flexible   \n",
              "59832   7775454     Private room         3.000      1.000              strict   \n",
              "10353    700916     Private room         2.000      1.000            flexible   \n",
              "33552  10084216     Private room         1.000      1.000              strict   \n",
              "19787   7849615     Private room         1.000      1.000            moderate   \n",
              "56499  11014002     Private room         1.000      1.000            flexible   \n",
              "17285   1652185     Private room         1.000      1.000            flexible   \n",
              "6032   18199963  Entire home/apt         4.000      2.500              strict   \n",
              "45934  18289619     Private room         2.000      1.000              strict   \n",
              "1090    1256768  Entire home/apt         2.000      1.000            moderate   \n",
              "72352   9463912  Entire home/apt         4.000      2.000            moderate   \n",
              "62229  16975941  Entire home/apt         2.000      1.000            flexible   \n",
              "5958    7460750  Entire home/apt         2.000      1.000            flexible   \n",
              "7776   16744252     Private room         2.000      1.000            flexible   \n",
              "25995  13220100  Entire home/apt         3.000      1.000              strict   \n",
              "35108  12932894  Entire home/apt         5.000      1.500            moderate   \n",
              "37091   9730432     Private room         2.000      1.000              strict   \n",
              "43875   3469178     Private room         3.000      1.000              strict   \n",
              "66113  20535581     Private room         1.000      2.000            flexible   \n",
              "73395  11126756  Entire home/apt         4.000      1.000            flexible   \n",
              "62120  11675279     Private room         4.000      1.000              strict   \n",
              "58058   8942467     Private room         2.000      1.000            moderate   \n",
              "31048   9234132  Entire home/apt         6.000      1.000              strict   \n",
              "9889    9550480  Entire home/apt         2.000      1.000              strict   \n",
              "57017  10962069     Private room         2.000      1.000            moderate   \n",
              "5815    4227441     Private room         2.000      1.000              strict   \n",
              "21032  17268712  Entire home/apt         3.000      1.000              strict   \n",
              "34894   1691903  Entire home/apt         4.000      1.000            moderate   \n",
              "\n",
              "      cleaning_fee instant_bookable  review_scores_rating  bedrooms  beds  \\\n",
              "26621         True            False                92.000     2.000 2.000   \n",
              "46475        False            False               100.000     0.000 1.000   \n",
              "54102         True             True                92.000     2.000 2.000   \n",
              "3052          True            False                91.000     1.000 2.000   \n",
              "67431         True             True                98.000     1.000 1.000   \n",
              "70100         True            False                80.000     1.000 1.000   \n",
              "12091         True            False               100.000     1.000 2.000   \n",
              "23518         True             True                94.000     1.000 1.000   \n",
              "27693         True            False               100.000     1.000 3.000   \n",
              "45888        False             True                20.000     2.000 3.000   \n",
              "44846         True            False                20.000     1.000 2.000   \n",
              "23246         True            False                89.000     1.000 2.000   \n",
              "49746        False            False                20.000     1.000 1.000   \n",
              "672           True            False                92.000     3.000 3.000   \n",
              "36981         True             True                20.000     3.000 5.000   \n",
              "53199        False            False                20.000     0.000 1.000   \n",
              "23139        False            False                96.000     0.000 1.000   \n",
              "8398         False            False                83.000     0.000 1.000   \n",
              "1228          True             True                96.000     1.000 2.000   \n",
              "24651         True             True                90.000     1.000 1.000   \n",
              "40448         True            False                89.000     1.000 1.000   \n",
              "19548         True            False               100.000     1.000 1.000   \n",
              "27755        False            False                20.000     1.000 1.000   \n",
              "59832         True            False               100.000     1.000 2.000   \n",
              "10353        False            False                87.000     1.000 1.000   \n",
              "33552         True             True                20.000     1.000 1.000   \n",
              "19787        False             True                98.000     1.000 1.000   \n",
              "56499        False             True                80.000     1.000 1.000   \n",
              "17285         True            False                20.000     1.000 1.000   \n",
              "6032          True            False                98.000     2.000 2.000   \n",
              "45934         True             True                80.000     1.000 1.000   \n",
              "1090          True            False               100.000     0.000 1.000   \n",
              "72352         True            False               100.000     2.000 2.000   \n",
              "62229         True             True               100.000     0.000 1.000   \n",
              "5958          True             True                20.000     1.000 2.000   \n",
              "7776          True             True                96.000     1.000 1.000   \n",
              "25995         True            False                86.000     1.000 2.000   \n",
              "35108         True            False                92.000     3.000 3.000   \n",
              "37091         True            False                95.000     1.000 1.000   \n",
              "43875         True            False               100.000     1.000 1.000   \n",
              "66113         True             True                96.000     1.000 1.000   \n",
              "73395         True            False               100.000     1.000 3.000   \n",
              "62120        False             True                20.000     1.000 2.000   \n",
              "58058         True             True                92.000     1.000 1.000   \n",
              "31048         True            False                20.000     2.000 3.000   \n",
              "9889          True            False                95.000     0.000 1.000   \n",
              "57017         True             True                98.000     1.000 1.000   \n",
              "5815         False            False                85.000     1.000 1.000   \n",
              "21032         True            False               100.000     2.000 2.000   \n",
              "34894         True             True                99.000     2.000 2.000   \n",
              "\n",
              "       log_price  Predicted log_price  Predicted accommodates  residuals  \\\n",
              "26621      6.205                6.938                1030.494     -0.835   \n",
              "46475      4.094                6.890                 982.779      0.707   \n",
              "54102      5.517                6.833                 928.083     -0.200   \n",
              "3052       5.541                6.780                 880.473     -1.202   \n",
              "67431      4.595                6.754                 857.605     -0.303   \n",
              "70100      2.996                6.735                 841.131      0.837   \n",
              "12091      3.664                6.650                 772.425      0.771   \n",
              "23518      4.234                6.650                 772.569      0.068   \n",
              "27693      5.209                6.648                 771.067     -0.835   \n",
              "45888      6.040                6.649                 772.070     -0.653   \n",
              "44846      3.401                6.603                 737.150      0.624   \n",
              "23246      4.317                6.603                 737.507      0.026   \n",
              "49746      5.298                6.598                 733.412     -0.822   \n",
              "672        4.554                6.598                 733.775      0.899   \n",
              "36981      5.595                6.597                 733.259      0.241   \n",
              "53199      5.765                6.583                 722.580     -0.806   \n",
              "23139      4.905                6.579                 720.152     -0.135   \n",
              "8398       4.585                6.577                 718.296      0.255   \n",
              "1228       4.234                6.576                 717.955      0.733   \n",
              "24651      4.605                6.571                 714.069     -0.413   \n",
              "40448      5.416                6.561                 707.005     -0.438   \n",
              "19548      4.898                6.544                 694.852     -0.636   \n",
              "27755      4.317                6.539                 691.796      0.133   \n",
              "59832      4.522                6.540                 692.339     -0.203   \n",
              "10353      4.094                6.505                 668.437      0.204   \n",
              "33552      5.069                6.493                 660.797     -0.677   \n",
              "19787      3.555                6.493                 660.457      0.651   \n",
              "56499      3.761                6.490                 658.498      0.500   \n",
              "17285      4.382                6.487                 656.572      0.037   \n",
              "6032       5.858                6.488                 656.900     -0.424   \n",
              "45934      4.787                6.482                 653.492     -0.533   \n",
              "1090       4.898                6.465                 642.419     -0.168   \n",
              "72352      5.069                6.466                 642.778      0.242   \n",
              "62229      5.011                6.446                 630.442     -0.320   \n",
              "5958       5.004                6.442                 627.886      0.111   \n",
              "7776       4.094                6.441                 627.036      0.098   \n",
              "25995      4.554                6.440                 626.465      0.488   \n",
              "35108      5.011                6.439                 625.920      0.481   \n",
              "37091      4.407                6.432                 621.641     -0.133   \n",
              "43875      4.500                6.434                 622.629     -0.238   \n",
              "66113      3.912                6.420                 614.033      0.437   \n",
              "73395      4.828                6.414                 610.086      0.213   \n",
              "62120      3.932                6.413                 609.492      0.549   \n",
              "58058      3.912                6.408                 606.888      0.275   \n",
              "31048      4.860                6.404                 604.554      0.574   \n",
              "9889       4.868                6.388                 594.493     -0.087   \n",
              "57017      4.094                6.387                 593.875      0.079   \n",
              "5815       4.615                6.386                 593.700     -0.286   \n",
              "21032      5.273                6.387                 593.869     -0.079   \n",
              "34894      5.069                6.388                 594.756      0.035   \n",
              "\n",
              "       Abs_residuals  Difference log_price  \n",
              "26621          0.434              1026.494  \n",
              "46475          2.029               980.779  \n",
              "54102          0.818               922.083  \n",
              "3052           0.301               875.473  \n",
              "67431          0.739               854.605  \n",
              "70100          2.309               840.131  \n",
              "12091          2.163               770.425  \n",
              "23518          1.071               769.569  \n",
              "27693          0.434               769.067  \n",
              "45888          0.521               766.070  \n",
              "44846          1.867               735.150  \n",
              "23246          1.027               732.507  \n",
              "49746          0.440               732.412  \n",
              "672            2.458               728.775  \n",
              "36981          1.273               726.259  \n",
              "53199          0.447               720.580  \n",
              "23139          0.874               718.152  \n",
              "8398           1.291               715.296  \n",
              "1228           2.081               712.955  \n",
              "24651          0.662               712.069  \n",
              "40448          0.646               704.005  \n",
              "19548          0.530               692.852  \n",
              "27755          1.143               689.796  \n",
              "59832          0.816               689.339  \n",
              "10353          1.227               666.437  \n",
              "33552          0.508               659.797  \n",
              "19787          1.917               659.457  \n",
              "56499          1.649               657.498  \n",
              "17285          1.038               655.572  \n",
              "6032           0.655               652.900  \n",
              "45934          0.587               651.492  \n",
              "1090           0.845               640.419  \n",
              "72352          1.274               638.778  \n",
              "62229          0.726               628.442  \n",
              "5958           1.117               625.886  \n",
              "7776           1.103               625.036  \n",
              "25995          1.629               623.465  \n",
              "35108          1.617               620.920  \n",
              "37091          0.875               619.641  \n",
              "43875          0.788               619.629  \n",
              "66113          1.549               613.033  \n",
              "73395          1.237               606.086  \n",
              "62120          1.732               605.492  \n",
              "58058          1.317               604.888  \n",
              "31048          1.775               598.554  \n",
              "9889           0.917               592.493  \n",
              "57017          1.082               591.875  \n",
              "5815           0.751               591.700  \n",
              "21032          0.924               590.869  \n",
              "34894          1.036               590.756  "
            ],
            "text/html": [
              "\n",
              "  <div id=\"df-bff9c5c6-fb74-4cb4-a6d6-4b2ff543331a\">\n",
              "    <div class=\"colab-df-container\">\n",
              "      <div>\n",
              "<style scoped>\n",
              "    .dataframe tbody tr th:only-of-type {\n",
              "        vertical-align: middle;\n",
              "    }\n",
              "\n",
              "    .dataframe tbody tr th {\n",
              "        vertical-align: top;\n",
              "    }\n",
              "\n",
              "    .dataframe thead th {\n",
              "        text-align: right;\n",
              "    }\n",
              "</style>\n",
              "<table border=\"1\" class=\"dataframe\">\n",
              "  <thead>\n",
              "    <tr style=\"text-align: right;\">\n",
              "      <th></th>\n",
              "      <th>id</th>\n",
              "      <th>room_type</th>\n",
              "      <th>accommodates</th>\n",
              "      <th>bathrooms</th>\n",
              "      <th>cancellation_policy</th>\n",
              "      <th>cleaning_fee</th>\n",
              "      <th>instant_bookable</th>\n",
              "      <th>review_scores_rating</th>\n",
              "      <th>bedrooms</th>\n",
              "      <th>beds</th>\n",
              "      <th>log_price</th>\n",
              "      <th>Predicted log_price</th>\n",
              "      <th>Predicted accommodates</th>\n",
              "      <th>residuals</th>\n",
              "      <th>Abs_residuals</th>\n",
              "      <th>Difference log_price</th>\n",
              "    </tr>\n",
              "  </thead>\n",
              "  <tbody>\n",
              "    <tr>\n",
              "      <th>26621</th>\n",
              "      <td>15257293</td>\n",
              "      <td>Entire home/apt</td>\n",
              "      <td>4.000</td>\n",
              "      <td>2.000</td>\n",
              "      <td>strict</td>\n",
              "      <td>True</td>\n",
              "      <td>False</td>\n",
              "      <td>92.000</td>\n",
              "      <td>2.000</td>\n",
              "      <td>2.000</td>\n",
              "      <td>6.205</td>\n",
              "      <td>6.938</td>\n",
              "      <td>1030.494</td>\n",
              "      <td>-0.835</td>\n",
              "      <td>0.434</td>\n",
              "      <td>1026.494</td>\n",
              "    </tr>\n",
              "    <tr>\n",
              "      <th>46475</th>\n",
              "      <td>12591975</td>\n",
              "      <td>Entire home/apt</td>\n",
              "      <td>2.000</td>\n",
              "      <td>1.000</td>\n",
              "      <td>strict</td>\n",
              "      <td>False</td>\n",
              "      <td>False</td>\n",
              "      <td>100.000</td>\n",
              "      <td>0.000</td>\n",
              "      <td>1.000</td>\n",
              "      <td>4.094</td>\n",
              "      <td>6.890</td>\n",
              "      <td>982.779</td>\n",
              "      <td>0.707</td>\n",
              "      <td>2.029</td>\n",
              "      <td>980.779</td>\n",
              "    </tr>\n",
              "    <tr>\n",
              "      <th>54102</th>\n",
              "      <td>15769333</td>\n",
              "      <td>Entire home/apt</td>\n",
              "      <td>6.000</td>\n",
              "      <td>2.000</td>\n",
              "      <td>strict</td>\n",
              "      <td>True</td>\n",
              "      <td>True</td>\n",
              "      <td>92.000</td>\n",
              "      <td>2.000</td>\n",
              "      <td>2.000</td>\n",
              "      <td>5.517</td>\n",
              "      <td>6.833</td>\n",
              "      <td>928.083</td>\n",
              "      <td>-0.200</td>\n",
              "      <td>0.818</td>\n",
              "      <td>922.083</td>\n",
              "    </tr>\n",
              "    <tr>\n",
              "      <th>3052</th>\n",
              "      <td>7651400</td>\n",
              "      <td>Private room</td>\n",
              "      <td>5.000</td>\n",
              "      <td>1.000</td>\n",
              "      <td>strict</td>\n",
              "      <td>True</td>\n",
              "      <td>False</td>\n",
              "      <td>91.000</td>\n",
              "      <td>1.000</td>\n",
              "      <td>2.000</td>\n",
              "      <td>5.541</td>\n",
              "      <td>6.780</td>\n",
              "      <td>880.473</td>\n",
              "      <td>-1.202</td>\n",
              "      <td>0.301</td>\n",
              "      <td>875.473</td>\n",
              "    </tr>\n",
              "    <tr>\n",
              "      <th>67431</th>\n",
              "      <td>19117185</td>\n",
              "      <td>Private room</td>\n",
              "      <td>3.000</td>\n",
              "      <td>1.500</td>\n",
              "      <td>strict</td>\n",
              "      <td>True</td>\n",
              "      <td>True</td>\n",
              "      <td>98.000</td>\n",
              "      <td>1.000</td>\n",
              "      <td>1.000</td>\n",
              "      <td>4.595</td>\n",
              "      <td>6.754</td>\n",
              "      <td>857.605</td>\n",
              "      <td>-0.303</td>\n",
              "      <td>0.739</td>\n",
              "      <td>854.605</td>\n",
              "    </tr>\n",
              "    <tr>\n",
              "      <th>70100</th>\n",
              "      <td>128036</td>\n",
              "      <td>Shared room</td>\n",
              "      <td>1.000</td>\n",
              "      <td>1.000</td>\n",
              "      <td>strict</td>\n",
              "      <td>True</td>\n",
              "      <td>False</td>\n",
              "      <td>80.000</td>\n",
              "      <td>1.000</td>\n",
              "      <td>1.000</td>\n",
              "      <td>2.996</td>\n",
              "      <td>6.735</td>\n",
              "      <td>841.131</td>\n",
              "      <td>0.837</td>\n",
              "      <td>2.309</td>\n",
              "      <td>840.131</td>\n",
              "    </tr>\n",
              "    <tr>\n",
              "      <th>12091</th>\n",
              "      <td>12760402</td>\n",
              "      <td>Private room</td>\n",
              "      <td>2.000</td>\n",
              "      <td>2.000</td>\n",
              "      <td>moderate</td>\n",
              "      <td>True</td>\n",
              "      <td>False</td>\n",
              "      <td>100.000</td>\n",
              "      <td>1.000</td>\n",
              "      <td>2.000</td>\n",
              "      <td>3.664</td>\n",
              "      <td>6.650</td>\n",
              "      <td>772.425</td>\n",
              "      <td>0.771</td>\n",
              "      <td>2.163</td>\n",
              "      <td>770.425</td>\n",
              "    </tr>\n",
              "    <tr>\n",
              "      <th>23518</th>\n",
              "      <td>782063</td>\n",
              "      <td>Private room</td>\n",
              "      <td>3.000</td>\n",
              "      <td>1.500</td>\n",
              "      <td>strict</td>\n",
              "      <td>True</td>\n",
              "      <td>True</td>\n",
              "      <td>94.000</td>\n",
              "      <td>1.000</td>\n",
              "      <td>1.000</td>\n",
              "      <td>4.234</td>\n",
              "      <td>6.650</td>\n",
              "      <td>772.569</td>\n",
              "      <td>0.068</td>\n",
              "      <td>1.071</td>\n",
              "      <td>769.569</td>\n",
              "    </tr>\n",
              "    <tr>\n",
              "      <th>27693</th>\n",
              "      <td>16052733</td>\n",
              "      <td>Private room</td>\n",
              "      <td>2.000</td>\n",
              "      <td>1.000</td>\n",
              "      <td>strict</td>\n",
              "      <td>True</td>\n",
              "      <td>False</td>\n",
              "      <td>100.000</td>\n",
              "      <td>1.000</td>\n",
              "      <td>3.000</td>\n",
              "      <td>5.209</td>\n",
              "      <td>6.648</td>\n",
              "      <td>771.067</td>\n",
              "      <td>-0.835</td>\n",
              "      <td>0.434</td>\n",
              "      <td>769.067</td>\n",
              "    </tr>\n",
              "    <tr>\n",
              "      <th>45888</th>\n",
              "      <td>13345384</td>\n",
              "      <td>Entire home/apt</td>\n",
              "      <td>6.000</td>\n",
              "      <td>1.000</td>\n",
              "      <td>flexible</td>\n",
              "      <td>False</td>\n",
              "      <td>True</td>\n",
              "      <td>20.000</td>\n",
              "      <td>2.000</td>\n",
              "      <td>3.000</td>\n",
              "      <td>6.040</td>\n",
              "      <td>6.649</td>\n",
              "      <td>772.070</td>\n",
              "      <td>-0.653</td>\n",
              "      <td>0.521</td>\n",
              "      <td>766.070</td>\n",
              "    </tr>\n",
              "    <tr>\n",
              "      <th>44846</th>\n",
              "      <td>18476381</td>\n",
              "      <td>Shared room</td>\n",
              "      <td>2.000</td>\n",
              "      <td>1.000</td>\n",
              "      <td>strict</td>\n",
              "      <td>True</td>\n",
              "      <td>False</td>\n",
              "      <td>20.000</td>\n",
              "      <td>1.000</td>\n",
              "      <td>2.000</td>\n",
              "      <td>3.401</td>\n",
              "      <td>6.603</td>\n",
              "      <td>737.150</td>\n",
              "      <td>0.624</td>\n",
              "      <td>1.867</td>\n",
              "      <td>735.150</td>\n",
              "    </tr>\n",
              "    <tr>\n",
              "      <th>23246</th>\n",
              "      <td>8055582</td>\n",
              "      <td>Private room</td>\n",
              "      <td>5.000</td>\n",
              "      <td>1.000</td>\n",
              "      <td>strict</td>\n",
              "      <td>True</td>\n",
              "      <td>False</td>\n",
              "      <td>89.000</td>\n",
              "      <td>1.000</td>\n",
              "      <td>2.000</td>\n",
              "      <td>4.317</td>\n",
              "      <td>6.603</td>\n",
              "      <td>737.507</td>\n",
              "      <td>0.026</td>\n",
              "      <td>1.027</td>\n",
              "      <td>732.507</td>\n",
              "    </tr>\n",
              "    <tr>\n",
              "      <th>49746</th>\n",
              "      <td>20234018</td>\n",
              "      <td>Private room</td>\n",
              "      <td>1.000</td>\n",
              "      <td>1.000</td>\n",
              "      <td>strict</td>\n",
              "      <td>False</td>\n",
              "      <td>False</td>\n",
              "      <td>20.000</td>\n",
              "      <td>1.000</td>\n",
              "      <td>1.000</td>\n",
              "      <td>5.298</td>\n",
              "      <td>6.598</td>\n",
              "      <td>733.412</td>\n",
              "      <td>-0.822</td>\n",
              "      <td>0.440</td>\n",
              "      <td>732.412</td>\n",
              "    </tr>\n",
              "    <tr>\n",
              "      <th>672</th>\n",
              "      <td>8405551</td>\n",
              "      <td>Entire home/apt</td>\n",
              "      <td>5.000</td>\n",
              "      <td>1.000</td>\n",
              "      <td>strict</td>\n",
              "      <td>True</td>\n",
              "      <td>False</td>\n",
              "      <td>92.000</td>\n",
              "      <td>3.000</td>\n",
              "      <td>3.000</td>\n",
              "      <td>4.554</td>\n",
              "      <td>6.598</td>\n",
              "      <td>733.775</td>\n",
              "      <td>0.899</td>\n",
              "      <td>2.458</td>\n",
              "      <td>728.775</td>\n",
              "    </tr>\n",
              "    <tr>\n",
              "      <th>36981</th>\n",
              "      <td>13432718</td>\n",
              "      <td>Entire home/apt</td>\n",
              "      <td>7.000</td>\n",
              "      <td>2.000</td>\n",
              "      <td>strict</td>\n",
              "      <td>True</td>\n",
              "      <td>True</td>\n",
              "      <td>20.000</td>\n",
              "      <td>3.000</td>\n",
              "      <td>5.000</td>\n",
              "      <td>5.595</td>\n",
              "      <td>6.597</td>\n",
              "      <td>733.259</td>\n",
              "      <td>0.241</td>\n",
              "      <td>1.273</td>\n",
              "      <td>726.259</td>\n",
              "    </tr>\n",
              "    <tr>\n",
              "      <th>53199</th>\n",
              "      <td>2843388</td>\n",
              "      <td>Entire home/apt</td>\n",
              "      <td>2.000</td>\n",
              "      <td>1.000</td>\n",
              "      <td>flexible</td>\n",
              "      <td>False</td>\n",
              "      <td>False</td>\n",
              "      <td>20.000</td>\n",
              "      <td>0.000</td>\n",
              "      <td>1.000</td>\n",
              "      <td>5.765</td>\n",
              "      <td>6.583</td>\n",
              "      <td>722.580</td>\n",
              "      <td>-0.806</td>\n",
              "      <td>0.447</td>\n",
              "      <td>720.580</td>\n",
              "    </tr>\n",
              "    <tr>\n",
              "      <th>23139</th>\n",
              "      <td>14530570</td>\n",
              "      <td>Entire home/apt</td>\n",
              "      <td>2.000</td>\n",
              "      <td>1.000</td>\n",
              "      <td>moderate</td>\n",
              "      <td>False</td>\n",
              "      <td>False</td>\n",
              "      <td>96.000</td>\n",
              "      <td>0.000</td>\n",
              "      <td>1.000</td>\n",
              "      <td>4.905</td>\n",
              "      <td>6.579</td>\n",
              "      <td>720.152</td>\n",
              "      <td>-0.135</td>\n",
              "      <td>0.874</td>\n",
              "      <td>718.152</td>\n",
              "    </tr>\n",
              "    <tr>\n",
              "      <th>8398</th>\n",
              "      <td>19463127</td>\n",
              "      <td>Entire home/apt</td>\n",
              "      <td>3.000</td>\n",
              "      <td>1.000</td>\n",
              "      <td>strict</td>\n",
              "      <td>False</td>\n",
              "      <td>False</td>\n",
              "      <td>83.000</td>\n",
              "      <td>0.000</td>\n",
              "      <td>1.000</td>\n",
              "      <td>4.585</td>\n",
              "      <td>6.577</td>\n",
              "      <td>718.296</td>\n",
              "      <td>0.255</td>\n",
              "      <td>1.291</td>\n",
              "      <td>715.296</td>\n",
              "    </tr>\n",
              "    <tr>\n",
              "      <th>1228</th>\n",
              "      <td>9351123</td>\n",
              "      <td>Entire home/apt</td>\n",
              "      <td>5.000</td>\n",
              "      <td>1.000</td>\n",
              "      <td>strict</td>\n",
              "      <td>True</td>\n",
              "      <td>True</td>\n",
              "      <td>96.000</td>\n",
              "      <td>1.000</td>\n",
              "      <td>2.000</td>\n",
              "      <td>4.234</td>\n",
              "      <td>6.576</td>\n",
              "      <td>717.955</td>\n",
              "      <td>0.733</td>\n",
              "      <td>2.081</td>\n",
              "      <td>712.955</td>\n",
              "    </tr>\n",
              "    <tr>\n",
              "      <th>24651</th>\n",
              "      <td>2874486</td>\n",
              "      <td>Private room</td>\n",
              "      <td>2.000</td>\n",
              "      <td>1.000</td>\n",
              "      <td>moderate</td>\n",
              "      <td>True</td>\n",
              "      <td>True</td>\n",
              "      <td>90.000</td>\n",
              "      <td>1.000</td>\n",
              "      <td>1.000</td>\n",
              "      <td>4.605</td>\n",
              "      <td>6.571</td>\n",
              "      <td>714.069</td>\n",
              "      <td>-0.413</td>\n",
              "      <td>0.662</td>\n",
              "      <td>712.069</td>\n",
              "    </tr>\n",
              "    <tr>\n",
              "      <th>40448</th>\n",
              "      <td>16260692</td>\n",
              "      <td>Entire home/apt</td>\n",
              "      <td>3.000</td>\n",
              "      <td>1.000</td>\n",
              "      <td>strict</td>\n",
              "      <td>True</td>\n",
              "      <td>False</td>\n",
              "      <td>89.000</td>\n",
              "      <td>1.000</td>\n",
              "      <td>1.000</td>\n",
              "      <td>5.416</td>\n",
              "      <td>6.561</td>\n",
              "      <td>707.005</td>\n",
              "      <td>-0.438</td>\n",
              "      <td>0.646</td>\n",
              "      <td>704.005</td>\n",
              "    </tr>\n",
              "    <tr>\n",
              "      <th>19548</th>\n",
              "      <td>4359626</td>\n",
              "      <td>Private room</td>\n",
              "      <td>2.000</td>\n",
              "      <td>1.000</td>\n",
              "      <td>strict</td>\n",
              "      <td>True</td>\n",
              "      <td>False</td>\n",
              "      <td>100.000</td>\n",
              "      <td>1.000</td>\n",
              "      <td>1.000</td>\n",
              "      <td>4.898</td>\n",
              "      <td>6.544</td>\n",
              "      <td>694.852</td>\n",
              "      <td>-0.636</td>\n",
              "      <td>0.530</td>\n",
              "      <td>692.852</td>\n",
              "    </tr>\n",
              "    <tr>\n",
              "      <th>27755</th>\n",
              "      <td>16073836</td>\n",
              "      <td>Private room</td>\n",
              "      <td>2.000</td>\n",
              "      <td>1.000</td>\n",
              "      <td>flexible</td>\n",
              "      <td>False</td>\n",
              "      <td>False</td>\n",
              "      <td>20.000</td>\n",
              "      <td>1.000</td>\n",
              "      <td>1.000</td>\n",
              "      <td>4.317</td>\n",
              "      <td>6.539</td>\n",
              "      <td>691.796</td>\n",
              "      <td>0.133</td>\n",
              "      <td>1.143</td>\n",
              "      <td>689.796</td>\n",
              "    </tr>\n",
              "    <tr>\n",
              "      <th>59832</th>\n",
              "      <td>7775454</td>\n",
              "      <td>Private room</td>\n",
              "      <td>3.000</td>\n",
              "      <td>1.000</td>\n",
              "      <td>strict</td>\n",
              "      <td>True</td>\n",
              "      <td>False</td>\n",
              "      <td>100.000</td>\n",
              "      <td>1.000</td>\n",
              "      <td>2.000</td>\n",
              "      <td>4.522</td>\n",
              "      <td>6.540</td>\n",
              "      <td>692.339</td>\n",
              "      <td>-0.203</td>\n",
              "      <td>0.816</td>\n",
              "      <td>689.339</td>\n",
              "    </tr>\n",
              "    <tr>\n",
              "      <th>10353</th>\n",
              "      <td>700916</td>\n",
              "      <td>Private room</td>\n",
              "      <td>2.000</td>\n",
              "      <td>1.000</td>\n",
              "      <td>flexible</td>\n",
              "      <td>False</td>\n",
              "      <td>False</td>\n",
              "      <td>87.000</td>\n",
              "      <td>1.000</td>\n",
              "      <td>1.000</td>\n",
              "      <td>4.094</td>\n",
              "      <td>6.505</td>\n",
              "      <td>668.437</td>\n",
              "      <td>0.204</td>\n",
              "      <td>1.227</td>\n",
              "      <td>666.437</td>\n",
              "    </tr>\n",
              "    <tr>\n",
              "      <th>33552</th>\n",
              "      <td>10084216</td>\n",
              "      <td>Private room</td>\n",
              "      <td>1.000</td>\n",
              "      <td>1.000</td>\n",
              "      <td>strict</td>\n",
              "      <td>True</td>\n",
              "      <td>True</td>\n",
              "      <td>20.000</td>\n",
              "      <td>1.000</td>\n",
              "      <td>1.000</td>\n",
              "      <td>5.069</td>\n",
              "      <td>6.493</td>\n",
              "      <td>660.797</td>\n",
              "      <td>-0.677</td>\n",
              "      <td>0.508</td>\n",
              "      <td>659.797</td>\n",
              "    </tr>\n",
              "    <tr>\n",
              "      <th>19787</th>\n",
              "      <td>7849615</td>\n",
              "      <td>Private room</td>\n",
              "      <td>1.000</td>\n",
              "      <td>1.000</td>\n",
              "      <td>moderate</td>\n",
              "      <td>False</td>\n",
              "      <td>True</td>\n",
              "      <td>98.000</td>\n",
              "      <td>1.000</td>\n",
              "      <td>1.000</td>\n",
              "      <td>3.555</td>\n",
              "      <td>6.493</td>\n",
              "      <td>660.457</td>\n",
              "      <td>0.651</td>\n",
              "      <td>1.917</td>\n",
              "      <td>659.457</td>\n",
              "    </tr>\n",
              "    <tr>\n",
              "      <th>56499</th>\n",
              "      <td>11014002</td>\n",
              "      <td>Private room</td>\n",
              "      <td>1.000</td>\n",
              "      <td>1.000</td>\n",
              "      <td>flexible</td>\n",
              "      <td>False</td>\n",
              "      <td>True</td>\n",
              "      <td>80.000</td>\n",
              "      <td>1.000</td>\n",
              "      <td>1.000</td>\n",
              "      <td>3.761</td>\n",
              "      <td>6.490</td>\n",
              "      <td>658.498</td>\n",
              "      <td>0.500</td>\n",
              "      <td>1.649</td>\n",
              "      <td>657.498</td>\n",
              "    </tr>\n",
              "    <tr>\n",
              "      <th>17285</th>\n",
              "      <td>1652185</td>\n",
              "      <td>Private room</td>\n",
              "      <td>1.000</td>\n",
              "      <td>1.000</td>\n",
              "      <td>flexible</td>\n",
              "      <td>True</td>\n",
              "      <td>False</td>\n",
              "      <td>20.000</td>\n",
              "      <td>1.000</td>\n",
              "      <td>1.000</td>\n",
              "      <td>4.382</td>\n",
              "      <td>6.487</td>\n",
              "      <td>656.572</td>\n",
              "      <td>0.037</td>\n",
              "      <td>1.038</td>\n",
              "      <td>655.572</td>\n",
              "    </tr>\n",
              "    <tr>\n",
              "      <th>6032</th>\n",
              "      <td>18199963</td>\n",
              "      <td>Entire home/apt</td>\n",
              "      <td>4.000</td>\n",
              "      <td>2.500</td>\n",
              "      <td>strict</td>\n",
              "      <td>True</td>\n",
              "      <td>False</td>\n",
              "      <td>98.000</td>\n",
              "      <td>2.000</td>\n",
              "      <td>2.000</td>\n",
              "      <td>5.858</td>\n",
              "      <td>6.488</td>\n",
              "      <td>656.900</td>\n",
              "      <td>-0.424</td>\n",
              "      <td>0.655</td>\n",
              "      <td>652.900</td>\n",
              "    </tr>\n",
              "    <tr>\n",
              "      <th>45934</th>\n",
              "      <td>18289619</td>\n",
              "      <td>Private room</td>\n",
              "      <td>2.000</td>\n",
              "      <td>1.000</td>\n",
              "      <td>strict</td>\n",
              "      <td>True</td>\n",
              "      <td>True</td>\n",
              "      <td>80.000</td>\n",
              "      <td>1.000</td>\n",
              "      <td>1.000</td>\n",
              "      <td>4.787</td>\n",
              "      <td>6.482</td>\n",
              "      <td>653.492</td>\n",
              "      <td>-0.533</td>\n",
              "      <td>0.587</td>\n",
              "      <td>651.492</td>\n",
              "    </tr>\n",
              "    <tr>\n",
              "      <th>1090</th>\n",
              "      <td>1256768</td>\n",
              "      <td>Entire home/apt</td>\n",
              "      <td>2.000</td>\n",
              "      <td>1.000</td>\n",
              "      <td>moderate</td>\n",
              "      <td>True</td>\n",
              "      <td>False</td>\n",
              "      <td>100.000</td>\n",
              "      <td>0.000</td>\n",
              "      <td>1.000</td>\n",
              "      <td>4.898</td>\n",
              "      <td>6.465</td>\n",
              "      <td>642.419</td>\n",
              "      <td>-0.168</td>\n",
              "      <td>0.845</td>\n",
              "      <td>640.419</td>\n",
              "    </tr>\n",
              "    <tr>\n",
              "      <th>72352</th>\n",
              "      <td>9463912</td>\n",
              "      <td>Entire home/apt</td>\n",
              "      <td>4.000</td>\n",
              "      <td>2.000</td>\n",
              "      <td>moderate</td>\n",
              "      <td>True</td>\n",
              "      <td>False</td>\n",
              "      <td>100.000</td>\n",
              "      <td>2.000</td>\n",
              "      <td>2.000</td>\n",
              "      <td>5.069</td>\n",
              "      <td>6.466</td>\n",
              "      <td>642.778</td>\n",
              "      <td>0.242</td>\n",
              "      <td>1.274</td>\n",
              "      <td>638.778</td>\n",
              "    </tr>\n",
              "    <tr>\n",
              "      <th>62229</th>\n",
              "      <td>16975941</td>\n",
              "      <td>Entire home/apt</td>\n",
              "      <td>2.000</td>\n",
              "      <td>1.000</td>\n",
              "      <td>flexible</td>\n",
              "      <td>True</td>\n",
              "      <td>True</td>\n",
              "      <td>100.000</td>\n",
              "      <td>0.000</td>\n",
              "      <td>1.000</td>\n",
              "      <td>5.011</td>\n",
              "      <td>6.446</td>\n",
              "      <td>630.442</td>\n",
              "      <td>-0.320</td>\n",
              "      <td>0.726</td>\n",
              "      <td>628.442</td>\n",
              "    </tr>\n",
              "    <tr>\n",
              "      <th>5958</th>\n",
              "      <td>7460750</td>\n",
              "      <td>Entire home/apt</td>\n",
              "      <td>2.000</td>\n",
              "      <td>1.000</td>\n",
              "      <td>flexible</td>\n",
              "      <td>True</td>\n",
              "      <td>True</td>\n",
              "      <td>20.000</td>\n",
              "      <td>1.000</td>\n",
              "      <td>2.000</td>\n",
              "      <td>5.004</td>\n",
              "      <td>6.442</td>\n",
              "      <td>627.886</td>\n",
              "      <td>0.111</td>\n",
              "      <td>1.117</td>\n",
              "      <td>625.886</td>\n",
              "    </tr>\n",
              "    <tr>\n",
              "      <th>7776</th>\n",
              "      <td>16744252</td>\n",
              "      <td>Private room</td>\n",
              "      <td>2.000</td>\n",
              "      <td>1.000</td>\n",
              "      <td>flexible</td>\n",
              "      <td>True</td>\n",
              "      <td>True</td>\n",
              "      <td>96.000</td>\n",
              "      <td>1.000</td>\n",
              "      <td>1.000</td>\n",
              "      <td>4.094</td>\n",
              "      <td>6.441</td>\n",
              "      <td>627.036</td>\n",
              "      <td>0.098</td>\n",
              "      <td>1.103</td>\n",
              "      <td>625.036</td>\n",
              "    </tr>\n",
              "    <tr>\n",
              "      <th>25995</th>\n",
              "      <td>13220100</td>\n",
              "      <td>Entire home/apt</td>\n",
              "      <td>3.000</td>\n",
              "      <td>1.000</td>\n",
              "      <td>strict</td>\n",
              "      <td>True</td>\n",
              "      <td>False</td>\n",
              "      <td>86.000</td>\n",
              "      <td>1.000</td>\n",
              "      <td>2.000</td>\n",
              "      <td>4.554</td>\n",
              "      <td>6.440</td>\n",
              "      <td>626.465</td>\n",
              "      <td>0.488</td>\n",
              "      <td>1.629</td>\n",
              "      <td>623.465</td>\n",
              "    </tr>\n",
              "    <tr>\n",
              "      <th>35108</th>\n",
              "      <td>12932894</td>\n",
              "      <td>Entire home/apt</td>\n",
              "      <td>5.000</td>\n",
              "      <td>1.500</td>\n",
              "      <td>moderate</td>\n",
              "      <td>True</td>\n",
              "      <td>False</td>\n",
              "      <td>92.000</td>\n",
              "      <td>3.000</td>\n",
              "      <td>3.000</td>\n",
              "      <td>5.011</td>\n",
              "      <td>6.439</td>\n",
              "      <td>625.920</td>\n",
              "      <td>0.481</td>\n",
              "      <td>1.617</td>\n",
              "      <td>620.920</td>\n",
              "    </tr>\n",
              "    <tr>\n",
              "      <th>37091</th>\n",
              "      <td>9730432</td>\n",
              "      <td>Private room</td>\n",
              "      <td>2.000</td>\n",
              "      <td>1.000</td>\n",
              "      <td>strict</td>\n",
              "      <td>True</td>\n",
              "      <td>False</td>\n",
              "      <td>95.000</td>\n",
              "      <td>1.000</td>\n",
              "      <td>1.000</td>\n",
              "      <td>4.407</td>\n",
              "      <td>6.432</td>\n",
              "      <td>621.641</td>\n",
              "      <td>-0.133</td>\n",
              "      <td>0.875</td>\n",
              "      <td>619.641</td>\n",
              "    </tr>\n",
              "    <tr>\n",
              "      <th>43875</th>\n",
              "      <td>3469178</td>\n",
              "      <td>Private room</td>\n",
              "      <td>3.000</td>\n",
              "      <td>1.000</td>\n",
              "      <td>strict</td>\n",
              "      <td>True</td>\n",
              "      <td>False</td>\n",
              "      <td>100.000</td>\n",
              "      <td>1.000</td>\n",
              "      <td>1.000</td>\n",
              "      <td>4.500</td>\n",
              "      <td>6.434</td>\n",
              "      <td>622.629</td>\n",
              "      <td>-0.238</td>\n",
              "      <td>0.788</td>\n",
              "      <td>619.629</td>\n",
              "    </tr>\n",
              "    <tr>\n",
              "      <th>66113</th>\n",
              "      <td>20535581</td>\n",
              "      <td>Private room</td>\n",
              "      <td>1.000</td>\n",
              "      <td>2.000</td>\n",
              "      <td>flexible</td>\n",
              "      <td>True</td>\n",
              "      <td>True</td>\n",
              "      <td>96.000</td>\n",
              "      <td>1.000</td>\n",
              "      <td>1.000</td>\n",
              "      <td>3.912</td>\n",
              "      <td>6.420</td>\n",
              "      <td>614.033</td>\n",
              "      <td>0.437</td>\n",
              "      <td>1.549</td>\n",
              "      <td>613.033</td>\n",
              "    </tr>\n",
              "    <tr>\n",
              "      <th>73395</th>\n",
              "      <td>11126756</td>\n",
              "      <td>Entire home/apt</td>\n",
              "      <td>4.000</td>\n",
              "      <td>1.000</td>\n",
              "      <td>flexible</td>\n",
              "      <td>True</td>\n",
              "      <td>False</td>\n",
              "      <td>100.000</td>\n",
              "      <td>1.000</td>\n",
              "      <td>3.000</td>\n",
              "      <td>4.828</td>\n",
              "      <td>6.414</td>\n",
              "      <td>610.086</td>\n",
              "      <td>0.213</td>\n",
              "      <td>1.237</td>\n",
              "      <td>606.086</td>\n",
              "    </tr>\n",
              "    <tr>\n",
              "      <th>62120</th>\n",
              "      <td>11675279</td>\n",
              "      <td>Private room</td>\n",
              "      <td>4.000</td>\n",
              "      <td>1.000</td>\n",
              "      <td>strict</td>\n",
              "      <td>False</td>\n",
              "      <td>True</td>\n",
              "      <td>20.000</td>\n",
              "      <td>1.000</td>\n",
              "      <td>2.000</td>\n",
              "      <td>3.932</td>\n",
              "      <td>6.413</td>\n",
              "      <td>609.492</td>\n",
              "      <td>0.549</td>\n",
              "      <td>1.732</td>\n",
              "      <td>605.492</td>\n",
              "    </tr>\n",
              "    <tr>\n",
              "      <th>58058</th>\n",
              "      <td>8942467</td>\n",
              "      <td>Private room</td>\n",
              "      <td>2.000</td>\n",
              "      <td>1.000</td>\n",
              "      <td>moderate</td>\n",
              "      <td>True</td>\n",
              "      <td>True</td>\n",
              "      <td>92.000</td>\n",
              "      <td>1.000</td>\n",
              "      <td>1.000</td>\n",
              "      <td>3.912</td>\n",
              "      <td>6.408</td>\n",
              "      <td>606.888</td>\n",
              "      <td>0.275</td>\n",
              "      <td>1.317</td>\n",
              "      <td>604.888</td>\n",
              "    </tr>\n",
              "    <tr>\n",
              "      <th>31048</th>\n",
              "      <td>9234132</td>\n",
              "      <td>Entire home/apt</td>\n",
              "      <td>6.000</td>\n",
              "      <td>1.000</td>\n",
              "      <td>strict</td>\n",
              "      <td>True</td>\n",
              "      <td>False</td>\n",
              "      <td>20.000</td>\n",
              "      <td>2.000</td>\n",
              "      <td>3.000</td>\n",
              "      <td>4.860</td>\n",
              "      <td>6.404</td>\n",
              "      <td>604.554</td>\n",
              "      <td>0.574</td>\n",
              "      <td>1.775</td>\n",
              "      <td>598.554</td>\n",
              "    </tr>\n",
              "    <tr>\n",
              "      <th>9889</th>\n",
              "      <td>9550480</td>\n",
              "      <td>Entire home/apt</td>\n",
              "      <td>2.000</td>\n",
              "      <td>1.000</td>\n",
              "      <td>strict</td>\n",
              "      <td>True</td>\n",
              "      <td>False</td>\n",
              "      <td>95.000</td>\n",
              "      <td>0.000</td>\n",
              "      <td>1.000</td>\n",
              "      <td>4.868</td>\n",
              "      <td>6.388</td>\n",
              "      <td>594.493</td>\n",
              "      <td>-0.087</td>\n",
              "      <td>0.917</td>\n",
              "      <td>592.493</td>\n",
              "    </tr>\n",
              "    <tr>\n",
              "      <th>57017</th>\n",
              "      <td>10962069</td>\n",
              "      <td>Private room</td>\n",
              "      <td>2.000</td>\n",
              "      <td>1.000</td>\n",
              "      <td>moderate</td>\n",
              "      <td>True</td>\n",
              "      <td>True</td>\n",
              "      <td>98.000</td>\n",
              "      <td>1.000</td>\n",
              "      <td>1.000</td>\n",
              "      <td>4.094</td>\n",
              "      <td>6.387</td>\n",
              "      <td>593.875</td>\n",
              "      <td>0.079</td>\n",
              "      <td>1.082</td>\n",
              "      <td>591.875</td>\n",
              "    </tr>\n",
              "    <tr>\n",
              "      <th>5815</th>\n",
              "      <td>4227441</td>\n",
              "      <td>Private room</td>\n",
              "      <td>2.000</td>\n",
              "      <td>1.000</td>\n",
              "      <td>strict</td>\n",
              "      <td>False</td>\n",
              "      <td>False</td>\n",
              "      <td>85.000</td>\n",
              "      <td>1.000</td>\n",
              "      <td>1.000</td>\n",
              "      <td>4.615</td>\n",
              "      <td>6.386</td>\n",
              "      <td>593.700</td>\n",
              "      <td>-0.286</td>\n",
              "      <td>0.751</td>\n",
              "      <td>591.700</td>\n",
              "    </tr>\n",
              "    <tr>\n",
              "      <th>21032</th>\n",
              "      <td>17268712</td>\n",
              "      <td>Entire home/apt</td>\n",
              "      <td>3.000</td>\n",
              "      <td>1.000</td>\n",
              "      <td>strict</td>\n",
              "      <td>True</td>\n",
              "      <td>False</td>\n",
              "      <td>100.000</td>\n",
              "      <td>2.000</td>\n",
              "      <td>2.000</td>\n",
              "      <td>5.273</td>\n",
              "      <td>6.387</td>\n",
              "      <td>593.869</td>\n",
              "      <td>-0.079</td>\n",
              "      <td>0.924</td>\n",
              "      <td>590.869</td>\n",
              "    </tr>\n",
              "    <tr>\n",
              "      <th>34894</th>\n",
              "      <td>1691903</td>\n",
              "      <td>Entire home/apt</td>\n",
              "      <td>4.000</td>\n",
              "      <td>1.000</td>\n",
              "      <td>moderate</td>\n",
              "      <td>True</td>\n",
              "      <td>True</td>\n",
              "      <td>99.000</td>\n",
              "      <td>2.000</td>\n",
              "      <td>2.000</td>\n",
              "      <td>5.069</td>\n",
              "      <td>6.388</td>\n",
              "      <td>594.756</td>\n",
              "      <td>0.035</td>\n",
              "      <td>1.036</td>\n",
              "      <td>590.756</td>\n",
              "    </tr>\n",
              "  </tbody>\n",
              "</table>\n",
              "</div>\n",
              "      <button class=\"colab-df-convert\" onclick=\"convertToInteractive('df-bff9c5c6-fb74-4cb4-a6d6-4b2ff543331a')\"\n",
              "              title=\"Convert this dataframe to an interactive table.\"\n",
              "              style=\"display:none;\">\n",
              "        \n",
              "  <svg xmlns=\"http://www.w3.org/2000/svg\" height=\"24px\"viewBox=\"0 0 24 24\"\n",
              "       width=\"24px\">\n",
              "    <path d=\"M0 0h24v24H0V0z\" fill=\"none\"/>\n",
              "    <path d=\"M18.56 5.44l.94 2.06.94-2.06 2.06-.94-2.06-.94-.94-2.06-.94 2.06-2.06.94zm-11 1L8.5 8.5l.94-2.06 2.06-.94-2.06-.94L8.5 2.5l-.94 2.06-2.06.94zm10 10l.94 2.06.94-2.06 2.06-.94-2.06-.94-.94-2.06-.94 2.06-2.06.94z\"/><path d=\"M17.41 7.96l-1.37-1.37c-.4-.4-.92-.59-1.43-.59-.52 0-1.04.2-1.43.59L10.3 9.45l-7.72 7.72c-.78.78-.78 2.05 0 2.83L4 21.41c.39.39.9.59 1.41.59.51 0 1.02-.2 1.41-.59l7.78-7.78 2.81-2.81c.8-.78.8-2.07 0-2.86zM5.41 20L4 18.59l7.72-7.72 1.47 1.35L5.41 20z\"/>\n",
              "  </svg>\n",
              "      </button>\n",
              "      \n",
              "  <style>\n",
              "    .colab-df-container {\n",
              "      display:flex;\n",
              "      flex-wrap:wrap;\n",
              "      gap: 12px;\n",
              "    }\n",
              "\n",
              "    .colab-df-convert {\n",
              "      background-color: #E8F0FE;\n",
              "      border: none;\n",
              "      border-radius: 50%;\n",
              "      cursor: pointer;\n",
              "      display: none;\n",
              "      fill: #1967D2;\n",
              "      height: 32px;\n",
              "      padding: 0 0 0 0;\n",
              "      width: 32px;\n",
              "    }\n",
              "\n",
              "    .colab-df-convert:hover {\n",
              "      background-color: #E2EBFA;\n",
              "      box-shadow: 0px 1px 2px rgba(60, 64, 67, 0.3), 0px 1px 3px 1px rgba(60, 64, 67, 0.15);\n",
              "      fill: #174EA6;\n",
              "    }\n",
              "\n",
              "    [theme=dark] .colab-df-convert {\n",
              "      background-color: #3B4455;\n",
              "      fill: #D2E3FC;\n",
              "    }\n",
              "\n",
              "    [theme=dark] .colab-df-convert:hover {\n",
              "      background-color: #434B5C;\n",
              "      box-shadow: 0px 1px 3px 1px rgba(0, 0, 0, 0.15);\n",
              "      filter: drop-shadow(0px 1px 2px rgba(0, 0, 0, 0.3));\n",
              "      fill: #FFFFFF;\n",
              "    }\n",
              "  </style>\n",
              "\n",
              "      <script>\n",
              "        const buttonEl =\n",
              "          document.querySelector('#df-bff9c5c6-fb74-4cb4-a6d6-4b2ff543331a button.colab-df-convert');\n",
              "        buttonEl.style.display =\n",
              "          google.colab.kernel.accessAllowed ? 'block' : 'none';\n",
              "\n",
              "        async function convertToInteractive(key) {\n",
              "          const element = document.querySelector('#df-bff9c5c6-fb74-4cb4-a6d6-4b2ff543331a');\n",
              "          const dataTable =\n",
              "            await google.colab.kernel.invokeFunction('convertToInteractive',\n",
              "                                                     [key], {});\n",
              "          if (!dataTable) return;\n",
              "\n",
              "          const docLinkHtml = 'Like what you see? Visit the ' +\n",
              "            '<a target=\"_blank\" href=https://colab.research.google.com/notebooks/data_table.ipynb>data table notebook</a>'\n",
              "            + ' to learn more about interactive tables.';\n",
              "          element.innerHTML = '';\n",
              "          dataTable['output_type'] = 'display_data';\n",
              "          await google.colab.output.renderOutput(dataTable, element);\n",
              "          const docLink = document.createElement('div');\n",
              "          docLink.innerHTML = docLinkHtml;\n",
              "          element.appendChild(docLink);\n",
              "        }\n",
              "      </script>\n",
              "    </div>\n",
              "  </div>\n",
              "  "
            ]
          },
          "metadata": {},
          "execution_count": 87
        }
      ],
      "source": [
        "# Extracting the rows from original data frame AirBNB where indexes are same as the training data\n",
        "original_AirBNB = AirBNB[AirBNB.index.isin(x_train2.index.values)].copy()\n",
        "\n",
        "# Extracting predicted values and residuals from the final model\n",
        "fitted_values = lin_reg_model2.predict(x_train2)\n",
        "residuals = fitted_values - y_train\n",
        "\n",
        "# Add new columns for predicted values\n",
        "original_AirBNB[\"Predicted log_price\"] = fitted_values\n",
        "original_AirBNB[\"Predicted accommodates\"] = np.exp(fitted_values)\n",
        "original_AirBNB[\"residuals\"] = residuals\n",
        "original_AirBNB[\"Abs_residuals\"] = np.exp(residuals)\n",
        "original_AirBNB[\"Difference log_price\"] = np.abs(\n",
        "    original_AirBNB[\"accommodates\"] - original_AirBNB[\"Predicted accommodates\"]\n",
        ")\n",
        "\n",
        "# Let us look at the top 50 predictions where our model made highest extimation errors (on train data)\n",
        "original_AirBNB.sort_values(by=[\"Difference log_price\"], ascending=False).head(50)"
      ]
    },
    {
      "cell_type": "markdown",
      "metadata": {
        "id": "kzb3QURQVFhR"
      },
      "source": [
        "# Observations and Conclusions\n",
        "\n",
        "\n",
        "\n",
        "1.  With this linear regression model we have been able to capture ~32% variation in our data.\n",
        "2. The model indicates that the most significant predictors of price of airbnb are - \n",
        "\n",
        "\n",
        "* bathrooms\t                    1.572243e-01\n",
        "* review_scores_rating\t       -2.284615e-03\n",
        "* bedrooms\t                    1.840101e-01\n",
        "* beds\t                        5.669303e-02\n",
        "* room_type_Private room\t   -6.917522e-01\n",
        "* room_type_Shared room\t       -1.167033e+00\n",
        "* cancellation_policy_moderate -1.467851e-02\n",
        "* cancellation_policy_strict    2.585779e-02\n",
        "* cleaning_fee_True\t           -3.240242e-02\n",
        "* instant_bookable_True\t       -5.234383e-02\n",
        "* Intercept\t                    4.791142e+00\n",
        "\n",
        "\n",
        "* The more bedrooms and beds the rental has the higher the price.\n",
        "* If the rental is instant bookable the higher the price\n",
        "* If the rental has bad reviews then lower the rental price.\n",
        "\n",
        "\n",
        "\n",
        "\n"
      ]
    },
    {
      "cell_type": "code",
      "execution_count": 87,
      "metadata": {
        "id": "supeMFQwU27M"
      },
      "outputs": [],
      "source": []
    }
  ],
  "metadata": {
    "colab": {
      "provenance": []
    },
    "kernelspec": {
      "display_name": "Python 3 (ipykernel)",
      "language": "python",
      "name": "python3"
    },
    "language_info": {
      "codemirror_mode": {
        "name": "ipython",
        "version": 3
      },
      "file_extension": ".py",
      "mimetype": "text/x-python",
      "name": "python",
      "nbconvert_exporter": "python",
      "pygments_lexer": "ipython3",
      "version": "3.9.12"
    }
  },
  "nbformat": 4,
  "nbformat_minor": 0
}